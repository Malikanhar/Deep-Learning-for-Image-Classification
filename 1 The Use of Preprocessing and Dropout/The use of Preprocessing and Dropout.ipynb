{
  "nbformat": 4,
  "nbformat_minor": 0,
  "metadata": {
    "colab": {
      "name": "The use of Preprocessing and Dropout.ipynb",
      "provenance": [],
      "collapsed_sections": [],
      "machine_shape": "hm"
    },
    "kernelspec": {
      "name": "python3",
      "display_name": "Python 3"
    },
    "accelerator": "GPU",
    "widgets": {
      "application/vnd.jupyter.widget-state+json": {
        "e9716a6d39f94ab1bb61d54a2843a832": {
          "model_module": "@jupyter-widgets/controls",
          "model_name": "HBoxModel",
          "state": {
            "_view_name": "HBoxView",
            "_dom_classes": [],
            "_model_name": "HBoxModel",
            "_view_module": "@jupyter-widgets/controls",
            "_model_module_version": "1.5.0",
            "_view_count": null,
            "_view_module_version": "1.5.0",
            "box_style": "",
            "layout": "IPY_MODEL_b762317efe144bae8d411f3ff1678ffc",
            "_model_module": "@jupyter-widgets/controls",
            "children": [
              "IPY_MODEL_827b2995fad34e5796e4299c531be877",
              "IPY_MODEL_17c283addcb6494a871ba66c8e2a0620"
            ]
          }
        },
        "b762317efe144bae8d411f3ff1678ffc": {
          "model_module": "@jupyter-widgets/base",
          "model_name": "LayoutModel",
          "state": {
            "_view_name": "LayoutView",
            "grid_template_rows": null,
            "right": null,
            "justify_content": null,
            "_view_module": "@jupyter-widgets/base",
            "overflow": null,
            "_model_module_version": "1.2.0",
            "_view_count": null,
            "flex_flow": null,
            "width": null,
            "min_width": null,
            "border": null,
            "align_items": null,
            "bottom": null,
            "_model_module": "@jupyter-widgets/base",
            "top": null,
            "grid_column": null,
            "overflow_y": null,
            "overflow_x": null,
            "grid_auto_flow": null,
            "grid_area": null,
            "grid_template_columns": null,
            "flex": null,
            "_model_name": "LayoutModel",
            "justify_items": null,
            "grid_row": null,
            "max_height": null,
            "align_content": null,
            "visibility": null,
            "align_self": null,
            "height": null,
            "min_height": null,
            "padding": null,
            "grid_auto_rows": null,
            "grid_gap": null,
            "max_width": null,
            "order": null,
            "_view_module_version": "1.2.0",
            "grid_template_areas": null,
            "object_position": null,
            "object_fit": null,
            "grid_auto_columns": null,
            "margin": null,
            "display": null,
            "left": null
          }
        },
        "827b2995fad34e5796e4299c531be877": {
          "model_module": "@jupyter-widgets/controls",
          "model_name": "IntProgressModel",
          "state": {
            "_view_name": "ProgressView",
            "style": "IPY_MODEL_fd541e93a016497b928590c010931ab6",
            "_dom_classes": [],
            "description": "Dl Completed...: 100%",
            "_model_name": "IntProgressModel",
            "bar_style": "success",
            "max": 1,
            "_view_module": "@jupyter-widgets/controls",
            "_model_module_version": "1.5.0",
            "value": 1,
            "_view_count": null,
            "_view_module_version": "1.5.0",
            "orientation": "horizontal",
            "min": 0,
            "description_tooltip": null,
            "_model_module": "@jupyter-widgets/controls",
            "layout": "IPY_MODEL_905901c8bd804b0e891a289648f00ac8"
          }
        },
        "17c283addcb6494a871ba66c8e2a0620": {
          "model_module": "@jupyter-widgets/controls",
          "model_name": "HTMLModel",
          "state": {
            "_view_name": "HTMLView",
            "style": "IPY_MODEL_63d87ab29d4b4063a9cdd692e234fb54",
            "_dom_classes": [],
            "description": "",
            "_model_name": "HTMLModel",
            "placeholder": "​",
            "_view_module": "@jupyter-widgets/controls",
            "_model_module_version": "1.5.0",
            "value": " 1/1 [00:29&lt;00:00, 29.25s/ url]",
            "_view_count": null,
            "_view_module_version": "1.5.0",
            "description_tooltip": null,
            "_model_module": "@jupyter-widgets/controls",
            "layout": "IPY_MODEL_824b1597a75f46e8af4dd8097d27c9a6"
          }
        },
        "fd541e93a016497b928590c010931ab6": {
          "model_module": "@jupyter-widgets/controls",
          "model_name": "ProgressStyleModel",
          "state": {
            "_view_name": "StyleView",
            "_model_name": "ProgressStyleModel",
            "description_width": "initial",
            "_view_module": "@jupyter-widgets/base",
            "_model_module_version": "1.5.0",
            "_view_count": null,
            "_view_module_version": "1.2.0",
            "bar_color": null,
            "_model_module": "@jupyter-widgets/controls"
          }
        },
        "905901c8bd804b0e891a289648f00ac8": {
          "model_module": "@jupyter-widgets/base",
          "model_name": "LayoutModel",
          "state": {
            "_view_name": "LayoutView",
            "grid_template_rows": null,
            "right": null,
            "justify_content": null,
            "_view_module": "@jupyter-widgets/base",
            "overflow": null,
            "_model_module_version": "1.2.0",
            "_view_count": null,
            "flex_flow": null,
            "width": null,
            "min_width": null,
            "border": null,
            "align_items": null,
            "bottom": null,
            "_model_module": "@jupyter-widgets/base",
            "top": null,
            "grid_column": null,
            "overflow_y": null,
            "overflow_x": null,
            "grid_auto_flow": null,
            "grid_area": null,
            "grid_template_columns": null,
            "flex": null,
            "_model_name": "LayoutModel",
            "justify_items": null,
            "grid_row": null,
            "max_height": null,
            "align_content": null,
            "visibility": null,
            "align_self": null,
            "height": null,
            "min_height": null,
            "padding": null,
            "grid_auto_rows": null,
            "grid_gap": null,
            "max_width": null,
            "order": null,
            "_view_module_version": "1.2.0",
            "grid_template_areas": null,
            "object_position": null,
            "object_fit": null,
            "grid_auto_columns": null,
            "margin": null,
            "display": null,
            "left": null
          }
        },
        "63d87ab29d4b4063a9cdd692e234fb54": {
          "model_module": "@jupyter-widgets/controls",
          "model_name": "DescriptionStyleModel",
          "state": {
            "_view_name": "StyleView",
            "_model_name": "DescriptionStyleModel",
            "description_width": "",
            "_view_module": "@jupyter-widgets/base",
            "_model_module_version": "1.5.0",
            "_view_count": null,
            "_view_module_version": "1.2.0",
            "_model_module": "@jupyter-widgets/controls"
          }
        },
        "824b1597a75f46e8af4dd8097d27c9a6": {
          "model_module": "@jupyter-widgets/base",
          "model_name": "LayoutModel",
          "state": {
            "_view_name": "LayoutView",
            "grid_template_rows": null,
            "right": null,
            "justify_content": null,
            "_view_module": "@jupyter-widgets/base",
            "overflow": null,
            "_model_module_version": "1.2.0",
            "_view_count": null,
            "flex_flow": null,
            "width": null,
            "min_width": null,
            "border": null,
            "align_items": null,
            "bottom": null,
            "_model_module": "@jupyter-widgets/base",
            "top": null,
            "grid_column": null,
            "overflow_y": null,
            "overflow_x": null,
            "grid_auto_flow": null,
            "grid_area": null,
            "grid_template_columns": null,
            "flex": null,
            "_model_name": "LayoutModel",
            "justify_items": null,
            "grid_row": null,
            "max_height": null,
            "align_content": null,
            "visibility": null,
            "align_self": null,
            "height": null,
            "min_height": null,
            "padding": null,
            "grid_auto_rows": null,
            "grid_gap": null,
            "max_width": null,
            "order": null,
            "_view_module_version": "1.2.0",
            "grid_template_areas": null,
            "object_position": null,
            "object_fit": null,
            "grid_auto_columns": null,
            "margin": null,
            "display": null,
            "left": null
          }
        },
        "8c1edba8c02545e0abccd9b05c9ed792": {
          "model_module": "@jupyter-widgets/controls",
          "model_name": "HBoxModel",
          "state": {
            "_view_name": "HBoxView",
            "_dom_classes": [],
            "_model_name": "HBoxModel",
            "_view_module": "@jupyter-widgets/controls",
            "_model_module_version": "1.5.0",
            "_view_count": null,
            "_view_module_version": "1.5.0",
            "box_style": "",
            "layout": "IPY_MODEL_d4d984f4966344289a81c4b2c4541b2d",
            "_model_module": "@jupyter-widgets/controls",
            "children": [
              "IPY_MODEL_fb470031d5b24864b59e9edc5bb4d32d",
              "IPY_MODEL_6ee52a63a90248b18d8a9ac9088c33f5"
            ]
          }
        },
        "d4d984f4966344289a81c4b2c4541b2d": {
          "model_module": "@jupyter-widgets/base",
          "model_name": "LayoutModel",
          "state": {
            "_view_name": "LayoutView",
            "grid_template_rows": null,
            "right": null,
            "justify_content": null,
            "_view_module": "@jupyter-widgets/base",
            "overflow": null,
            "_model_module_version": "1.2.0",
            "_view_count": null,
            "flex_flow": null,
            "width": null,
            "min_width": null,
            "border": null,
            "align_items": null,
            "bottom": null,
            "_model_module": "@jupyter-widgets/base",
            "top": null,
            "grid_column": null,
            "overflow_y": null,
            "overflow_x": null,
            "grid_auto_flow": null,
            "grid_area": null,
            "grid_template_columns": null,
            "flex": null,
            "_model_name": "LayoutModel",
            "justify_items": null,
            "grid_row": null,
            "max_height": null,
            "align_content": null,
            "visibility": null,
            "align_self": null,
            "height": null,
            "min_height": null,
            "padding": null,
            "grid_auto_rows": null,
            "grid_gap": null,
            "max_width": null,
            "order": null,
            "_view_module_version": "1.2.0",
            "grid_template_areas": null,
            "object_position": null,
            "object_fit": null,
            "grid_auto_columns": null,
            "margin": null,
            "display": null,
            "left": null
          }
        },
        "fb470031d5b24864b59e9edc5bb4d32d": {
          "model_module": "@jupyter-widgets/controls",
          "model_name": "IntProgressModel",
          "state": {
            "_view_name": "ProgressView",
            "style": "IPY_MODEL_9c40953b49bc4fe7bc648d3a7f58cccd",
            "_dom_classes": [],
            "description": "Dl Size...: 100%",
            "_model_name": "IntProgressModel",
            "bar_style": "success",
            "max": 1,
            "_view_module": "@jupyter-widgets/controls",
            "_model_module_version": "1.5.0",
            "value": 1,
            "_view_count": null,
            "_view_module_version": "1.5.0",
            "orientation": "horizontal",
            "min": 0,
            "description_tooltip": null,
            "_model_module": "@jupyter-widgets/controls",
            "layout": "IPY_MODEL_4fc3f8f6a3b344e6aa36030712f2ebcc"
          }
        },
        "6ee52a63a90248b18d8a9ac9088c33f5": {
          "model_module": "@jupyter-widgets/controls",
          "model_name": "HTMLModel",
          "state": {
            "_view_name": "HTMLView",
            "style": "IPY_MODEL_6c11df19489c46718857e31eba6ae5f4",
            "_dom_classes": [],
            "description": "",
            "_model_name": "HTMLModel",
            "placeholder": "​",
            "_view_module": "@jupyter-widgets/controls",
            "_model_module_version": "1.5.0",
            "value": " 786/786 [00:29&lt;00:00, 26.90 MiB/s]",
            "_view_count": null,
            "_view_module_version": "1.5.0",
            "description_tooltip": null,
            "_model_module": "@jupyter-widgets/controls",
            "layout": "IPY_MODEL_6f6e76c3f9624eb5bd1caf9f1967cfa5"
          }
        },
        "9c40953b49bc4fe7bc648d3a7f58cccd": {
          "model_module": "@jupyter-widgets/controls",
          "model_name": "ProgressStyleModel",
          "state": {
            "_view_name": "StyleView",
            "_model_name": "ProgressStyleModel",
            "description_width": "initial",
            "_view_module": "@jupyter-widgets/base",
            "_model_module_version": "1.5.0",
            "_view_count": null,
            "_view_module_version": "1.2.0",
            "bar_color": null,
            "_model_module": "@jupyter-widgets/controls"
          }
        },
        "4fc3f8f6a3b344e6aa36030712f2ebcc": {
          "model_module": "@jupyter-widgets/base",
          "model_name": "LayoutModel",
          "state": {
            "_view_name": "LayoutView",
            "grid_template_rows": null,
            "right": null,
            "justify_content": null,
            "_view_module": "@jupyter-widgets/base",
            "overflow": null,
            "_model_module_version": "1.2.0",
            "_view_count": null,
            "flex_flow": null,
            "width": null,
            "min_width": null,
            "border": null,
            "align_items": null,
            "bottom": null,
            "_model_module": "@jupyter-widgets/base",
            "top": null,
            "grid_column": null,
            "overflow_y": null,
            "overflow_x": null,
            "grid_auto_flow": null,
            "grid_area": null,
            "grid_template_columns": null,
            "flex": null,
            "_model_name": "LayoutModel",
            "justify_items": null,
            "grid_row": null,
            "max_height": null,
            "align_content": null,
            "visibility": null,
            "align_self": null,
            "height": null,
            "min_height": null,
            "padding": null,
            "grid_auto_rows": null,
            "grid_gap": null,
            "max_width": null,
            "order": null,
            "_view_module_version": "1.2.0",
            "grid_template_areas": null,
            "object_position": null,
            "object_fit": null,
            "grid_auto_columns": null,
            "margin": null,
            "display": null,
            "left": null
          }
        },
        "6c11df19489c46718857e31eba6ae5f4": {
          "model_module": "@jupyter-widgets/controls",
          "model_name": "DescriptionStyleModel",
          "state": {
            "_view_name": "StyleView",
            "_model_name": "DescriptionStyleModel",
            "description_width": "",
            "_view_module": "@jupyter-widgets/base",
            "_model_module_version": "1.5.0",
            "_view_count": null,
            "_view_module_version": "1.2.0",
            "_model_module": "@jupyter-widgets/controls"
          }
        },
        "6f6e76c3f9624eb5bd1caf9f1967cfa5": {
          "model_module": "@jupyter-widgets/base",
          "model_name": "LayoutModel",
          "state": {
            "_view_name": "LayoutView",
            "grid_template_rows": null,
            "right": null,
            "justify_content": null,
            "_view_module": "@jupyter-widgets/base",
            "overflow": null,
            "_model_module_version": "1.2.0",
            "_view_count": null,
            "flex_flow": null,
            "width": null,
            "min_width": null,
            "border": null,
            "align_items": null,
            "bottom": null,
            "_model_module": "@jupyter-widgets/base",
            "top": null,
            "grid_column": null,
            "overflow_y": null,
            "overflow_x": null,
            "grid_auto_flow": null,
            "grid_area": null,
            "grid_template_columns": null,
            "flex": null,
            "_model_name": "LayoutModel",
            "justify_items": null,
            "grid_row": null,
            "max_height": null,
            "align_content": null,
            "visibility": null,
            "align_self": null,
            "height": null,
            "min_height": null,
            "padding": null,
            "grid_auto_rows": null,
            "grid_gap": null,
            "max_width": null,
            "order": null,
            "_view_module_version": "1.2.0",
            "grid_template_areas": null,
            "object_position": null,
            "object_fit": null,
            "grid_auto_columns": null,
            "margin": null,
            "display": null,
            "left": null
          }
        },
        "ed994ceaa82a4900b56a631e246df378": {
          "model_module": "@jupyter-widgets/controls",
          "model_name": "HBoxModel",
          "state": {
            "_view_name": "HBoxView",
            "_dom_classes": [],
            "_model_name": "HBoxModel",
            "_view_module": "@jupyter-widgets/controls",
            "_model_module_version": "1.5.0",
            "_view_count": null,
            "_view_module_version": "1.5.0",
            "box_style": "",
            "layout": "IPY_MODEL_bf061f4ff9a7446ca00f69320da77fd8",
            "_model_module": "@jupyter-widgets/controls",
            "children": [
              "IPY_MODEL_23de1d3ff1224c5ab425d46fabc99134",
              "IPY_MODEL_4cbe7b96955644d6b18ac306c0ccfb48"
            ]
          }
        },
        "bf061f4ff9a7446ca00f69320da77fd8": {
          "model_module": "@jupyter-widgets/base",
          "model_name": "LayoutModel",
          "state": {
            "_view_name": "LayoutView",
            "grid_template_rows": null,
            "right": null,
            "justify_content": null,
            "_view_module": "@jupyter-widgets/base",
            "overflow": null,
            "_model_module_version": "1.2.0",
            "_view_count": null,
            "flex_flow": null,
            "width": null,
            "min_width": null,
            "border": null,
            "align_items": null,
            "bottom": null,
            "_model_module": "@jupyter-widgets/base",
            "top": null,
            "grid_column": null,
            "overflow_y": null,
            "overflow_x": null,
            "grid_auto_flow": null,
            "grid_area": null,
            "grid_template_columns": null,
            "flex": null,
            "_model_name": "LayoutModel",
            "justify_items": null,
            "grid_row": null,
            "max_height": null,
            "align_content": null,
            "visibility": null,
            "align_self": null,
            "height": null,
            "min_height": null,
            "padding": null,
            "grid_auto_rows": null,
            "grid_gap": null,
            "max_width": null,
            "order": null,
            "_view_module_version": "1.2.0",
            "grid_template_areas": null,
            "object_position": null,
            "object_fit": null,
            "grid_auto_columns": null,
            "margin": null,
            "display": null,
            "left": null
          }
        },
        "23de1d3ff1224c5ab425d46fabc99134": {
          "model_module": "@jupyter-widgets/controls",
          "model_name": "IntProgressModel",
          "state": {
            "_view_name": "ProgressView",
            "style": "IPY_MODEL_c09ba50beb9d4d5a98844c6fdb4eaa2f",
            "_dom_classes": [],
            "description": "",
            "_model_name": "IntProgressModel",
            "bar_style": "info",
            "max": 1,
            "_view_module": "@jupyter-widgets/controls",
            "_model_module_version": "1.5.0",
            "value": 1,
            "_view_count": null,
            "_view_module_version": "1.5.0",
            "orientation": "horizontal",
            "min": 0,
            "description_tooltip": null,
            "_model_module": "@jupyter-widgets/controls",
            "layout": "IPY_MODEL_7b3fba4aaf9342e89077fd9fcd12a047"
          }
        },
        "4cbe7b96955644d6b18ac306c0ccfb48": {
          "model_module": "@jupyter-widgets/controls",
          "model_name": "HTMLModel",
          "state": {
            "_view_name": "HTMLView",
            "style": "IPY_MODEL_8e92515950b64010aa92ad4966116e9d",
            "_dom_classes": [],
            "description": "",
            "_model_name": "HTMLModel",
            "placeholder": "​",
            "_view_module": "@jupyter-widgets/controls",
            "_model_module_version": "1.5.0",
            "value": " 23262/0 [00:18&lt;00:00, 1243.22 examples/s]",
            "_view_count": null,
            "_view_module_version": "1.5.0",
            "description_tooltip": null,
            "_model_module": "@jupyter-widgets/controls",
            "layout": "IPY_MODEL_38f21e566b184e4ebfd4572158964afe"
          }
        },
        "c09ba50beb9d4d5a98844c6fdb4eaa2f": {
          "model_module": "@jupyter-widgets/controls",
          "model_name": "ProgressStyleModel",
          "state": {
            "_view_name": "StyleView",
            "_model_name": "ProgressStyleModel",
            "description_width": "initial",
            "_view_module": "@jupyter-widgets/base",
            "_model_module_version": "1.5.0",
            "_view_count": null,
            "_view_module_version": "1.2.0",
            "bar_color": null,
            "_model_module": "@jupyter-widgets/controls"
          }
        },
        "7b3fba4aaf9342e89077fd9fcd12a047": {
          "model_module": "@jupyter-widgets/base",
          "model_name": "LayoutModel",
          "state": {
            "_view_name": "LayoutView",
            "grid_template_rows": null,
            "right": null,
            "justify_content": null,
            "_view_module": "@jupyter-widgets/base",
            "overflow": null,
            "_model_module_version": "1.2.0",
            "_view_count": null,
            "flex_flow": null,
            "width": null,
            "min_width": null,
            "border": null,
            "align_items": null,
            "bottom": null,
            "_model_module": "@jupyter-widgets/base",
            "top": null,
            "grid_column": null,
            "overflow_y": null,
            "overflow_x": null,
            "grid_auto_flow": null,
            "grid_area": null,
            "grid_template_columns": null,
            "flex": null,
            "_model_name": "LayoutModel",
            "justify_items": null,
            "grid_row": null,
            "max_height": null,
            "align_content": null,
            "visibility": null,
            "align_self": null,
            "height": null,
            "min_height": null,
            "padding": null,
            "grid_auto_rows": null,
            "grid_gap": null,
            "max_width": null,
            "order": null,
            "_view_module_version": "1.2.0",
            "grid_template_areas": null,
            "object_position": null,
            "object_fit": null,
            "grid_auto_columns": null,
            "margin": null,
            "display": null,
            "left": null
          }
        },
        "8e92515950b64010aa92ad4966116e9d": {
          "model_module": "@jupyter-widgets/controls",
          "model_name": "DescriptionStyleModel",
          "state": {
            "_view_name": "StyleView",
            "_model_name": "DescriptionStyleModel",
            "description_width": "",
            "_view_module": "@jupyter-widgets/base",
            "_model_module_version": "1.5.0",
            "_view_count": null,
            "_view_module_version": "1.2.0",
            "_model_module": "@jupyter-widgets/controls"
          }
        },
        "38f21e566b184e4ebfd4572158964afe": {
          "model_module": "@jupyter-widgets/base",
          "model_name": "LayoutModel",
          "state": {
            "_view_name": "LayoutView",
            "grid_template_rows": null,
            "right": null,
            "justify_content": null,
            "_view_module": "@jupyter-widgets/base",
            "overflow": null,
            "_model_module_version": "1.2.0",
            "_view_count": null,
            "flex_flow": null,
            "width": null,
            "min_width": null,
            "border": null,
            "align_items": null,
            "bottom": null,
            "_model_module": "@jupyter-widgets/base",
            "top": null,
            "grid_column": null,
            "overflow_y": null,
            "overflow_x": null,
            "grid_auto_flow": null,
            "grid_area": null,
            "grid_template_columns": null,
            "flex": null,
            "_model_name": "LayoutModel",
            "justify_items": null,
            "grid_row": null,
            "max_height": null,
            "align_content": null,
            "visibility": null,
            "align_self": null,
            "height": null,
            "min_height": null,
            "padding": null,
            "grid_auto_rows": null,
            "grid_gap": null,
            "max_width": null,
            "order": null,
            "_view_module_version": "1.2.0",
            "grid_template_areas": null,
            "object_position": null,
            "object_fit": null,
            "grid_auto_columns": null,
            "margin": null,
            "display": null,
            "left": null
          }
        },
        "f5c3e19ca98b4ea081ea4e7bada10f00": {
          "model_module": "@jupyter-widgets/controls",
          "model_name": "HBoxModel",
          "state": {
            "_view_name": "HBoxView",
            "_dom_classes": [],
            "_model_name": "HBoxModel",
            "_view_module": "@jupyter-widgets/controls",
            "_model_module_version": "1.5.0",
            "_view_count": null,
            "_view_module_version": "1.5.0",
            "box_style": "",
            "layout": "IPY_MODEL_5fac26b3550a4f83ba016131a4a00c57",
            "_model_module": "@jupyter-widgets/controls",
            "children": [
              "IPY_MODEL_791ecfb6ac4e4ff6bd582512f8a3ffea",
              "IPY_MODEL_ae6770d90bf546e1812d1cd749508f78"
            ]
          }
        },
        "5fac26b3550a4f83ba016131a4a00c57": {
          "model_module": "@jupyter-widgets/base",
          "model_name": "LayoutModel",
          "state": {
            "_view_name": "LayoutView",
            "grid_template_rows": null,
            "right": null,
            "justify_content": null,
            "_view_module": "@jupyter-widgets/base",
            "overflow": null,
            "_model_module_version": "1.2.0",
            "_view_count": null,
            "flex_flow": null,
            "width": null,
            "min_width": null,
            "border": null,
            "align_items": null,
            "bottom": null,
            "_model_module": "@jupyter-widgets/base",
            "top": null,
            "grid_column": null,
            "overflow_y": null,
            "overflow_x": null,
            "grid_auto_flow": null,
            "grid_area": null,
            "grid_template_columns": null,
            "flex": null,
            "_model_name": "LayoutModel",
            "justify_items": null,
            "grid_row": null,
            "max_height": null,
            "align_content": null,
            "visibility": null,
            "align_self": null,
            "height": null,
            "min_height": null,
            "padding": null,
            "grid_auto_rows": null,
            "grid_gap": null,
            "max_width": null,
            "order": null,
            "_view_module_version": "1.2.0",
            "grid_template_areas": null,
            "object_position": null,
            "object_fit": null,
            "grid_auto_columns": null,
            "margin": null,
            "display": null,
            "left": null
          }
        },
        "791ecfb6ac4e4ff6bd582512f8a3ffea": {
          "model_module": "@jupyter-widgets/controls",
          "model_name": "IntProgressModel",
          "state": {
            "_view_name": "ProgressView",
            "style": "IPY_MODEL_b0498775b8a447dfa0b70402071311ad",
            "_dom_classes": [],
            "description": " 95%",
            "_model_name": "IntProgressModel",
            "bar_style": "danger",
            "max": 23262,
            "_view_module": "@jupyter-widgets/controls",
            "_model_module_version": "1.5.0",
            "value": 22120,
            "_view_count": null,
            "_view_module_version": "1.5.0",
            "orientation": "horizontal",
            "min": 0,
            "description_tooltip": null,
            "_model_module": "@jupyter-widgets/controls",
            "layout": "IPY_MODEL_0b84cb13f838499b97b82c874784c963"
          }
        },
        "ae6770d90bf546e1812d1cd749508f78": {
          "model_module": "@jupyter-widgets/controls",
          "model_name": "HTMLModel",
          "state": {
            "_view_name": "HTMLView",
            "style": "IPY_MODEL_8d64b6a802074575b9702cea0f4495c5",
            "_dom_classes": [],
            "description": "",
            "_model_name": "HTMLModel",
            "placeholder": "​",
            "_view_module": "@jupyter-widgets/controls",
            "_model_module_version": "1.5.0",
            "value": " 22120/23262 [00:03&lt;00:00, 21584.85 examples/s]",
            "_view_count": null,
            "_view_module_version": "1.5.0",
            "description_tooltip": null,
            "_model_module": "@jupyter-widgets/controls",
            "layout": "IPY_MODEL_812508f65d38431e8fad0aa80fc14fcb"
          }
        },
        "b0498775b8a447dfa0b70402071311ad": {
          "model_module": "@jupyter-widgets/controls",
          "model_name": "ProgressStyleModel",
          "state": {
            "_view_name": "StyleView",
            "_model_name": "ProgressStyleModel",
            "description_width": "initial",
            "_view_module": "@jupyter-widgets/base",
            "_model_module_version": "1.5.0",
            "_view_count": null,
            "_view_module_version": "1.2.0",
            "bar_color": null,
            "_model_module": "@jupyter-widgets/controls"
          }
        },
        "0b84cb13f838499b97b82c874784c963": {
          "model_module": "@jupyter-widgets/base",
          "model_name": "LayoutModel",
          "state": {
            "_view_name": "LayoutView",
            "grid_template_rows": null,
            "right": null,
            "justify_content": null,
            "_view_module": "@jupyter-widgets/base",
            "overflow": null,
            "_model_module_version": "1.2.0",
            "_view_count": null,
            "flex_flow": null,
            "width": null,
            "min_width": null,
            "border": null,
            "align_items": null,
            "bottom": null,
            "_model_module": "@jupyter-widgets/base",
            "top": null,
            "grid_column": null,
            "overflow_y": null,
            "overflow_x": null,
            "grid_auto_flow": null,
            "grid_area": null,
            "grid_template_columns": null,
            "flex": null,
            "_model_name": "LayoutModel",
            "justify_items": null,
            "grid_row": null,
            "max_height": null,
            "align_content": null,
            "visibility": null,
            "align_self": null,
            "height": null,
            "min_height": null,
            "padding": null,
            "grid_auto_rows": null,
            "grid_gap": null,
            "max_width": null,
            "order": null,
            "_view_module_version": "1.2.0",
            "grid_template_areas": null,
            "object_position": null,
            "object_fit": null,
            "grid_auto_columns": null,
            "margin": null,
            "display": null,
            "left": null
          }
        },
        "8d64b6a802074575b9702cea0f4495c5": {
          "model_module": "@jupyter-widgets/controls",
          "model_name": "DescriptionStyleModel",
          "state": {
            "_view_name": "StyleView",
            "_model_name": "DescriptionStyleModel",
            "description_width": "",
            "_view_module": "@jupyter-widgets/base",
            "_model_module_version": "1.5.0",
            "_view_count": null,
            "_view_module_version": "1.2.0",
            "_model_module": "@jupyter-widgets/controls"
          }
        },
        "812508f65d38431e8fad0aa80fc14fcb": {
          "model_module": "@jupyter-widgets/base",
          "model_name": "LayoutModel",
          "state": {
            "_view_name": "LayoutView",
            "grid_template_rows": null,
            "right": null,
            "justify_content": null,
            "_view_module": "@jupyter-widgets/base",
            "overflow": null,
            "_model_module_version": "1.2.0",
            "_view_count": null,
            "flex_flow": null,
            "width": null,
            "min_width": null,
            "border": null,
            "align_items": null,
            "bottom": null,
            "_model_module": "@jupyter-widgets/base",
            "top": null,
            "grid_column": null,
            "overflow_y": null,
            "overflow_x": null,
            "grid_auto_flow": null,
            "grid_area": null,
            "grid_template_columns": null,
            "flex": null,
            "_model_name": "LayoutModel",
            "justify_items": null,
            "grid_row": null,
            "max_height": null,
            "align_content": null,
            "visibility": null,
            "align_self": null,
            "height": null,
            "min_height": null,
            "padding": null,
            "grid_auto_rows": null,
            "grid_gap": null,
            "max_width": null,
            "order": null,
            "_view_module_version": "1.2.0",
            "grid_template_areas": null,
            "object_position": null,
            "object_fit": null,
            "grid_auto_columns": null,
            "margin": null,
            "display": null,
            "left": null
          }
        },
        "409b38ce4cba4398abe6e823d4b553e8": {
          "model_module": "@jupyter-widgets/controls",
          "model_name": "HBoxModel",
          "state": {
            "_view_name": "HBoxView",
            "_dom_classes": [],
            "_model_name": "HBoxModel",
            "_view_module": "@jupyter-widgets/controls",
            "_model_module_version": "1.5.0",
            "_view_count": null,
            "_view_module_version": "1.5.0",
            "box_style": "",
            "layout": "IPY_MODEL_aa2e89540d764d08a14d57b48715f147",
            "_model_module": "@jupyter-widgets/controls",
            "children": [
              "IPY_MODEL_093df2fa9ba14abb9cd5285e7a251e79",
              "IPY_MODEL_c01aa13356d64bd6adfe23b71f6cff24"
            ]
          }
        },
        "aa2e89540d764d08a14d57b48715f147": {
          "model_module": "@jupyter-widgets/base",
          "model_name": "LayoutModel",
          "state": {
            "_view_name": "LayoutView",
            "grid_template_rows": null,
            "right": null,
            "justify_content": null,
            "_view_module": "@jupyter-widgets/base",
            "overflow": null,
            "_model_module_version": "1.2.0",
            "_view_count": null,
            "flex_flow": null,
            "width": null,
            "min_width": null,
            "border": null,
            "align_items": null,
            "bottom": null,
            "_model_module": "@jupyter-widgets/base",
            "top": null,
            "grid_column": null,
            "overflow_y": null,
            "overflow_x": null,
            "grid_auto_flow": null,
            "grid_area": null,
            "grid_template_columns": null,
            "flex": null,
            "_model_name": "LayoutModel",
            "justify_items": null,
            "grid_row": null,
            "max_height": null,
            "align_content": null,
            "visibility": null,
            "align_self": null,
            "height": null,
            "min_height": null,
            "padding": null,
            "grid_auto_rows": null,
            "grid_gap": null,
            "max_width": null,
            "order": null,
            "_view_module_version": "1.2.0",
            "grid_template_areas": null,
            "object_position": null,
            "object_fit": null,
            "grid_auto_columns": null,
            "margin": null,
            "display": null,
            "left": null
          }
        },
        "093df2fa9ba14abb9cd5285e7a251e79": {
          "model_module": "@jupyter-widgets/controls",
          "model_name": "IntProgressModel",
          "state": {
            "_view_name": "ProgressView",
            "style": "IPY_MODEL_401e105d640744babb86274c581ee883",
            "_dom_classes": [],
            "description": "Computing statistics...: 100%",
            "_model_name": "IntProgressModel",
            "bar_style": "success",
            "max": 1,
            "_view_module": "@jupyter-widgets/controls",
            "_model_module_version": "1.5.0",
            "value": 1,
            "_view_count": null,
            "_view_module_version": "1.5.0",
            "orientation": "horizontal",
            "min": 0,
            "description_tooltip": null,
            "_model_module": "@jupyter-widgets/controls",
            "layout": "IPY_MODEL_ee10d4da8e844b9ca86aad7624d77e0b"
          }
        },
        "c01aa13356d64bd6adfe23b71f6cff24": {
          "model_module": "@jupyter-widgets/controls",
          "model_name": "HTMLModel",
          "state": {
            "_view_name": "HTMLView",
            "style": "IPY_MODEL_dcd0a756d70a4190b4600d3af63bb7f4",
            "_dom_classes": [],
            "description": "",
            "_model_name": "HTMLModel",
            "placeholder": "​",
            "_view_module": "@jupyter-widgets/controls",
            "_model_module_version": "1.5.0",
            "value": " 1/1 [01:27&lt;00:00, 87.63s/ split]",
            "_view_count": null,
            "_view_module_version": "1.5.0",
            "description_tooltip": null,
            "_model_module": "@jupyter-widgets/controls",
            "layout": "IPY_MODEL_fb6333bd8e43483bb95f0729d404bb99"
          }
        },
        "401e105d640744babb86274c581ee883": {
          "model_module": "@jupyter-widgets/controls",
          "model_name": "ProgressStyleModel",
          "state": {
            "_view_name": "StyleView",
            "_model_name": "ProgressStyleModel",
            "description_width": "initial",
            "_view_module": "@jupyter-widgets/base",
            "_model_module_version": "1.5.0",
            "_view_count": null,
            "_view_module_version": "1.2.0",
            "bar_color": null,
            "_model_module": "@jupyter-widgets/controls"
          }
        },
        "ee10d4da8e844b9ca86aad7624d77e0b": {
          "model_module": "@jupyter-widgets/base",
          "model_name": "LayoutModel",
          "state": {
            "_view_name": "LayoutView",
            "grid_template_rows": null,
            "right": null,
            "justify_content": null,
            "_view_module": "@jupyter-widgets/base",
            "overflow": null,
            "_model_module_version": "1.2.0",
            "_view_count": null,
            "flex_flow": null,
            "width": null,
            "min_width": null,
            "border": null,
            "align_items": null,
            "bottom": null,
            "_model_module": "@jupyter-widgets/base",
            "top": null,
            "grid_column": null,
            "overflow_y": null,
            "overflow_x": null,
            "grid_auto_flow": null,
            "grid_area": null,
            "grid_template_columns": null,
            "flex": null,
            "_model_name": "LayoutModel",
            "justify_items": null,
            "grid_row": null,
            "max_height": null,
            "align_content": null,
            "visibility": null,
            "align_self": null,
            "height": null,
            "min_height": null,
            "padding": null,
            "grid_auto_rows": null,
            "grid_gap": null,
            "max_width": null,
            "order": null,
            "_view_module_version": "1.2.0",
            "grid_template_areas": null,
            "object_position": null,
            "object_fit": null,
            "grid_auto_columns": null,
            "margin": null,
            "display": null,
            "left": null
          }
        },
        "dcd0a756d70a4190b4600d3af63bb7f4": {
          "model_module": "@jupyter-widgets/controls",
          "model_name": "DescriptionStyleModel",
          "state": {
            "_view_name": "StyleView",
            "_model_name": "DescriptionStyleModel",
            "description_width": "",
            "_view_module": "@jupyter-widgets/base",
            "_model_module_version": "1.5.0",
            "_view_count": null,
            "_view_module_version": "1.2.0",
            "_model_module": "@jupyter-widgets/controls"
          }
        },
        "fb6333bd8e43483bb95f0729d404bb99": {
          "model_module": "@jupyter-widgets/base",
          "model_name": "LayoutModel",
          "state": {
            "_view_name": "LayoutView",
            "grid_template_rows": null,
            "right": null,
            "justify_content": null,
            "_view_module": "@jupyter-widgets/base",
            "overflow": null,
            "_model_module_version": "1.2.0",
            "_view_count": null,
            "flex_flow": null,
            "width": null,
            "min_width": null,
            "border": null,
            "align_items": null,
            "bottom": null,
            "_model_module": "@jupyter-widgets/base",
            "top": null,
            "grid_column": null,
            "overflow_y": null,
            "overflow_x": null,
            "grid_auto_flow": null,
            "grid_area": null,
            "grid_template_columns": null,
            "flex": null,
            "_model_name": "LayoutModel",
            "justify_items": null,
            "grid_row": null,
            "max_height": null,
            "align_content": null,
            "visibility": null,
            "align_self": null,
            "height": null,
            "min_height": null,
            "padding": null,
            "grid_auto_rows": null,
            "grid_gap": null,
            "max_width": null,
            "order": null,
            "_view_module_version": "1.2.0",
            "grid_template_areas": null,
            "object_position": null,
            "object_fit": null,
            "grid_auto_columns": null,
            "margin": null,
            "display": null,
            "left": null
          }
        },
        "42f2e2b4618a4b849225b8a33cd571e6": {
          "model_module": "@jupyter-widgets/controls",
          "model_name": "HBoxModel",
          "state": {
            "_view_name": "HBoxView",
            "_dom_classes": [],
            "_model_name": "HBoxModel",
            "_view_module": "@jupyter-widgets/controls",
            "_model_module_version": "1.5.0",
            "_view_count": null,
            "_view_module_version": "1.5.0",
            "box_style": "",
            "layout": "IPY_MODEL_ce50305a07ef4c27a01c012cf890cf00",
            "_model_module": "@jupyter-widgets/controls",
            "children": [
              "IPY_MODEL_925a7f205d93446eb9befb6cbd5dd3d4",
              "IPY_MODEL_0bd16b0a29bb40d58d66df52b5803c5b"
            ]
          }
        },
        "ce50305a07ef4c27a01c012cf890cf00": {
          "model_module": "@jupyter-widgets/base",
          "model_name": "LayoutModel",
          "state": {
            "_view_name": "LayoutView",
            "grid_template_rows": null,
            "right": null,
            "justify_content": null,
            "_view_module": "@jupyter-widgets/base",
            "overflow": null,
            "_model_module_version": "1.2.0",
            "_view_count": null,
            "flex_flow": null,
            "width": null,
            "min_width": null,
            "border": null,
            "align_items": null,
            "bottom": null,
            "_model_module": "@jupyter-widgets/base",
            "top": null,
            "grid_column": null,
            "overflow_y": null,
            "overflow_x": null,
            "grid_auto_flow": null,
            "grid_area": null,
            "grid_template_columns": null,
            "flex": null,
            "_model_name": "LayoutModel",
            "justify_items": null,
            "grid_row": null,
            "max_height": null,
            "align_content": null,
            "visibility": null,
            "align_self": null,
            "height": null,
            "min_height": null,
            "padding": null,
            "grid_auto_rows": null,
            "grid_gap": null,
            "max_width": null,
            "order": null,
            "_view_module_version": "1.2.0",
            "grid_template_areas": null,
            "object_position": null,
            "object_fit": null,
            "grid_auto_columns": null,
            "margin": null,
            "display": null,
            "left": null
          }
        },
        "925a7f205d93446eb9befb6cbd5dd3d4": {
          "model_module": "@jupyter-widgets/controls",
          "model_name": "IntProgressModel",
          "state": {
            "_view_name": "ProgressView",
            "style": "IPY_MODEL_021241392300409ab84e64c107805262",
            "_dom_classes": [],
            "description": "",
            "_model_name": "IntProgressModel",
            "bar_style": "info",
            "max": 1,
            "_view_module": "@jupyter-widgets/controls",
            "_model_module_version": "1.5.0",
            "value": 1,
            "_view_count": null,
            "_view_module_version": "1.5.0",
            "orientation": "horizontal",
            "min": 0,
            "description_tooltip": null,
            "_model_module": "@jupyter-widgets/controls",
            "layout": "IPY_MODEL_1c1517beff8d46598fea379eb9ccfed6"
          }
        },
        "0bd16b0a29bb40d58d66df52b5803c5b": {
          "model_module": "@jupyter-widgets/controls",
          "model_name": "HTMLModel",
          "state": {
            "_view_name": "HTMLView",
            "style": "IPY_MODEL_2af7b836ad784114a7cb194abf936396",
            "_dom_classes": [],
            "description": "",
            "_model_name": "HTMLModel",
            "placeholder": "​",
            "_view_module": "@jupyter-widgets/controls",
            "_model_module_version": "1.5.0",
            "value": " 23262/? [00:35&lt;00:00, 659.64 examples/s]",
            "_view_count": null,
            "_view_module_version": "1.5.0",
            "description_tooltip": null,
            "_model_module": "@jupyter-widgets/controls",
            "layout": "IPY_MODEL_e82e557cd37d4cce8360bf57d3605297"
          }
        },
        "021241392300409ab84e64c107805262": {
          "model_module": "@jupyter-widgets/controls",
          "model_name": "ProgressStyleModel",
          "state": {
            "_view_name": "StyleView",
            "_model_name": "ProgressStyleModel",
            "description_width": "initial",
            "_view_module": "@jupyter-widgets/base",
            "_model_module_version": "1.5.0",
            "_view_count": null,
            "_view_module_version": "1.2.0",
            "bar_color": null,
            "_model_module": "@jupyter-widgets/controls"
          }
        },
        "1c1517beff8d46598fea379eb9ccfed6": {
          "model_module": "@jupyter-widgets/base",
          "model_name": "LayoutModel",
          "state": {
            "_view_name": "LayoutView",
            "grid_template_rows": null,
            "right": null,
            "justify_content": null,
            "_view_module": "@jupyter-widgets/base",
            "overflow": null,
            "_model_module_version": "1.2.0",
            "_view_count": null,
            "flex_flow": null,
            "width": null,
            "min_width": null,
            "border": null,
            "align_items": null,
            "bottom": null,
            "_model_module": "@jupyter-widgets/base",
            "top": null,
            "grid_column": null,
            "overflow_y": null,
            "overflow_x": null,
            "grid_auto_flow": null,
            "grid_area": null,
            "grid_template_columns": null,
            "flex": null,
            "_model_name": "LayoutModel",
            "justify_items": null,
            "grid_row": null,
            "max_height": null,
            "align_content": null,
            "visibility": null,
            "align_self": null,
            "height": null,
            "min_height": null,
            "padding": null,
            "grid_auto_rows": null,
            "grid_gap": null,
            "max_width": null,
            "order": null,
            "_view_module_version": "1.2.0",
            "grid_template_areas": null,
            "object_position": null,
            "object_fit": null,
            "grid_auto_columns": null,
            "margin": null,
            "display": null,
            "left": null
          }
        },
        "2af7b836ad784114a7cb194abf936396": {
          "model_module": "@jupyter-widgets/controls",
          "model_name": "DescriptionStyleModel",
          "state": {
            "_view_name": "StyleView",
            "_model_name": "DescriptionStyleModel",
            "description_width": "",
            "_view_module": "@jupyter-widgets/base",
            "_model_module_version": "1.5.0",
            "_view_count": null,
            "_view_module_version": "1.2.0",
            "_model_module": "@jupyter-widgets/controls"
          }
        },
        "e82e557cd37d4cce8360bf57d3605297": {
          "model_module": "@jupyter-widgets/base",
          "model_name": "LayoutModel",
          "state": {
            "_view_name": "LayoutView",
            "grid_template_rows": null,
            "right": null,
            "justify_content": null,
            "_view_module": "@jupyter-widgets/base",
            "overflow": null,
            "_model_module_version": "1.2.0",
            "_view_count": null,
            "flex_flow": null,
            "width": null,
            "min_width": null,
            "border": null,
            "align_items": null,
            "bottom": null,
            "_model_module": "@jupyter-widgets/base",
            "top": null,
            "grid_column": null,
            "overflow_y": null,
            "overflow_x": null,
            "grid_auto_flow": null,
            "grid_area": null,
            "grid_template_columns": null,
            "flex": null,
            "_model_name": "LayoutModel",
            "justify_items": null,
            "grid_row": null,
            "max_height": null,
            "align_content": null,
            "visibility": null,
            "align_self": null,
            "height": null,
            "min_height": null,
            "padding": null,
            "grid_auto_rows": null,
            "grid_gap": null,
            "max_width": null,
            "order": null,
            "_view_module_version": "1.2.0",
            "grid_template_areas": null,
            "object_position": null,
            "object_fit": null,
            "grid_auto_columns": null,
            "margin": null,
            "display": null,
            "left": null
          }
        }
      }
    }
  },
  "cells": [
    {
      "cell_type": "markdown",
      "metadata": {
        "id": "N9K7aEMNhU4o",
        "colab_type": "text"
      },
      "source": [
        "# Cats vs Dogs Classification"
      ]
    },
    {
      "cell_type": "markdown",
      "metadata": {
        "id": "DL15YUwBhfQL",
        "colab_type": "text"
      },
      "source": [
        "In this notebook, you will not only learn about how to build a model to classify Cats and Dogs, but also how the Preprocessing and Dropout will improve your model while training and producing a better network."
      ]
    },
    {
      "cell_type": "markdown",
      "metadata": {
        "id": "bX1ZMR9fhLJo",
        "colab_type": "text"
      },
      "source": [
        "# Import Libraries"
      ]
    },
    {
      "cell_type": "markdown",
      "metadata": {
        "id": "b0ThqcdWiQXh",
        "colab_type": "text"
      },
      "source": [
        "## Install Tensorflow 2"
      ]
    },
    {
      "cell_type": "markdown",
      "metadata": {
        "id": "vgjSmEIliUmV",
        "colab_type": "text"
      },
      "source": [
        "If Tensorflow 2 have not installed, then install it first."
      ]
    },
    {
      "cell_type": "code",
      "metadata": {
        "id": "ARW0YcfFhDW6",
        "colab_type": "code",
        "colab": {
          "base_uri": "https://localhost:8080/",
          "height": 153
        },
        "outputId": "61deb7e1-9db5-4837-a63f-8ce12cbd16bd"
      },
      "source": [
        "!pip install tensorflow-gpu -q"
      ],
      "execution_count": 1,
      "outputs": [
        {
          "output_type": "stream",
          "text": [
            "\u001b[K     |████████████████████████████████| 421.8MB 34kB/s \n",
            "\u001b[K     |████████████████████████████████| 3.9MB 35.7MB/s \n",
            "\u001b[K     |████████████████████████████████| 450kB 36.2MB/s \n",
            "\u001b[?25h  Building wheel for gast (setup.py) ... \u001b[?25l\u001b[?25hdone\n",
            "\u001b[31mERROR: tensorflow 2.2.0rc3 has requirement gast==0.3.3, but you'll have gast 0.2.2 which is incompatible.\u001b[0m\n",
            "\u001b[31mERROR: tensorflow 2.2.0rc3 has requirement tensorboard<2.3.0,>=2.2.0, but you'll have tensorboard 2.1.1 which is incompatible.\u001b[0m\n",
            "\u001b[31mERROR: tensorflow 2.2.0rc3 has requirement tensorflow-estimator<2.3.0,>=2.2.0rc0, but you'll have tensorflow-estimator 2.1.0 which is incompatible.\u001b[0m\n",
            "\u001b[31mERROR: tensorflow-probability 0.10.0rc0 has requirement gast>=0.3.2, but you'll have gast 0.2.2 which is incompatible.\u001b[0m\n"
          ],
          "name": "stdout"
        }
      ]
    },
    {
      "cell_type": "code",
      "metadata": {
        "id": "aJx1Bemwfm9P",
        "colab_type": "code",
        "outputId": "ca72f3f5-a991-45bc-feae-3da4fa03fb36",
        "colab": {
          "base_uri": "https://localhost:8080/",
          "height": 34
        }
      },
      "source": [
        "import tensorflow as tf\n",
        "\n",
        "tf.__version__"
      ],
      "execution_count": 2,
      "outputs": [
        {
          "output_type": "execute_result",
          "data": {
            "text/plain": [
              "'2.1.0'"
            ]
          },
          "metadata": {
            "tags": []
          },
          "execution_count": 2
        }
      ]
    },
    {
      "cell_type": "markdown",
      "metadata": {
        "id": "6MhQNVdTlHzE",
        "colab_type": "text"
      },
      "source": [
        "## Import other libraries"
      ]
    },
    {
      "cell_type": "code",
      "metadata": {
        "id": "tjlu5CDDggg2",
        "colab_type": "code",
        "colab": {}
      },
      "source": [
        "import matplotlib.pyplot as plt\n",
        "import numpy as np\n",
        "import cv2 as cv\n",
        "import tensorflow_datasets as tfds\n",
        "from tensorflow.keras.models import Sequential\n",
        "from tensorflow.keras.layers import *\n",
        "from tensorflow.keras.utils import to_categorical\n",
        "\n",
        "np.set_printoptions(precision=7)\n",
        "np.random.seed(42)\n",
        "%matplotlib inline"
      ],
      "execution_count": 0,
      "outputs": []
    },
    {
      "cell_type": "markdown",
      "metadata": {
        "id": "saeUMIfBmNDz",
        "colab_type": "text"
      },
      "source": [
        "# Cats vs Dogs Tensorflow Dataset"
      ]
    },
    {
      "cell_type": "markdown",
      "metadata": {
        "id": "aFG8Q1wPmQFP",
        "colab_type": "text"
      },
      "source": [
        "This notebook uses cats_vs_dogs data from Tensorflow dataset, you can see the details here https://www.tensorflow.org/datasets/catalog/cats_vs_dogs"
      ]
    },
    {
      "cell_type": "markdown",
      "metadata": {
        "id": "gmckctqtlSGy",
        "colab_type": "text"
      },
      "source": [
        "## Create directory for dataset"
      ]
    },
    {
      "cell_type": "code",
      "metadata": {
        "id": "nLDUqzHclEDR",
        "colab_type": "code",
        "colab": {}
      },
      "source": [
        "import os\n",
        "\n",
        "data_dir = 'dataset'\n",
        "\n",
        "if not os.path.exists(data_dir):\n",
        "  os.mkdir(data_dir)"
      ],
      "execution_count": 0,
      "outputs": []
    },
    {
      "cell_type": "markdown",
      "metadata": {
        "id": "eRVoJPNwlsem",
        "colab_type": "text"
      },
      "source": [
        "## Download Cats vs Dogs dataset"
      ]
    },
    {
      "cell_type": "code",
      "metadata": {
        "id": "uLoTbGPzldd2",
        "colab_type": "code",
        "colab": {
          "base_uri": "https://localhost:8080/",
          "height": 352,
          "referenced_widgets": [
            "e9716a6d39f94ab1bb61d54a2843a832",
            "b762317efe144bae8d411f3ff1678ffc",
            "827b2995fad34e5796e4299c531be877",
            "17c283addcb6494a871ba66c8e2a0620",
            "fd541e93a016497b928590c010931ab6",
            "905901c8bd804b0e891a289648f00ac8",
            "63d87ab29d4b4063a9cdd692e234fb54",
            "824b1597a75f46e8af4dd8097d27c9a6",
            "8c1edba8c02545e0abccd9b05c9ed792",
            "d4d984f4966344289a81c4b2c4541b2d",
            "fb470031d5b24864b59e9edc5bb4d32d",
            "6ee52a63a90248b18d8a9ac9088c33f5",
            "9c40953b49bc4fe7bc648d3a7f58cccd",
            "4fc3f8f6a3b344e6aa36030712f2ebcc",
            "6c11df19489c46718857e31eba6ae5f4",
            "6f6e76c3f9624eb5bd1caf9f1967cfa5",
            "ed994ceaa82a4900b56a631e246df378",
            "bf061f4ff9a7446ca00f69320da77fd8",
            "23de1d3ff1224c5ab425d46fabc99134",
            "4cbe7b96955644d6b18ac306c0ccfb48",
            "c09ba50beb9d4d5a98844c6fdb4eaa2f",
            "7b3fba4aaf9342e89077fd9fcd12a047",
            "8e92515950b64010aa92ad4966116e9d",
            "38f21e566b184e4ebfd4572158964afe",
            "f5c3e19ca98b4ea081ea4e7bada10f00",
            "5fac26b3550a4f83ba016131a4a00c57",
            "791ecfb6ac4e4ff6bd582512f8a3ffea",
            "ae6770d90bf546e1812d1cd749508f78",
            "b0498775b8a447dfa0b70402071311ad",
            "0b84cb13f838499b97b82c874784c963",
            "8d64b6a802074575b9702cea0f4495c5",
            "812508f65d38431e8fad0aa80fc14fcb",
            "409b38ce4cba4398abe6e823d4b553e8",
            "aa2e89540d764d08a14d57b48715f147",
            "093df2fa9ba14abb9cd5285e7a251e79",
            "c01aa13356d64bd6adfe23b71f6cff24",
            "401e105d640744babb86274c581ee883",
            "ee10d4da8e844b9ca86aad7624d77e0b",
            "dcd0a756d70a4190b4600d3af63bb7f4",
            "fb6333bd8e43483bb95f0729d404bb99",
            "42f2e2b4618a4b849225b8a33cd571e6",
            "ce50305a07ef4c27a01c012cf890cf00",
            "925a7f205d93446eb9befb6cbd5dd3d4",
            "0bd16b0a29bb40d58d66df52b5803c5b",
            "021241392300409ab84e64c107805262",
            "1c1517beff8d46598fea379eb9ccfed6",
            "2af7b836ad784114a7cb194abf936396",
            "e82e557cd37d4cce8360bf57d3605297"
          ]
        },
        "outputId": "f1f23834-425c-4e53-d567-890f5e076b92"
      },
      "source": [
        "dataset_name = 'cats_vs_dogs'\n",
        "\n",
        "train_set, dataset_info =  tfds.load( \n",
        "              name = dataset_name, \n",
        "              split = 'train', \n",
        "              with_info = True, \n",
        "              data_dir = data_dir\n",
        "          )"
      ],
      "execution_count": 5,
      "outputs": [
        {
          "output_type": "stream",
          "text": [
            "\u001b[1mDownloading and preparing dataset cats_vs_dogs/4.0.0 (download: 786.68 MiB, generated: Unknown size, total: 786.68 MiB) to dataset/cats_vs_dogs/4.0.0...\u001b[0m\n"
          ],
          "name": "stdout"
        },
        {
          "output_type": "display_data",
          "data": {
            "application/vnd.jupyter.widget-view+json": {
              "model_id": "e9716a6d39f94ab1bb61d54a2843a832",
              "version_minor": 0,
              "version_major": 2
            },
            "text/plain": [
              "HBox(children=(IntProgress(value=1, bar_style='info', description='Dl Completed...', max=1, style=ProgressStyl…"
            ]
          },
          "metadata": {
            "tags": []
          }
        },
        {
          "output_type": "display_data",
          "data": {
            "application/vnd.jupyter.widget-view+json": {
              "model_id": "8c1edba8c02545e0abccd9b05c9ed792",
              "version_minor": 0,
              "version_major": 2
            },
            "text/plain": [
              "HBox(children=(IntProgress(value=1, bar_style='info', description='Dl Size...', max=1, style=ProgressStyle(des…"
            ]
          },
          "metadata": {
            "tags": []
          }
        },
        {
          "output_type": "stream",
          "text": [
            "/usr/local/lib/python3.6/dist-packages/urllib3/connectionpool.py:847: InsecureRequestWarning: Unverified HTTPS request is being made. Adding certificate verification is strongly advised. See: https://urllib3.readthedocs.io/en/latest/advanced-usage.html#ssl-warnings\n",
            "  InsecureRequestWarning)\n"
          ],
          "name": "stderr"
        },
        {
          "output_type": "stream",
          "text": [
            "\n",
            "\n",
            "\n",
            "\n"
          ],
          "name": "stdout"
        },
        {
          "output_type": "display_data",
          "data": {
            "application/vnd.jupyter.widget-view+json": {
              "model_id": "ed994ceaa82a4900b56a631e246df378",
              "version_minor": 0,
              "version_major": 2
            },
            "text/plain": [
              "HBox(children=(IntProgress(value=1, bar_style='info', max=1), HTML(value='')))"
            ]
          },
          "metadata": {
            "tags": []
          }
        },
        {
          "output_type": "stream",
          "text": [
            "WARNING:absl:1738 images were corrupted and were skipped\n"
          ],
          "name": "stderr"
        },
        {
          "output_type": "stream",
          "text": [
            "\rShuffling and writing examples to dataset/cats_vs_dogs/4.0.0.incompleteHS2M6U/cats_vs_dogs-train.tfrecord\n"
          ],
          "name": "stdout"
        },
        {
          "output_type": "display_data",
          "data": {
            "application/vnd.jupyter.widget-view+json": {
              "model_id": "f5c3e19ca98b4ea081ea4e7bada10f00",
              "version_minor": 0,
              "version_major": 2
            },
            "text/plain": [
              "HBox(children=(IntProgress(value=0, max=23262), HTML(value='')))"
            ]
          },
          "metadata": {
            "tags": []
          }
        },
        {
          "output_type": "display_data",
          "data": {
            "application/vnd.jupyter.widget-view+json": {
              "model_id": "409b38ce4cba4398abe6e823d4b553e8",
              "version_minor": 0,
              "version_major": 2
            },
            "text/plain": [
              "HBox(children=(IntProgress(value=0, description='Computing statistics...', max=1, style=ProgressStyle(descript…"
            ]
          },
          "metadata": {
            "tags": []
          }
        },
        {
          "output_type": "stream",
          "text": [
            "\r"
          ],
          "name": "stdout"
        },
        {
          "output_type": "display_data",
          "data": {
            "application/vnd.jupyter.widget-view+json": {
              "model_id": "42f2e2b4618a4b849225b8a33cd571e6",
              "version_minor": 0,
              "version_major": 2
            },
            "text/plain": [
              "HBox(children=(IntProgress(value=1, bar_style='info', max=1), HTML(value='')))"
            ]
          },
          "metadata": {
            "tags": []
          }
        },
        {
          "output_type": "stream",
          "text": [
            "\r\n",
            "\u001b[1mDataset cats_vs_dogs downloaded and prepared to dataset/cats_vs_dogs/4.0.0. Subsequent calls will reuse this data.\u001b[0m\n"
          ],
          "name": "stdout"
        }
      ]
    },
    {
      "cell_type": "markdown",
      "metadata": {
        "id": "Mg-ezf6oo0_j",
        "colab_type": "text"
      },
      "source": [
        "## Dataset Information"
      ]
    },
    {
      "cell_type": "code",
      "metadata": {
        "id": "SmMnsFpMl11J",
        "colab_type": "code",
        "outputId": "192c6fb1-404d-41e1-8f5b-af2bf4fa07dd",
        "colab": {
          "base_uri": "https://localhost:8080/",
          "height": 493
        }
      },
      "source": [
        "print(dataset_info)"
      ],
      "execution_count": 7,
      "outputs": [
        {
          "output_type": "stream",
          "text": [
            "tfds.core.DatasetInfo(\n",
            "    name='cats_vs_dogs',\n",
            "    version=4.0.0,\n",
            "    description='A large set of images of cats and dogs.There are 1738 corrupted images that are dropped.',\n",
            "    homepage='https://www.microsoft.com/en-us/download/details.aspx?id=54765',\n",
            "    features=FeaturesDict({\n",
            "        'image': Image(shape=(None, None, 3), dtype=tf.uint8),\n",
            "        'image/filename': Text(shape=(), dtype=tf.string),\n",
            "        'label': ClassLabel(shape=(), dtype=tf.int64, num_classes=2),\n",
            "    }),\n",
            "    total_num_examples=23262,\n",
            "    splits={\n",
            "        'train': 23262,\n",
            "    },\n",
            "    supervised_keys=('image', 'label'),\n",
            "    citation=\"\"\"@Inproceedings (Conference){asirra-a-captcha-that-exploits-interest-aligned-manual-image-categorization,\n",
            "    author = {Elson, Jeremy and Douceur, John (JD) and Howell, Jon and Saul, Jared},\n",
            "    title = {Asirra: A CAPTCHA that Exploits Interest-Aligned Manual Image Categorization},\n",
            "    booktitle = {Proceedings of 14th ACM Conference on Computer and Communications Security (CCS)},\n",
            "    year = {2007},\n",
            "    month = {October},\n",
            "    publisher = {Association for Computing Machinery, Inc.},\n",
            "    url = {https://www.microsoft.com/en-us/research/publication/asirra-a-captcha-that-exploits-interest-aligned-manual-image-categorization/},\n",
            "    edition = {Proceedings of 14th ACM Conference on Computer and Communications Security (CCS)},\n",
            "    }\"\"\",\n",
            "    redistribution_info=,\n",
            ")\n",
            "\n"
          ],
          "name": "stdout"
        }
      ]
    },
    {
      "cell_type": "markdown",
      "metadata": {
        "id": "SOZdeacApUjY",
        "colab_type": "text"
      },
      "source": [
        "## Detailed Information"
      ]
    },
    {
      "cell_type": "code",
      "metadata": {
        "id": "DvSb-L7In2r2",
        "colab_type": "code",
        "outputId": "b810ad21-eb54-42df-c938-2c74a513a8c8",
        "colab": {
          "base_uri": "https://localhost:8080/",
          "height": 136
        }
      },
      "source": [
        "class_names =  dataset_info.features[\"label\"].names\n",
        "\n",
        "print('image shape    :', dataset_info.features['image'].shape)\n",
        "print('image dtype    :', dataset_info.features['image'].dtype)\n",
        "print()\n",
        "print('num class      : ',dataset_info.features[\"label\"].num_classes)\n",
        "print('class label    :', dataset_info.features[\"label\"].names)\n",
        "print()\n",
        "print('num train data :', dataset_info.splits[\"train\"].num_examples)"
      ],
      "execution_count": 8,
      "outputs": [
        {
          "output_type": "stream",
          "text": [
            "image shape    : (None, None, 3)\n",
            "image dtype    : <dtype: 'uint8'>\n",
            "\n",
            "num class      :  2\n",
            "class label    : ['cat', 'dog']\n",
            "\n",
            "num train data : 23262\n"
          ],
          "name": "stdout"
        }
      ]
    },
    {
      "cell_type": "markdown",
      "metadata": {
        "id": "nKnCyiq2oTV3",
        "colab_type": "text"
      },
      "source": [
        "## Show Images"
      ]
    },
    {
      "cell_type": "code",
      "metadata": {
        "id": "MeSbswkhoJTz",
        "colab_type": "code",
        "outputId": "f1746d12-81ce-49ab-83b0-71a043f83dce",
        "colab": {
          "base_uri": "https://localhost:8080/",
          "height": 534
        }
      },
      "source": [
        "fig = tfds.show_examples(dataset_info, train_set)"
      ],
      "execution_count": 6,
      "outputs": [
        {
          "output_type": "display_data",
          "data": {
            "image/png": "[encoded data removed]",
            "text/plain": [
              "<Figure size 648x648 with 9 Axes>"
            ]
          },
          "metadata": {
            "tags": []
          }
        }
      ]
    },
    {
      "cell_type": "markdown",
      "metadata": {
        "id": "J8bhV-6EpYpr",
        "colab_type": "text"
      },
      "source": [
        "As we can see, the image sizes differ from one another, so we have to resize all the images to the same size."
      ]
    },
    {
      "cell_type": "markdown",
      "metadata": {
        "id": "AL6Rq9_xvOOa",
        "colab_type": "text"
      },
      "source": [
        "# Preprocess Image"
      ]
    },
    {
      "cell_type": "markdown",
      "metadata": {
        "id": "-HLyZ-DSvdFY",
        "colab_type": "text"
      },
      "source": [
        "Convert and Resize Data"
      ]
    },
    {
      "cell_type": "code",
      "metadata": {
        "id": "omOTQXvkoXHV",
        "colab_type": "code",
        "colab": {}
      },
      "source": [
        "input_shape = (128, 128, 3)"
      ],
      "execution_count": 0,
      "outputs": []
    },
    {
      "cell_type": "markdown",
      "metadata": {
        "id": "U9jNlh9evh1w",
        "colab_type": "text"
      },
      "source": [
        "## Convert Data Train"
      ]
    },
    {
      "cell_type": "code",
      "metadata": {
        "id": "GQi1zjXMvgs3",
        "colab_type": "code",
        "colab": {}
      },
      "source": [
        "X_train_ori = []\n",
        "y_train_ori = []\n",
        "\n",
        "for example in tfds.as_numpy(train_set):\n",
        "    new_img = example['image']\n",
        "    new_img = cv.resize(new_img, input_shape[:2],interpolation = cv.INTER_AREA) \n",
        "    X_train_ori.append(new_img)\n",
        "    y_train_ori.append(example['label'])\n",
        "\n",
        "del train_set\n",
        "\n",
        "# Convert train data to numpy array\n",
        "X_train_ori = np.asarray(X_train_ori)\n",
        "y_train_ori = np.asarray(y_train_ori)\n",
        "\n",
        "# One hot label\n",
        "y_train_hot = to_categorical(y_train_ori)"
      ],
      "execution_count": 0,
      "outputs": []
    },
    {
      "cell_type": "markdown",
      "metadata": {
        "id": "EgqfWrpEwGA6",
        "colab_type": "text"
      },
      "source": [
        "# Split Train Data into Train, Val, and Test"
      ]
    },
    {
      "cell_type": "code",
      "metadata": {
        "id": "moPHzty7v8og",
        "colab_type": "code",
        "outputId": "c0200f23-17a4-4558-a4b6-1e525721b258",
        "colab": {
          "base_uri": "https://localhost:8080/",
          "height": 119
        }
      },
      "source": [
        "# Set the length of Train, Val, and Test data\n",
        "dataset_size = len(X_train_ori)\n",
        "train_idx = int(0.7 * dataset_size)\n",
        "val_idx = int(0.1 * dataset_size) + train_idx\n",
        "\n",
        "# Split for val data\n",
        "X_val = X_train_ori[train_idx:val_idx, :]\n",
        "y_val = y_train_hot[train_idx:val_idx]\n",
        "\n",
        "# Split for test data\n",
        "X_test = X_train_ori[val_idx:, :]\n",
        "y_test = y_train_hot[val_idx:]\n",
        "\n",
        "# Split for train data\n",
        "X_train = X_train_ori[:train_idx, :]\n",
        "y_train = y_train_hot[:train_idx]\n",
        "\n",
        "print('X_train.shape =',X_train.shape)\n",
        "print('X_val.shape =',X_val.shape)\n",
        "print('X_test.shape =',X_test.shape)\n",
        "\n",
        "print('y_train.shape =',y_train.shape)\n",
        "print('y_val.shape =',y_val.shape)\n",
        "print('y_test.shape =',y_test.shape)"
      ],
      "execution_count": 11,
      "outputs": [
        {
          "output_type": "stream",
          "text": [
            "X_train.shape = (16283, 128, 128, 3)\n",
            "X_val.shape = (2326, 128, 128, 3)\n",
            "X_test.shape = (4653, 128, 128, 3)\n",
            "y_train.shape = (16283, 2)\n",
            "y_val.shape = (2326, 2)\n",
            "y_test.shape = (4653, 2)\n"
          ],
          "name": "stdout"
        }
      ]
    },
    {
      "cell_type": "markdown",
      "metadata": {
        "id": "YRhdIXpw37OZ",
        "colab_type": "text"
      },
      "source": [
        "# Classification Model"
      ]
    },
    {
      "cell_type": "code",
      "metadata": {
        "id": "FC_Dg7RC4u0f",
        "colab_type": "code",
        "outputId": "8d4dc2d8-d38d-44eb-9f46-12b6fbed7728",
        "colab": {
          "base_uri": "https://localhost:8080/",
          "height": 493
        }
      },
      "source": [
        "model1 = Sequential([\n",
        "    Conv2D(filters=32, kernel_size=(3, 3), activation='relu', padding='same', input_shape=input_shape),\n",
        "    Conv2D(filters=32, kernel_size=(3, 3), activation='relu', padding='same'),\n",
        "    MaxPool2D(pool_size=(3, 3), strides=(2, 2)),\n",
        "\n",
        "    Conv2D(filters=64, kernel_size=(3, 3), activation='relu', padding='same'),\n",
        "    Conv2D(filters=64, kernel_size=(3, 3), activation='relu', padding='same'),\n",
        "    MaxPool2D(pool_size=(3, 3), strides=(2, 2)),\n",
        "\n",
        "    Flatten(),\n",
        "    Dense(units=64, activation='relu'),\n",
        "    Dense(units=32, activation='relu'),    \n",
        "    Dense(units=2, activation='softmax')\n",
        "])\n",
        "\n",
        "model1.summary()"
      ],
      "execution_count": 12,
      "outputs": [
        {
          "output_type": "stream",
          "text": [
            "Model: \"sequential\"\n",
            "_________________________________________________________________\n",
            "Layer (type)                 Output Shape              Param #   \n",
            "=================================================================\n",
            "conv2d (Conv2D)              (None, 128, 128, 32)      896       \n",
            "_________________________________________________________________\n",
            "conv2d_1 (Conv2D)            (None, 128, 128, 32)      9248      \n",
            "_________________________________________________________________\n",
            "max_pooling2d (MaxPooling2D) (None, 63, 63, 32)        0         \n",
            "_________________________________________________________________\n",
            "conv2d_2 (Conv2D)            (None, 63, 63, 64)        18496     \n",
            "_________________________________________________________________\n",
            "conv2d_3 (Conv2D)            (None, 63, 63, 64)        36928     \n",
            "_________________________________________________________________\n",
            "max_pooling2d_1 (MaxPooling2 (None, 31, 31, 64)        0         \n",
            "_________________________________________________________________\n",
            "flatten (Flatten)            (None, 61504)             0         \n",
            "_________________________________________________________________\n",
            "dense (Dense)                (None, 64)                3936320   \n",
            "_________________________________________________________________\n",
            "dense_1 (Dense)              (None, 32)                2080      \n",
            "_________________________________________________________________\n",
            "dense_2 (Dense)              (None, 2)                 66        \n",
            "=================================================================\n",
            "Total params: 4,004,034\n",
            "Trainable params: 4,004,034\n",
            "Non-trainable params: 0\n",
            "_________________________________________________________________\n"
          ],
          "name": "stdout"
        }
      ]
    },
    {
      "cell_type": "code",
      "metadata": {
        "id": "nq97TWPREtH9",
        "colab_type": "code",
        "outputId": "1ec44776-0e24-4a60-d702-b7120e07911e",
        "colab": {
          "base_uri": "https://localhost:8080/",
          "height": 374
        }
      },
      "source": [
        "model1.compile(optimizer='adam', loss='categorical_crossentropy', metrics=['accuracy'])\n",
        "\n",
        "history = []\n",
        "\n",
        "his = model1.fit(X_train, y_train, batch_size=64, epochs=10, validation_data=(X_val, y_val))\n",
        "history.append(his)"
      ],
      "execution_count": 13,
      "outputs": [
        {
          "output_type": "stream",
          "text": [
            "Train on 16283 samples, validate on 2326 samples\n",
            "Epoch 1/10\n",
            "16283/16283 [==============================] - 42s 3ms/sample - loss: 3.9798 - accuracy: 0.5264 - val_loss: 0.6916 - val_accuracy: 0.5378\n",
            "Epoch 2/10\n",
            "16283/16283 [==============================] - 34s 2ms/sample - loss: 0.6859 - accuracy: 0.5421 - val_loss: 0.6809 - val_accuracy: 0.5619\n",
            "Epoch 3/10\n",
            "16283/16283 [==============================] - 34s 2ms/sample - loss: 0.6750 - accuracy: 0.5606 - val_loss: 0.6784 - val_accuracy: 0.5254\n",
            "Epoch 4/10\n",
            "16283/16283 [==============================] - 34s 2ms/sample - loss: 0.6576 - accuracy: 0.5777 - val_loss: 0.7008 - val_accuracy: 0.5817\n",
            "Epoch 5/10\n",
            "16283/16283 [==============================] - 34s 2ms/sample - loss: 0.6337 - accuracy: 0.6052 - val_loss: 0.6582 - val_accuracy: 0.6075\n",
            "Epoch 6/10\n",
            "16283/16283 [==============================] - 34s 2ms/sample - loss: 0.6173 - accuracy: 0.6149 - val_loss: 0.7247 - val_accuracy: 0.5520\n",
            "Epoch 7/10\n",
            "16283/16283 [==============================] - 34s 2ms/sample - loss: 0.6066 - accuracy: 0.6300 - val_loss: 0.7035 - val_accuracy: 0.5933\n",
            "Epoch 8/10\n",
            "16283/16283 [==============================] - 34s 2ms/sample - loss: 0.5763 - accuracy: 0.6570 - val_loss: 0.7346 - val_accuracy: 0.5696\n",
            "Epoch 9/10\n",
            "16283/16283 [==============================] - 34s 2ms/sample - loss: 0.5396 - accuracy: 0.6836 - val_loss: 0.8194 - val_accuracy: 0.5727\n",
            "Epoch 10/10\n",
            "16283/16283 [==============================] - 34s 2ms/sample - loss: 0.5152 - accuracy: 0.7013 - val_loss: 0.8456 - val_accuracy: 0.6079\n"
          ],
          "name": "stdout"
        }
      ]
    },
    {
      "cell_type": "markdown",
      "metadata": {
        "id": "ivsVVYNKGeAW",
        "colab_type": "text"
      },
      "source": [
        "Looks pretty good, right? In just 10 epochs we've got ~70% of train accuracy\n",
        "\n",
        "But why the validation loss getting bigger and the validation accuracy is not increasing?\n",
        "\n",
        "Yeah, this is what we called overfitting."
      ]
    },
    {
      "cell_type": "markdown",
      "metadata": {
        "id": "lKii30PRsd_T",
        "colab_type": "text"
      },
      "source": [
        "# Overfitting Challenge\n",
        "\n",
        "<font color = 'red'>Overfitting</font> is a general problem in machine learning, not just in neural networks. The problem is inherent in the way machine learning models are developed: A set of training data is used to train the model. The goal is to have a model that can be used on data that <font color = 'red'>hasn't been seen </font> before. <font color = 'red'>Overfitting</font> refers to the problem of having the model trained to work so well on the training data that is start to work more <font color = 'red'>poorly</font> on data it <font color = 'red'>hasn't seen before</font>.\n",
        "\n",
        "<p align=center>\n",
        "<img src=\"http://s3-ap-south-1.amazonaws.com/av-blog-media/wp-content/uploads/2018/04/Screen-Shot-2018-04-03-at-7.52.01-PM-e1522832332857.png\" width='800'>\n",
        "</p>\n",
        "\n",
        "<font color = 'red'>Overfitting</font> can also be seen from the <font color = 'blue'>difference</font> of <font color = 'red'>training error </font> and the <font color = 'red'>test error </font> when you are training the model, which the <font color = 'red'>training error</font> value is getting <font color = 'blue'>smaller</font> while the <font color = 'red'>test/validation error</font> is getting <font color = 'blue'>bigger</font> as illustrated below.\n",
        "\n",
        "<p align=center>\n",
        "<img src=\"http://s3-ap-south-1.amazonaws.com/av-blog-media/wp-content/uploads/2018/04/Screen-Shot-2018-04-04-at-2.43.37-PM-768x592.png\" width='400'>\n",
        "</p>\n",
        "\n",
        "There are some techniques to prevent overfitting:\n",
        "* Add more data\n",
        "* use Data Augmentation\n",
        "* use Batch Normalization & Standardization\n",
        "* use Dropout\n",
        "* use architecture that generalize well\n",
        "* reduce architecture complexity\n",
        "* Early stopping\n",
        "\n",
        "source : http://primo.ai/index.php?title=Overfitting_Challenge"
      ]
    },
    {
      "cell_type": "markdown",
      "metadata": {
        "id": "5K4TwuKKu-I-",
        "colab_type": "text"
      },
      "source": [
        "Let's add some Dropout to our network!"
      ]
    },
    {
      "cell_type": "code",
      "metadata": {
        "id": "SbLPivAfF8cL",
        "colab_type": "code",
        "outputId": "6a2246f7-0bf2-4fd8-a96d-42326f9823d9",
        "colab": {
          "base_uri": "https://localhost:8080/",
          "height": 561
        }
      },
      "source": [
        "model2 = Sequential([\n",
        "    Conv2D(filters=32, kernel_size=(3, 3), activation='relu', padding='same', input_shape=input_shape),\n",
        "    Conv2D(filters=32, kernel_size=(3, 3), activation='relu', padding='same'),\n",
        "    MaxPool2D(pool_size=(3, 3), strides=(2, 2)),\n",
        "\n",
        "    Conv2D(filters=64, kernel_size=(3, 3), activation='relu', padding='same'),\n",
        "    Conv2D(filters=64, kernel_size=(3, 3), activation='relu', padding='same'),\n",
        "    MaxPool2D(pool_size=(3, 3), strides=(2, 2)),\n",
        "\n",
        "    Flatten(),\n",
        "    Dense(units=64, activation='relu'),\n",
        "    Dropout(0.5),\n",
        "    Dense(units=32, activation='relu'),\n",
        "    Dropout(0.5),\n",
        "    Dense(units=2, activation='softmax')\n",
        "])\n",
        "\n",
        "model2.summary()"
      ],
      "execution_count": 14,
      "outputs": [
        {
          "output_type": "stream",
          "text": [
            "Model: \"sequential_1\"\n",
            "_________________________________________________________________\n",
            "Layer (type)                 Output Shape              Param #   \n",
            "=================================================================\n",
            "conv2d_4 (Conv2D)            (None, 128, 128, 32)      896       \n",
            "_________________________________________________________________\n",
            "conv2d_5 (Conv2D)            (None, 128, 128, 32)      9248      \n",
            "_________________________________________________________________\n",
            "max_pooling2d_2 (MaxPooling2 (None, 63, 63, 32)        0         \n",
            "_________________________________________________________________\n",
            "conv2d_6 (Conv2D)            (None, 63, 63, 64)        18496     \n",
            "_________________________________________________________________\n",
            "conv2d_7 (Conv2D)            (None, 63, 63, 64)        36928     \n",
            "_________________________________________________________________\n",
            "max_pooling2d_3 (MaxPooling2 (None, 31, 31, 64)        0         \n",
            "_________________________________________________________________\n",
            "flatten_1 (Flatten)          (None, 61504)             0         \n",
            "_________________________________________________________________\n",
            "dense_3 (Dense)              (None, 64)                3936320   \n",
            "_________________________________________________________________\n",
            "dropout (Dropout)            (None, 64)                0         \n",
            "_________________________________________________________________\n",
            "dense_4 (Dense)              (None, 32)                2080      \n",
            "_________________________________________________________________\n",
            "dropout_1 (Dropout)          (None, 32)                0         \n",
            "_________________________________________________________________\n",
            "dense_5 (Dense)              (None, 2)                 66        \n",
            "=================================================================\n",
            "Total params: 4,004,034\n",
            "Trainable params: 4,004,034\n",
            "Non-trainable params: 0\n",
            "_________________________________________________________________\n"
          ],
          "name": "stdout"
        }
      ]
    },
    {
      "cell_type": "code",
      "metadata": {
        "id": "nVuaO1nzHEGi",
        "colab_type": "code",
        "outputId": "cf9c73eb-d201-4de9-a2d1-19088e2477e4",
        "colab": {
          "base_uri": "https://localhost:8080/",
          "height": 374
        }
      },
      "source": [
        "model2.compile(optimizer='adam', loss='categorical_crossentropy', metrics=['accuracy'])\n",
        "\n",
        "his = model2.fit(X_train, y_train, batch_size=64, epochs=10, validation_data=(X_val, y_val))\n",
        "history.append(his)"
      ],
      "execution_count": 15,
      "outputs": [
        {
          "output_type": "stream",
          "text": [
            "Train on 16283 samples, validate on 2326 samples\n",
            "Epoch 1/10\n",
            "16283/16283 [==============================] - 34s 2ms/sample - loss: 1.9792 - accuracy: 0.5095 - val_loss: 0.6882 - val_accuracy: 0.5417\n",
            "Epoch 2/10\n",
            "16283/16283 [==============================] - 34s 2ms/sample - loss: 0.6930 - accuracy: 0.5105 - val_loss: 0.6903 - val_accuracy: 0.5439\n",
            "Epoch 3/10\n",
            "16283/16283 [==============================] - 34s 2ms/sample - loss: 0.6916 - accuracy: 0.5276 - val_loss: 0.6882 - val_accuracy: 0.5417\n",
            "Epoch 4/10\n",
            "16283/16283 [==============================] - 34s 2ms/sample - loss: 0.6913 - accuracy: 0.5193 - val_loss: 0.6906 - val_accuracy: 0.5163\n",
            "Epoch 5/10\n",
            "16283/16283 [==============================] - 34s 2ms/sample - loss: 0.6903 - accuracy: 0.5266 - val_loss: 0.6821 - val_accuracy: 0.5628\n",
            "Epoch 6/10\n",
            "16283/16283 [==============================] - 34s 2ms/sample - loss: 0.6878 - accuracy: 0.5413 - val_loss: 0.6785 - val_accuracy: 0.5533\n",
            "Epoch 7/10\n",
            "16283/16283 [==============================] - 34s 2ms/sample - loss: 0.6821 - accuracy: 0.5517 - val_loss: 0.6854 - val_accuracy: 0.5426\n",
            "Epoch 8/10\n",
            "16283/16283 [==============================] - 34s 2ms/sample - loss: 0.6755 - accuracy: 0.5658 - val_loss: 0.6820 - val_accuracy: 0.5696\n",
            "Epoch 9/10\n",
            "16283/16283 [==============================] - 34s 2ms/sample - loss: 0.6719 - accuracy: 0.5702 - val_loss: 0.6706 - val_accuracy: 0.5907\n",
            "Epoch 10/10\n",
            "16283/16283 [==============================] - 34s 2ms/sample - loss: 0.6617 - accuracy: 0.5871 - val_loss: 0.6650 - val_accuracy: 0.6019\n"
          ],
          "name": "stdout"
        }
      ]
    },
    {
      "cell_type": "markdown",
      "metadata": {
        "id": "wvNaLy7wvovY",
        "colab_type": "text"
      },
      "source": [
        "After adding some Dropout to our network, now the model is not overfit. So, what is Dropout? How can it handle the overfitting?"
      ]
    },
    {
      "cell_type": "markdown",
      "metadata": {
        "id": "08kpF0wlvmow",
        "colab_type": "text"
      },
      "source": [
        "# Dropout\n",
        "\n",
        "The key idea of <font color = 'blue'>Dropout</font> is to randomly drop units (along with their connections) from the neural network during training. This significantly reduces overfitting and gives major improvements over other regularization methods.\n",
        "\n",
        "![alt text](http://s3-ap-south-1.amazonaws.com/av-blog-media/wp-content/uploads/2018/04/1IrdJ5PghD9YoOyVAQ73MJw.gif)\n",
        "\n",
        "source : http://primo.ai/index.php?title=Dropout"
      ]
    },
    {
      "cell_type": "markdown",
      "metadata": {
        "id": "qB7j7xWOv9Ki",
        "colab_type": "text"
      },
      "source": [
        "The network performance is so bad since it only gets <font color = 'red'>~60% accuracy</font>. But actually we can make the network convergence faster than this.\n",
        "\n",
        "How about <font color = 'blue'>normalize</font> the data? Would it help the model to <font color = 'blue'>convergence faster</font>? Let's see."
      ]
    },
    {
      "cell_type": "markdown",
      "metadata": {
        "id": "oWHtwvLxDMRe",
        "colab_type": "text"
      },
      "source": [
        "# Normalize Data"
      ]
    },
    {
      "cell_type": "code",
      "metadata": {
        "id": "Kx_XJ5_HGceL",
        "colab_type": "code",
        "colab": {}
      },
      "source": [
        "mean_pixel = X_train.mean(axis=(0, 1, 2), keepdims=True)\n",
        "std_pixel = X_train.std(axis=(0, 1, 2), keepdims=True)\n",
        "\n",
        "X_train = ((X_train - mean_pixel) / std_pixel).astype('float32')\n",
        "\n",
        "X_val = ((X_val - mean_pixel) / std_pixel).astype('float32')\n",
        "\n",
        "X_test = ((X_test - mean_pixel) / std_pixel).astype('float32')"
      ],
      "execution_count": 0,
      "outputs": []
    },
    {
      "cell_type": "markdown",
      "metadata": {
        "id": "qJLx2cCNwy_F",
        "colab_type": "text"
      },
      "source": [
        "Re-define the model"
      ]
    },
    {
      "cell_type": "code",
      "metadata": {
        "id": "AB3ZxjDMGknw",
        "colab_type": "code",
        "outputId": "cfe25c4b-11b7-496a-8495-719e82321a85",
        "colab": {
          "base_uri": "https://localhost:8080/",
          "height": 561
        }
      },
      "source": [
        "model3 = Sequential([\n",
        "    Conv2D(filters=32, kernel_size=(3, 3), activation='relu', padding='same', input_shape=input_shape),\n",
        "    Conv2D(filters=32, kernel_size=(3, 3), activation='relu', padding='same'),\n",
        "    MaxPool2D(pool_size=(3, 3), strides=(2, 2)),\n",
        "\n",
        "    Conv2D(filters=64, kernel_size=(3, 3), activation='relu', padding='same'),\n",
        "    Conv2D(filters=64, kernel_size=(3, 3), activation='relu', padding='same'),\n",
        "    MaxPool2D(pool_size=(3, 3), strides=(2, 2)),\n",
        "\n",
        "    Flatten(),\n",
        "    Dense(units=64, activation='relu'),\n",
        "    Dropout(0.5),\n",
        "    Dense(units=32, activation='relu'),\n",
        "    Dropout(0.5),\n",
        "    Dense(units=2, activation='softmax')\n",
        "])\n",
        "\n",
        "model3.summary()"
      ],
      "execution_count": 17,
      "outputs": [
        {
          "output_type": "stream",
          "text": [
            "Model: \"sequential_2\"\n",
            "_________________________________________________________________\n",
            "Layer (type)                 Output Shape              Param #   \n",
            "=================================================================\n",
            "conv2d_8 (Conv2D)            (None, 128, 128, 32)      896       \n",
            "_________________________________________________________________\n",
            "conv2d_9 (Conv2D)            (None, 128, 128, 32)      9248      \n",
            "_________________________________________________________________\n",
            "max_pooling2d_4 (MaxPooling2 (None, 63, 63, 32)        0         \n",
            "_________________________________________________________________\n",
            "conv2d_10 (Conv2D)           (None, 63, 63, 64)        18496     \n",
            "_________________________________________________________________\n",
            "conv2d_11 (Conv2D)           (None, 63, 63, 64)        36928     \n",
            "_________________________________________________________________\n",
            "max_pooling2d_5 (MaxPooling2 (None, 31, 31, 64)        0         \n",
            "_________________________________________________________________\n",
            "flatten_2 (Flatten)          (None, 61504)             0         \n",
            "_________________________________________________________________\n",
            "dense_6 (Dense)              (None, 64)                3936320   \n",
            "_________________________________________________________________\n",
            "dropout_2 (Dropout)          (None, 64)                0         \n",
            "_________________________________________________________________\n",
            "dense_7 (Dense)              (None, 32)                2080      \n",
            "_________________________________________________________________\n",
            "dropout_3 (Dropout)          (None, 32)                0         \n",
            "_________________________________________________________________\n",
            "dense_8 (Dense)              (None, 2)                 66        \n",
            "=================================================================\n",
            "Total params: 4,004,034\n",
            "Trainable params: 4,004,034\n",
            "Non-trainable params: 0\n",
            "_________________________________________________________________\n"
          ],
          "name": "stdout"
        }
      ]
    },
    {
      "cell_type": "code",
      "metadata": {
        "id": "p0hm-IE1GrzR",
        "colab_type": "code",
        "outputId": "b93cbfb3-c221-4d8b-8a6d-02187c1ecdaa",
        "colab": {
          "base_uri": "https://localhost:8080/",
          "height": 374
        }
      },
      "source": [
        "model3.compile(optimizer='adam', loss='categorical_crossentropy', metrics=['accuracy'])\n",
        "\n",
        "his = model3.fit(X_train, y_train, batch_size=64, epochs=10, validation_data=(X_val, y_val))\n",
        "history.append(his)"
      ],
      "execution_count": 18,
      "outputs": [
        {
          "output_type": "stream",
          "text": [
            "Train on 16283 samples, validate on 2326 samples\n",
            "Epoch 1/10\n",
            "16283/16283 [==============================] - 36s 2ms/sample - loss: 0.6866 - accuracy: 0.5584 - val_loss: 0.6123 - val_accuracy: 0.6595\n",
            "Epoch 2/10\n",
            "16283/16283 [==============================] - 35s 2ms/sample - loss: 0.5883 - accuracy: 0.7018 - val_loss: 0.4977 - val_accuracy: 0.7661\n",
            "Epoch 3/10\n",
            "16283/16283 [==============================] - 35s 2ms/sample - loss: 0.5041 - accuracy: 0.7608 - val_loss: 0.4685 - val_accuracy: 0.7872\n",
            "Epoch 4/10\n",
            "16283/16283 [==============================] - 35s 2ms/sample - loss: 0.4555 - accuracy: 0.7956 - val_loss: 0.4158 - val_accuracy: 0.8186\n",
            "Epoch 5/10\n",
            "16283/16283 [==============================] - 35s 2ms/sample - loss: 0.4155 - accuracy: 0.8153 - val_loss: 0.4194 - val_accuracy: 0.8108\n",
            "Epoch 6/10\n",
            "16283/16283 [==============================] - 35s 2ms/sample - loss: 0.3821 - accuracy: 0.8352 - val_loss: 0.3879 - val_accuracy: 0.8255\n",
            "Epoch 7/10\n",
            "16283/16283 [==============================] - 35s 2ms/sample - loss: 0.3476 - accuracy: 0.8512 - val_loss: 0.4060 - val_accuracy: 0.8332\n",
            "Epoch 8/10\n",
            "16283/16283 [==============================] - 35s 2ms/sample - loss: 0.3111 - accuracy: 0.8686 - val_loss: 0.3932 - val_accuracy: 0.8328\n",
            "Epoch 9/10\n",
            "16283/16283 [==============================] - 35s 2ms/sample - loss: 0.2895 - accuracy: 0.8799 - val_loss: 0.3816 - val_accuracy: 0.8323\n",
            "Epoch 10/10\n",
            "16283/16283 [==============================] - 35s 2ms/sample - loss: 0.2488 - accuracy: 0.8948 - val_loss: 0.4208 - val_accuracy: 0.8285\n"
          ],
          "name": "stdout"
        }
      ]
    },
    {
      "cell_type": "markdown",
      "metadata": {
        "id": "rKOUKjlToiKm",
        "colab_type": "text"
      },
      "source": [
        "Let's see the training accuracy and loss for our three models!"
      ]
    },
    {
      "cell_type": "code",
      "metadata": {
        "id": "Bkjuv_KWf9Yi",
        "colab_type": "code",
        "outputId": "340239bf-cf55-4a28-ad9e-3df493fef05d",
        "colab": {
          "base_uri": "https://localhost:8080/",
          "height": 838
        }
      },
      "source": [
        "model_name = [\"Without Dropout\", \"With Dropout\", \"With Dropout and Normalization\"]\n",
        "\n",
        "plt.rcParams['figure.figsize'] = [14, 14]\n",
        "plt.subplots_adjust(wspace=0.2, hspace=0.5)\n",
        "\n",
        "for i, name in enumerate(model_name):\n",
        "  plt.subplot(3, 2, i*2+1)\n",
        "  plt.axis([-1, 10, 0, 1])\n",
        "  plt.plot(history[i].history['accuracy'], label='train_accuracy')\n",
        "  plt.plot(history[i].history['val_accuracy'], label='val_accuracy')\n",
        "  plt.title(\"Classification Accuracy \" + model_name[i])\n",
        "  plt.xlabel('Epoch')\n",
        "  plt.legend()\n",
        "\n",
        "  plt.subplot(3, 2, i*2+2)\n",
        "  plt.axis([-1, 10, 0, 1])\n",
        "  plt.plot(history[i].history['loss'], label='train_loss')\n",
        "  plt.plot(history[i].history['val_loss'], label='val_loss')\n",
        "  plt.title(\"Classification Loss \" + model_name[i])\n",
        "  plt.xlabel('Epoch')\n",
        "  plt.legend()\n",
        "  \n",
        "  plt.show()"
      ],
      "execution_count": 19,
      "outputs": [
        {
          "output_type": "display_data",
          "data": {
            "image/png": "[encoded data removed]",
            "text/plain": [
              "<Figure size 1008x1008 with 2 Axes>"
            ]
          },
          "metadata": {
            "tags": [],
            "needs_background": "light"
          }
        },
        {
          "output_type": "display_data",
          "data": {
            "image/png": "[encoded data removed]",
            "text/plain": [
              "<Figure size 1008x1008 with 2 Axes>"
            ]
          },
          "metadata": {
            "tags": [],
            "needs_background": "light"
          }
        },
        {
          "output_type": "display_data",
          "data": {
            "image/png": "[encoded data removed]",
            "text/plain": [
              "<Figure size 1008x1008 with 2 Axes>"
            ]
          },
          "metadata": {
            "tags": [],
            "needs_background": "light"
          }
        }
      ]
    },
    {
      "cell_type": "markdown",
      "metadata": {
        "id": "dUd5GxezQtfS",
        "colab_type": "text"
      },
      "source": [
        "As we can see, our first model is <font color = 'red'>overfitting</font> on the first row of the graphic. After adding <font color = 'blue'>dropout</font>, the model is not <font color = 'red'>overfitting</font> anymore. However, it is not showing performance as well as the second row of graphic. After we <font color = 'blue'>normalize</font> the data, the training result exhibit a <font color = 'blue'>better performance</font> than the two previous models. So, what is <font color = 'blue'>Data Normalization</font>?"
      ]
    },
    {
      "cell_type": "markdown",
      "metadata": {
        "id": "prCDY9ngRite",
        "colab_type": "text"
      },
      "source": [
        "# Data Normalization\n",
        "\n",
        "In the simplest cases, <font color = 'blue'>normalization</font> means <font color = 'blue'>adjusting values on different scales to a common scale</font>. In more complicated cases, normalization may refer to <font color = 'blue'>more sophisticated adjustments where the intention is to bring the entire probability distributions of adjusted values into alignment</font>. In the case of normalization of scores in educational assessment, there may be an intention to align distributions to a normal distribution."
      ]
    },
    {
      "cell_type": "code",
      "metadata": {
        "id": "0AY-KZ0ia1Sl",
        "colab_type": "code",
        "outputId": "557f27f9-84dc-45c8-f7dd-063d09c11a75",
        "colab": {
          "base_uri": "https://localhost:8080/",
          "height": 281
        }
      },
      "source": [
        "plt.rcParams['figure.figsize'] = [14, 4]\n",
        "plt.subplots_adjust(wspace=0.2, hspace=0.5)\n",
        "\n",
        "plt.subplot(121)\n",
        "plt.hist(X_train_ori[0].ravel(),256,[0,256])\n",
        "plt.title(\"Before normalization\")\n",
        "\n",
        "plt.subplot(122)\n",
        "plt.hist(X_train[0].ravel(),256,[-3,3])\n",
        "plt.title(\"After normalization\")\n",
        "plt.show()"
      ],
      "execution_count": 20,
      "outputs": [
        {
          "output_type": "display_data",
          "data": {
            "image/png": "[encoded data removed]",
            "text/plain": [
              "<Figure size 1008x288 with 2 Axes>"
            ]
          },
          "metadata": {
            "tags": [],
            "needs_background": "light"
          }
        }
      ]
    },
    {
      "cell_type": "markdown",
      "metadata": {
        "id": "1notGKdHa4NF",
        "colab_type": "text"
      },
      "source": [
        "To use numeric data for machine regression, you usually need to <font color = 'blue'>normalize</font> the data. Otherwise, the numbers with <font color = 'blue'>larger ranges</font> may tend to <font color = 'red'>dominate</font> the Euclidian distance between feature vectors, their effects can be magnified at the expense of the other fields, and the steepest descent optimization may have difficulty converging. There are a number of ways to normalize and standardize data for ML, including <font color = 'blue'>min-max normalization</font>, <font color = 'blue'>mean normalization</font>, <font color = 'blue'>standardization</font>, and <font color = 'blue'>scaling to unit length</font>. This process is often called <font color = 'blue'>feature scaling</font>.\n",
        "\n",
        "<font color = 'blue'>Normalization/Standardization</font> is beneficial in many cases. It <font color = 'blue'>improves the numerical stability</font> of the model and often reduces training time. However, standardization isn’t always great. It can harm the performance of distance-based clustering algorithms by assuming equal importance of features. If there are <font color = 'blue'>inherent importance differences between features</font>, it’s generally <font color = 'red'>not a good idea</font> to do standardization."
      ]
    },
    {
      "cell_type": "markdown",
      "metadata": {
        "id": "ozVF4iNm8YOg",
        "colab_type": "text"
      },
      "source": [
        "# Evaluate Model"
      ]
    },
    {
      "cell_type": "markdown",
      "metadata": {
        "id": "50NSUHYg8qG1",
        "colab_type": "text"
      },
      "source": [
        "## Model Performance without Dropout"
      ]
    },
    {
      "cell_type": "code",
      "metadata": {
        "id": "B9lJHPm88bvh",
        "colab_type": "code",
        "outputId": "4ec6a6d7-009c-4af3-9234-5aaab13bfde9",
        "colab": {
          "base_uri": "https://localhost:8080/",
          "height": 119
        }
      },
      "source": [
        "train_scores = model1.evaluate(X_train, y_train, batch_size=16, verbose=1)\n",
        "test_scores  = model1.evaluate(X_test, y_test, batch_size=16, verbose=1)\n",
        "val_scores   = model1.evaluate(X_val, y_val, batch_size=16, verbose=1)\n",
        "\n",
        "print('Train Loss: %.5f with Accuracy: %.1f%%' % (train_scores[0], (train_scores[1]*100)))\n",
        "print('Test  Loss: %.5f with Accuracy: %.1f%%' % (test_scores[0], (test_scores[1]*100)))\n",
        "print('Val   Loss: %.5f with Accuracy: %.1f%%' % (val_scores[0], (val_scores[1]*100)))"
      ],
      "execution_count": 21,
      "outputs": [
        {
          "output_type": "stream",
          "text": [
            "16283/16283 [==============================] - 15s 945us/sample - loss: 9.0073 - accuracy: 0.4995\n",
            "4653/4653 [==============================] - 4s 952us/sample - loss: 8.8874 - accuracy: 0.5014\n",
            "2326/2326 [==============================] - 2s 979us/sample - loss: 9.1928 - accuracy: 0.4966\n",
            "Train Loss: 9.00727 with Accuracy: 50.0%\n",
            "Test  Loss: 8.88738 with Accuracy: 50.1%\n",
            "Val   Loss: 9.19276 with Accuracy: 49.7%\n"
          ],
          "name": "stdout"
        }
      ]
    },
    {
      "cell_type": "markdown",
      "metadata": {
        "id": "g4miU7IP8uAJ",
        "colab_type": "text"
      },
      "source": [
        "## Model Performance with Dropout"
      ]
    },
    {
      "cell_type": "code",
      "metadata": {
        "id": "uTpunCuB8jm_",
        "colab_type": "code",
        "outputId": "4f24c2c6-16c8-4a7b-ae1c-d6893d9c741e",
        "colab": {
          "base_uri": "https://localhost:8080/",
          "height": 119
        }
      },
      "source": [
        "train_scores = model2.evaluate(X_train, y_train, batch_size=16, verbose=1)\n",
        "test_scores  = model2.evaluate(X_test, y_test, batch_size=16, verbose=1)\n",
        "val_scores   = model2.evaluate(X_val, y_val, batch_size=16, verbose=1)\n",
        "\n",
        "print('Train Loss: %.5f with Accuracy: %.1f%%' % (train_scores[0], (train_scores[1]*100)))\n",
        "print('Test  Loss: %.5f with Accuracy: %.1f%%' % (test_scores[0], (test_scores[1]*100)))\n",
        "print('Val   Loss: %.5f with Accuracy: %.1f%%' % (val_scores[0], (val_scores[1]*100)))"
      ],
      "execution_count": 22,
      "outputs": [
        {
          "output_type": "stream",
          "text": [
            "16283/16283 [==============================] - 15s 918us/sample - loss: 1.3293 - accuracy: 0.5005\n",
            "4653/4653 [==============================] - 4s 912us/sample - loss: 1.3008 - accuracy: 0.5033\n",
            "2326/2326 [==============================] - 2s 915us/sample - loss: 1.3404 - accuracy: 0.5000\n",
            "Train Loss: 1.32929 with Accuracy: 50.1%\n",
            "Test  Loss: 1.30075 with Accuracy: 50.3%\n",
            "Val   Loss: 1.34042 with Accuracy: 50.0%\n"
          ],
          "name": "stdout"
        }
      ]
    },
    {
      "cell_type": "markdown",
      "metadata": {
        "id": "P3HH-r2kzS-e",
        "colab_type": "text"
      },
      "source": [
        "## Model Performance with Dropout and Data Normalization"
      ]
    },
    {
      "cell_type": "code",
      "metadata": {
        "id": "LddeLb59zXq-",
        "colab_type": "code",
        "outputId": "902ff32d-3edc-4407-e0a2-90b762485387",
        "colab": {
          "base_uri": "https://localhost:8080/",
          "height": 119
        }
      },
      "source": [
        "train_scores = model3.evaluate(X_train, y_train, batch_size=16, verbose=1)\n",
        "test_scores  = model3.evaluate(X_test, y_test, batch_size=16, verbose=1)\n",
        "val_scores   = model3.evaluate(X_val, y_val, batch_size=16, verbose=1)\n",
        "\n",
        "print('Train Loss: %.5f with Accuracy: %.1f%%' % (train_scores[0], (train_scores[1]*100)))\n",
        "print('Test  Loss: %.5f with Accuracy: %.1f%%' % (test_scores[0], (test_scores[1]*100)))\n",
        "print('Val   Loss: %.5f with Accuracy: %.1f%%' % (val_scores[0], (val_scores[1]*100)))"
      ],
      "execution_count": 23,
      "outputs": [
        {
          "output_type": "stream",
          "text": [
            "16283/16283 [==============================] - 15s 910us/sample - loss: 0.1908 - accuracy: 0.9189\n",
            "4653/4653 [==============================] - 4s 907us/sample - loss: 0.4367 - accuracy: 0.8231\n",
            "2326/2326 [==============================] - 2s 907us/sample - loss: 0.4208 - accuracy: 0.8285\n",
            "Train Loss: 0.19084 with Accuracy: 91.9%\n",
            "Test  Loss: 0.43671 with Accuracy: 82.3%\n",
            "Val   Loss: 0.42085 with Accuracy: 82.8%\n"
          ],
          "name": "stdout"
        }
      ]
    },
    {
      "cell_type": "markdown",
      "metadata": {
        "id": "QoY-Fh-wzq-v",
        "colab_type": "text"
      },
      "source": [
        "If you realize, the third model we have trained with the <font color = 'blue'>normalized</font> data is still <font color = 'red'>overfitting</font> even although we have added <font color = 'blue'>Dropout</font>. Are there any another ways to handle <font color = 'red'>overfitting</font>? Yes, for the next tutorial we will do <font color = 'blue'>Data Augmentation</font> to prevent <font color = 'red'>overfitting</font>. Let's see how we do this."
      ]
    },
    {
      "cell_type": "markdown",
      "metadata": {
        "id": "zIN-831k0A6R",
        "colab_type": "text"
      },
      "source": [
        "<p>Copyright &copy;  <a href=https://www.linkedin.com/in/malikanhar/>2019 - MALIK</a> </p>"
      ]
    }
  ]
}