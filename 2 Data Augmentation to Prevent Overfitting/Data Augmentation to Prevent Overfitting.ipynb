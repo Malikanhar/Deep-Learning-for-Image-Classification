{
  "nbformat": 4,
  "nbformat_minor": 0,
  "metadata": {
    "colab": {
      "name": "Data Augmentation to Prevent Overfitting.ipynb",
      "provenance": [],
      "collapsed_sections": []
    },
    "kernelspec": {
      "name": "python3",
      "display_name": "Python 3"
    },
    "accelerator": "GPU",
    "widgets": {
      "application/vnd.jupyter.widget-state+json": {
        "f1ec0cb8d24a4543a8b681cf9f361514": {
          "model_module": "@jupyter-widgets/controls",
          "model_name": "HBoxModel",
          "state": {
            "_view_name": "HBoxView",
            "_dom_classes": [],
            "_model_name": "HBoxModel",
            "_view_module": "@jupyter-widgets/controls",
            "_model_module_version": "1.5.0",
            "_view_count": null,
            "_view_module_version": "1.5.0",
            "box_style": "",
            "layout": "IPY_MODEL_bd9490ea606a47c3bcedb6253ee3057b",
            "_model_module": "@jupyter-widgets/controls",
            "children": [
              "IPY_MODEL_74fe410087674fc4aafadba39cf5fbb7",
              "IPY_MODEL_edcf6e620948426fb15ae7e860ef270e"
            ]
          }
        },
        "bd9490ea606a47c3bcedb6253ee3057b": {
          "model_module": "@jupyter-widgets/base",
          "model_name": "LayoutModel",
          "state": {
            "_view_name": "LayoutView",
            "grid_template_rows": null,
            "right": null,
            "justify_content": null,
            "_view_module": "@jupyter-widgets/base",
            "overflow": null,
            "_model_module_version": "1.2.0",
            "_view_count": null,
            "flex_flow": null,
            "width": null,
            "min_width": null,
            "border": null,
            "align_items": null,
            "bottom": null,
            "_model_module": "@jupyter-widgets/base",
            "top": null,
            "grid_column": null,
            "overflow_y": null,
            "overflow_x": null,
            "grid_auto_flow": null,
            "grid_area": null,
            "grid_template_columns": null,
            "flex": null,
            "_model_name": "LayoutModel",
            "justify_items": null,
            "grid_row": null,
            "max_height": null,
            "align_content": null,
            "visibility": null,
            "align_self": null,
            "height": null,
            "min_height": null,
            "padding": null,
            "grid_auto_rows": null,
            "grid_gap": null,
            "max_width": null,
            "order": null,
            "_view_module_version": "1.2.0",
            "grid_template_areas": null,
            "object_position": null,
            "object_fit": null,
            "grid_auto_columns": null,
            "margin": null,
            "display": null,
            "left": null
          }
        },
        "74fe410087674fc4aafadba39cf5fbb7": {
          "model_module": "@jupyter-widgets/controls",
          "model_name": "IntProgressModel",
          "state": {
            "_view_name": "ProgressView",
            "style": "IPY_MODEL_2effb0bc158b468daac4edad2de03c13",
            "_dom_classes": [],
            "description": "Dl Completed...: 100%",
            "_model_name": "IntProgressModel",
            "bar_style": "success",
            "max": 1,
            "_view_module": "@jupyter-widgets/controls",
            "_model_module_version": "1.5.0",
            "value": 1,
            "_view_count": null,
            "_view_module_version": "1.5.0",
            "orientation": "horizontal",
            "min": 0,
            "description_tooltip": null,
            "_model_module": "@jupyter-widgets/controls",
            "layout": "IPY_MODEL_5cee0fa438eb4d64ab64c496cff33961"
          }
        },
        "edcf6e620948426fb15ae7e860ef270e": {
          "model_module": "@jupyter-widgets/controls",
          "model_name": "HTMLModel",
          "state": {
            "_view_name": "HTMLView",
            "style": "IPY_MODEL_92948eed7d544eb2b170bf63c3d9760f",
            "_dom_classes": [],
            "description": "",
            "_model_name": "HTMLModel",
            "placeholder": "​",
            "_view_module": "@jupyter-widgets/controls",
            "_model_module_version": "1.5.0",
            "value": " 1/1 [00:16&lt;00:00, 16.07s/ url]",
            "_view_count": null,
            "_view_module_version": "1.5.0",
            "description_tooltip": null,
            "_model_module": "@jupyter-widgets/controls",
            "layout": "IPY_MODEL_21018b155b9d400aac7135cbe5b8cad4"
          }
        },
        "2effb0bc158b468daac4edad2de03c13": {
          "model_module": "@jupyter-widgets/controls",
          "model_name": "ProgressStyleModel",
          "state": {
            "_view_name": "StyleView",
            "_model_name": "ProgressStyleModel",
            "description_width": "initial",
            "_view_module": "@jupyter-widgets/base",
            "_model_module_version": "1.5.0",
            "_view_count": null,
            "_view_module_version": "1.2.0",
            "bar_color": null,
            "_model_module": "@jupyter-widgets/controls"
          }
        },
        "5cee0fa438eb4d64ab64c496cff33961": {
          "model_module": "@jupyter-widgets/base",
          "model_name": "LayoutModel",
          "state": {
            "_view_name": "LayoutView",
            "grid_template_rows": null,
            "right": null,
            "justify_content": null,
            "_view_module": "@jupyter-widgets/base",
            "overflow": null,
            "_model_module_version": "1.2.0",
            "_view_count": null,
            "flex_flow": null,
            "width": null,
            "min_width": null,
            "border": null,
            "align_items": null,
            "bottom": null,
            "_model_module": "@jupyter-widgets/base",
            "top": null,
            "grid_column": null,
            "overflow_y": null,
            "overflow_x": null,
            "grid_auto_flow": null,
            "grid_area": null,
            "grid_template_columns": null,
            "flex": null,
            "_model_name": "LayoutModel",
            "justify_items": null,
            "grid_row": null,
            "max_height": null,
            "align_content": null,
            "visibility": null,
            "align_self": null,
            "height": null,
            "min_height": null,
            "padding": null,
            "grid_auto_rows": null,
            "grid_gap": null,
            "max_width": null,
            "order": null,
            "_view_module_version": "1.2.0",
            "grid_template_areas": null,
            "object_position": null,
            "object_fit": null,
            "grid_auto_columns": null,
            "margin": null,
            "display": null,
            "left": null
          }
        },
        "92948eed7d544eb2b170bf63c3d9760f": {
          "model_module": "@jupyter-widgets/controls",
          "model_name": "DescriptionStyleModel",
          "state": {
            "_view_name": "StyleView",
            "_model_name": "DescriptionStyleModel",
            "description_width": "",
            "_view_module": "@jupyter-widgets/base",
            "_model_module_version": "1.5.0",
            "_view_count": null,
            "_view_module_version": "1.2.0",
            "_model_module": "@jupyter-widgets/controls"
          }
        },
        "21018b155b9d400aac7135cbe5b8cad4": {
          "model_module": "@jupyter-widgets/base",
          "model_name": "LayoutModel",
          "state": {
            "_view_name": "LayoutView",
            "grid_template_rows": null,
            "right": null,
            "justify_content": null,
            "_view_module": "@jupyter-widgets/base",
            "overflow": null,
            "_model_module_version": "1.2.0",
            "_view_count": null,
            "flex_flow": null,
            "width": null,
            "min_width": null,
            "border": null,
            "align_items": null,
            "bottom": null,
            "_model_module": "@jupyter-widgets/base",
            "top": null,
            "grid_column": null,
            "overflow_y": null,
            "overflow_x": null,
            "grid_auto_flow": null,
            "grid_area": null,
            "grid_template_columns": null,
            "flex": null,
            "_model_name": "LayoutModel",
            "justify_items": null,
            "grid_row": null,
            "max_height": null,
            "align_content": null,
            "visibility": null,
            "align_self": null,
            "height": null,
            "min_height": null,
            "padding": null,
            "grid_auto_rows": null,
            "grid_gap": null,
            "max_width": null,
            "order": null,
            "_view_module_version": "1.2.0",
            "grid_template_areas": null,
            "object_position": null,
            "object_fit": null,
            "grid_auto_columns": null,
            "margin": null,
            "display": null,
            "left": null
          }
        },
        "bf65dc7878c34cf68b84f149b5e8eb54": {
          "model_module": "@jupyter-widgets/controls",
          "model_name": "HBoxModel",
          "state": {
            "_view_name": "HBoxView",
            "_dom_classes": [],
            "_model_name": "HBoxModel",
            "_view_module": "@jupyter-widgets/controls",
            "_model_module_version": "1.5.0",
            "_view_count": null,
            "_view_module_version": "1.5.0",
            "box_style": "",
            "layout": "IPY_MODEL_b7cbbd5b165143aaad28a802411f118e",
            "_model_module": "@jupyter-widgets/controls",
            "children": [
              "IPY_MODEL_1ca3f52c20a54ddb97da9abc2ebf2a3c",
              "IPY_MODEL_73ea19b6d673432eb26c97d55a1b53ca"
            ]
          }
        },
        "b7cbbd5b165143aaad28a802411f118e": {
          "model_module": "@jupyter-widgets/base",
          "model_name": "LayoutModel",
          "state": {
            "_view_name": "LayoutView",
            "grid_template_rows": null,
            "right": null,
            "justify_content": null,
            "_view_module": "@jupyter-widgets/base",
            "overflow": null,
            "_model_module_version": "1.2.0",
            "_view_count": null,
            "flex_flow": null,
            "width": null,
            "min_width": null,
            "border": null,
            "align_items": null,
            "bottom": null,
            "_model_module": "@jupyter-widgets/base",
            "top": null,
            "grid_column": null,
            "overflow_y": null,
            "overflow_x": null,
            "grid_auto_flow": null,
            "grid_area": null,
            "grid_template_columns": null,
            "flex": null,
            "_model_name": "LayoutModel",
            "justify_items": null,
            "grid_row": null,
            "max_height": null,
            "align_content": null,
            "visibility": null,
            "align_self": null,
            "height": null,
            "min_height": null,
            "padding": null,
            "grid_auto_rows": null,
            "grid_gap": null,
            "max_width": null,
            "order": null,
            "_view_module_version": "1.2.0",
            "grid_template_areas": null,
            "object_position": null,
            "object_fit": null,
            "grid_auto_columns": null,
            "margin": null,
            "display": null,
            "left": null
          }
        },
        "1ca3f52c20a54ddb97da9abc2ebf2a3c": {
          "model_module": "@jupyter-widgets/controls",
          "model_name": "IntProgressModel",
          "state": {
            "_view_name": "ProgressView",
            "style": "IPY_MODEL_4a9374dd53964da4b7723e5df09eb2f3",
            "_dom_classes": [],
            "description": "Dl Size...: 100%",
            "_model_name": "IntProgressModel",
            "bar_style": "success",
            "max": 1,
            "_view_module": "@jupyter-widgets/controls",
            "_model_module_version": "1.5.0",
            "value": 1,
            "_view_count": null,
            "_view_module_version": "1.5.0",
            "orientation": "horizontal",
            "min": 0,
            "description_tooltip": null,
            "_model_module": "@jupyter-widgets/controls",
            "layout": "IPY_MODEL_0dea281c50614207bc0442d3922ec3f6"
          }
        },
        "73ea19b6d673432eb26c97d55a1b53ca": {
          "model_module": "@jupyter-widgets/controls",
          "model_name": "HTMLModel",
          "state": {
            "_view_name": "HTMLView",
            "style": "IPY_MODEL_af09351c3a7b47bba81ecf181bc1e471",
            "_dom_classes": [],
            "description": "",
            "_model_name": "HTMLModel",
            "placeholder": "​",
            "_view_module": "@jupyter-widgets/controls",
            "_model_module_version": "1.5.0",
            "value": " 162/162 [00:16&lt;00:00, 10.10 MiB/s]",
            "_view_count": null,
            "_view_module_version": "1.5.0",
            "description_tooltip": null,
            "_model_module": "@jupyter-widgets/controls",
            "layout": "IPY_MODEL_f119c66994074da6824e69aa597a90c0"
          }
        },
        "4a9374dd53964da4b7723e5df09eb2f3": {
          "model_module": "@jupyter-widgets/controls",
          "model_name": "ProgressStyleModel",
          "state": {
            "_view_name": "StyleView",
            "_model_name": "ProgressStyleModel",
            "description_width": "initial",
            "_view_module": "@jupyter-widgets/base",
            "_model_module_version": "1.5.0",
            "_view_count": null,
            "_view_module_version": "1.2.0",
            "bar_color": null,
            "_model_module": "@jupyter-widgets/controls"
          }
        },
        "0dea281c50614207bc0442d3922ec3f6": {
          "model_module": "@jupyter-widgets/base",
          "model_name": "LayoutModel",
          "state": {
            "_view_name": "LayoutView",
            "grid_template_rows": null,
            "right": null,
            "justify_content": null,
            "_view_module": "@jupyter-widgets/base",
            "overflow": null,
            "_model_module_version": "1.2.0",
            "_view_count": null,
            "flex_flow": null,
            "width": null,
            "min_width": null,
            "border": null,
            "align_items": null,
            "bottom": null,
            "_model_module": "@jupyter-widgets/base",
            "top": null,
            "grid_column": null,
            "overflow_y": null,
            "overflow_x": null,
            "grid_auto_flow": null,
            "grid_area": null,
            "grid_template_columns": null,
            "flex": null,
            "_model_name": "LayoutModel",
            "justify_items": null,
            "grid_row": null,
            "max_height": null,
            "align_content": null,
            "visibility": null,
            "align_self": null,
            "height": null,
            "min_height": null,
            "padding": null,
            "grid_auto_rows": null,
            "grid_gap": null,
            "max_width": null,
            "order": null,
            "_view_module_version": "1.2.0",
            "grid_template_areas": null,
            "object_position": null,
            "object_fit": null,
            "grid_auto_columns": null,
            "margin": null,
            "display": null,
            "left": null
          }
        },
        "af09351c3a7b47bba81ecf181bc1e471": {
          "model_module": "@jupyter-widgets/controls",
          "model_name": "DescriptionStyleModel",
          "state": {
            "_view_name": "StyleView",
            "_model_name": "DescriptionStyleModel",
            "description_width": "",
            "_view_module": "@jupyter-widgets/base",
            "_model_module_version": "1.5.0",
            "_view_count": null,
            "_view_module_version": "1.2.0",
            "_model_module": "@jupyter-widgets/controls"
          }
        },
        "f119c66994074da6824e69aa597a90c0": {
          "model_module": "@jupyter-widgets/base",
          "model_name": "LayoutModel",
          "state": {
            "_view_name": "LayoutView",
            "grid_template_rows": null,
            "right": null,
            "justify_content": null,
            "_view_module": "@jupyter-widgets/base",
            "overflow": null,
            "_model_module_version": "1.2.0",
            "_view_count": null,
            "flex_flow": null,
            "width": null,
            "min_width": null,
            "border": null,
            "align_items": null,
            "bottom": null,
            "_model_module": "@jupyter-widgets/base",
            "top": null,
            "grid_column": null,
            "overflow_y": null,
            "overflow_x": null,
            "grid_auto_flow": null,
            "grid_area": null,
            "grid_template_columns": null,
            "flex": null,
            "_model_name": "LayoutModel",
            "justify_items": null,
            "grid_row": null,
            "max_height": null,
            "align_content": null,
            "visibility": null,
            "align_self": null,
            "height": null,
            "min_height": null,
            "padding": null,
            "grid_auto_rows": null,
            "grid_gap": null,
            "max_width": null,
            "order": null,
            "_view_module_version": "1.2.0",
            "grid_template_areas": null,
            "object_position": null,
            "object_fit": null,
            "grid_auto_columns": null,
            "margin": null,
            "display": null,
            "left": null
          }
        },
        "bff0c1b6c63046e984a228243eadeeca": {
          "model_module": "@jupyter-widgets/controls",
          "model_name": "HBoxModel",
          "state": {
            "_view_name": "HBoxView",
            "_dom_classes": [],
            "_model_name": "HBoxModel",
            "_view_module": "@jupyter-widgets/controls",
            "_model_module_version": "1.5.0",
            "_view_count": null,
            "_view_module_version": "1.5.0",
            "box_style": "",
            "layout": "IPY_MODEL_10015eeadca848a1a2ad0a2a65b50b11",
            "_model_module": "@jupyter-widgets/controls",
            "children": [
              "IPY_MODEL_d555eab4a45046ee848e55a92ff14848",
              "IPY_MODEL_d411aaf2147b4a8798e8d6265426124f"
            ]
          }
        },
        "10015eeadca848a1a2ad0a2a65b50b11": {
          "model_module": "@jupyter-widgets/base",
          "model_name": "LayoutModel",
          "state": {
            "_view_name": "LayoutView",
            "grid_template_rows": null,
            "right": null,
            "justify_content": null,
            "_view_module": "@jupyter-widgets/base",
            "overflow": null,
            "_model_module_version": "1.2.0",
            "_view_count": null,
            "flex_flow": null,
            "width": null,
            "min_width": null,
            "border": null,
            "align_items": null,
            "bottom": null,
            "_model_module": "@jupyter-widgets/base",
            "top": null,
            "grid_column": null,
            "overflow_y": null,
            "overflow_x": null,
            "grid_auto_flow": null,
            "grid_area": null,
            "grid_template_columns": null,
            "flex": null,
            "_model_name": "LayoutModel",
            "justify_items": null,
            "grid_row": null,
            "max_height": null,
            "align_content": null,
            "visibility": null,
            "align_self": null,
            "height": null,
            "min_height": null,
            "padding": null,
            "grid_auto_rows": null,
            "grid_gap": null,
            "max_width": null,
            "order": null,
            "_view_module_version": "1.2.0",
            "grid_template_areas": null,
            "object_position": null,
            "object_fit": null,
            "grid_auto_columns": null,
            "margin": null,
            "display": null,
            "left": null
          }
        },
        "d555eab4a45046ee848e55a92ff14848": {
          "model_module": "@jupyter-widgets/controls",
          "model_name": "IntProgressModel",
          "state": {
            "_view_name": "ProgressView",
            "style": "IPY_MODEL_3afb6db21934451bb4540abc6edc9a61",
            "_dom_classes": [],
            "description": "Extraction completed...: 100%",
            "_model_name": "IntProgressModel",
            "bar_style": "success",
            "max": 1,
            "_view_module": "@jupyter-widgets/controls",
            "_model_module_version": "1.5.0",
            "value": 1,
            "_view_count": null,
            "_view_module_version": "1.5.0",
            "orientation": "horizontal",
            "min": 0,
            "description_tooltip": null,
            "_model_module": "@jupyter-widgets/controls",
            "layout": "IPY_MODEL_870c9af77fbe4316b6c63cf1afb23439"
          }
        },
        "d411aaf2147b4a8798e8d6265426124f": {
          "model_module": "@jupyter-widgets/controls",
          "model_name": "HTMLModel",
          "state": {
            "_view_name": "HTMLView",
            "style": "IPY_MODEL_bb32dfb8577e4c618595a192e4efecce",
            "_dom_classes": [],
            "description": "",
            "_model_name": "HTMLModel",
            "placeholder": "​",
            "_view_module": "@jupyter-widgets/controls",
            "_model_module_version": "1.5.0",
            "value": " 1/1 [00:16&lt;00:00, 16.00s/ file]",
            "_view_count": null,
            "_view_module_version": "1.5.0",
            "description_tooltip": null,
            "_model_module": "@jupyter-widgets/controls",
            "layout": "IPY_MODEL_0dc09b00163a4b038c747cb6dd5dfcf9"
          }
        },
        "3afb6db21934451bb4540abc6edc9a61": {
          "model_module": "@jupyter-widgets/controls",
          "model_name": "ProgressStyleModel",
          "state": {
            "_view_name": "StyleView",
            "_model_name": "ProgressStyleModel",
            "description_width": "initial",
            "_view_module": "@jupyter-widgets/base",
            "_model_module_version": "1.5.0",
            "_view_count": null,
            "_view_module_version": "1.2.0",
            "bar_color": null,
            "_model_module": "@jupyter-widgets/controls"
          }
        },
        "870c9af77fbe4316b6c63cf1afb23439": {
          "model_module": "@jupyter-widgets/base",
          "model_name": "LayoutModel",
          "state": {
            "_view_name": "LayoutView",
            "grid_template_rows": null,
            "right": null,
            "justify_content": null,
            "_view_module": "@jupyter-widgets/base",
            "overflow": null,
            "_model_module_version": "1.2.0",
            "_view_count": null,
            "flex_flow": null,
            "width": null,
            "min_width": null,
            "border": null,
            "align_items": null,
            "bottom": null,
            "_model_module": "@jupyter-widgets/base",
            "top": null,
            "grid_column": null,
            "overflow_y": null,
            "overflow_x": null,
            "grid_auto_flow": null,
            "grid_area": null,
            "grid_template_columns": null,
            "flex": null,
            "_model_name": "LayoutModel",
            "justify_items": null,
            "grid_row": null,
            "max_height": null,
            "align_content": null,
            "visibility": null,
            "align_self": null,
            "height": null,
            "min_height": null,
            "padding": null,
            "grid_auto_rows": null,
            "grid_gap": null,
            "max_width": null,
            "order": null,
            "_view_module_version": "1.2.0",
            "grid_template_areas": null,
            "object_position": null,
            "object_fit": null,
            "grid_auto_columns": null,
            "margin": null,
            "display": null,
            "left": null
          }
        },
        "bb32dfb8577e4c618595a192e4efecce": {
          "model_module": "@jupyter-widgets/controls",
          "model_name": "DescriptionStyleModel",
          "state": {
            "_view_name": "StyleView",
            "_model_name": "DescriptionStyleModel",
            "description_width": "",
            "_view_module": "@jupyter-widgets/base",
            "_model_module_version": "1.5.0",
            "_view_count": null,
            "_view_module_version": "1.2.0",
            "_model_module": "@jupyter-widgets/controls"
          }
        },
        "0dc09b00163a4b038c747cb6dd5dfcf9": {
          "model_module": "@jupyter-widgets/base",
          "model_name": "LayoutModel",
          "state": {
            "_view_name": "LayoutView",
            "grid_template_rows": null,
            "right": null,
            "justify_content": null,
            "_view_module": "@jupyter-widgets/base",
            "overflow": null,
            "_model_module_version": "1.2.0",
            "_view_count": null,
            "flex_flow": null,
            "width": null,
            "min_width": null,
            "border": null,
            "align_items": null,
            "bottom": null,
            "_model_module": "@jupyter-widgets/base",
            "top": null,
            "grid_column": null,
            "overflow_y": null,
            "overflow_x": null,
            "grid_auto_flow": null,
            "grid_area": null,
            "grid_template_columns": null,
            "flex": null,
            "_model_name": "LayoutModel",
            "justify_items": null,
            "grid_row": null,
            "max_height": null,
            "align_content": null,
            "visibility": null,
            "align_self": null,
            "height": null,
            "min_height": null,
            "padding": null,
            "grid_auto_rows": null,
            "grid_gap": null,
            "max_width": null,
            "order": null,
            "_view_module_version": "1.2.0",
            "grid_template_areas": null,
            "object_position": null,
            "object_fit": null,
            "grid_auto_columns": null,
            "margin": null,
            "display": null,
            "left": null
          }
        },
        "ef7291c0346544d7ba08f33322f46ae0": {
          "model_module": "@jupyter-widgets/controls",
          "model_name": "HBoxModel",
          "state": {
            "_view_name": "HBoxView",
            "_dom_classes": [],
            "_model_name": "HBoxModel",
            "_view_module": "@jupyter-widgets/controls",
            "_model_module_version": "1.5.0",
            "_view_count": null,
            "_view_module_version": "1.5.0",
            "box_style": "",
            "layout": "IPY_MODEL_da85f092ef68431a8f571d5948e77994",
            "_model_module": "@jupyter-widgets/controls",
            "children": [
              "IPY_MODEL_b5d6e0c9c43d49f0a43cf19ad6023245",
              "IPY_MODEL_a1dac3363027447d8fae6436f38b638c"
            ]
          }
        },
        "da85f092ef68431a8f571d5948e77994": {
          "model_module": "@jupyter-widgets/base",
          "model_name": "LayoutModel",
          "state": {
            "_view_name": "LayoutView",
            "grid_template_rows": null,
            "right": null,
            "justify_content": null,
            "_view_module": "@jupyter-widgets/base",
            "overflow": null,
            "_model_module_version": "1.2.0",
            "_view_count": null,
            "flex_flow": null,
            "width": null,
            "min_width": null,
            "border": null,
            "align_items": null,
            "bottom": null,
            "_model_module": "@jupyter-widgets/base",
            "top": null,
            "grid_column": null,
            "overflow_y": null,
            "overflow_x": null,
            "grid_auto_flow": null,
            "grid_area": null,
            "grid_template_columns": null,
            "flex": null,
            "_model_name": "LayoutModel",
            "justify_items": null,
            "grid_row": null,
            "max_height": null,
            "align_content": null,
            "visibility": null,
            "align_self": null,
            "height": null,
            "min_height": null,
            "padding": null,
            "grid_auto_rows": null,
            "grid_gap": null,
            "max_width": null,
            "order": null,
            "_view_module_version": "1.2.0",
            "grid_template_areas": null,
            "object_position": null,
            "object_fit": null,
            "grid_auto_columns": null,
            "margin": null,
            "display": null,
            "left": null
          }
        },
        "b5d6e0c9c43d49f0a43cf19ad6023245": {
          "model_module": "@jupyter-widgets/controls",
          "model_name": "IntProgressModel",
          "state": {
            "_view_name": "ProgressView",
            "style": "IPY_MODEL_03dca7b6ed104296a219fc28f16b5a47",
            "_dom_classes": [],
            "description": "",
            "_model_name": "IntProgressModel",
            "bar_style": "info",
            "max": 1,
            "_view_module": "@jupyter-widgets/controls",
            "_model_module_version": "1.5.0",
            "value": 1,
            "_view_count": null,
            "_view_module_version": "1.5.0",
            "orientation": "horizontal",
            "min": 0,
            "description_tooltip": null,
            "_model_module": "@jupyter-widgets/controls",
            "layout": "IPY_MODEL_58e245c2f78846f18e58952e9002799a"
          }
        },
        "a1dac3363027447d8fae6436f38b638c": {
          "model_module": "@jupyter-widgets/controls",
          "model_name": "HTMLModel",
          "state": {
            "_view_name": "HTMLView",
            "style": "IPY_MODEL_11f08411b43743999e55756e7079d2db",
            "_dom_classes": [],
            "description": "",
            "_model_name": "HTMLModel",
            "placeholder": "​",
            "_view_module": "@jupyter-widgets/controls",
            "_model_module_version": "1.5.0",
            "value": " 50000/0 [00:26&lt;00:00, 1857.11 examples/s]",
            "_view_count": null,
            "_view_module_version": "1.5.0",
            "description_tooltip": null,
            "_model_module": "@jupyter-widgets/controls",
            "layout": "IPY_MODEL_deadb93e983240e682d126e6191a2991"
          }
        },
        "03dca7b6ed104296a219fc28f16b5a47": {
          "model_module": "@jupyter-widgets/controls",
          "model_name": "ProgressStyleModel",
          "state": {
            "_view_name": "StyleView",
            "_model_name": "ProgressStyleModel",
            "description_width": "initial",
            "_view_module": "@jupyter-widgets/base",
            "_model_module_version": "1.5.0",
            "_view_count": null,
            "_view_module_version": "1.2.0",
            "bar_color": null,
            "_model_module": "@jupyter-widgets/controls"
          }
        },
        "58e245c2f78846f18e58952e9002799a": {
          "model_module": "@jupyter-widgets/base",
          "model_name": "LayoutModel",
          "state": {
            "_view_name": "LayoutView",
            "grid_template_rows": null,
            "right": null,
            "justify_content": null,
            "_view_module": "@jupyter-widgets/base",
            "overflow": null,
            "_model_module_version": "1.2.0",
            "_view_count": null,
            "flex_flow": null,
            "width": null,
            "min_width": null,
            "border": null,
            "align_items": null,
            "bottom": null,
            "_model_module": "@jupyter-widgets/base",
            "top": null,
            "grid_column": null,
            "overflow_y": null,
            "overflow_x": null,
            "grid_auto_flow": null,
            "grid_area": null,
            "grid_template_columns": null,
            "flex": null,
            "_model_name": "LayoutModel",
            "justify_items": null,
            "grid_row": null,
            "max_height": null,
            "align_content": null,
            "visibility": null,
            "align_self": null,
            "height": null,
            "min_height": null,
            "padding": null,
            "grid_auto_rows": null,
            "grid_gap": null,
            "max_width": null,
            "order": null,
            "_view_module_version": "1.2.0",
            "grid_template_areas": null,
            "object_position": null,
            "object_fit": null,
            "grid_auto_columns": null,
            "margin": null,
            "display": null,
            "left": null
          }
        },
        "11f08411b43743999e55756e7079d2db": {
          "model_module": "@jupyter-widgets/controls",
          "model_name": "DescriptionStyleModel",
          "state": {
            "_view_name": "StyleView",
            "_model_name": "DescriptionStyleModel",
            "description_width": "",
            "_view_module": "@jupyter-widgets/base",
            "_model_module_version": "1.5.0",
            "_view_count": null,
            "_view_module_version": "1.2.0",
            "_model_module": "@jupyter-widgets/controls"
          }
        },
        "deadb93e983240e682d126e6191a2991": {
          "model_module": "@jupyter-widgets/base",
          "model_name": "LayoutModel",
          "state": {
            "_view_name": "LayoutView",
            "grid_template_rows": null,
            "right": null,
            "justify_content": null,
            "_view_module": "@jupyter-widgets/base",
            "overflow": null,
            "_model_module_version": "1.2.0",
            "_view_count": null,
            "flex_flow": null,
            "width": null,
            "min_width": null,
            "border": null,
            "align_items": null,
            "bottom": null,
            "_model_module": "@jupyter-widgets/base",
            "top": null,
            "grid_column": null,
            "overflow_y": null,
            "overflow_x": null,
            "grid_auto_flow": null,
            "grid_area": null,
            "grid_template_columns": null,
            "flex": null,
            "_model_name": "LayoutModel",
            "justify_items": null,
            "grid_row": null,
            "max_height": null,
            "align_content": null,
            "visibility": null,
            "align_self": null,
            "height": null,
            "min_height": null,
            "padding": null,
            "grid_auto_rows": null,
            "grid_gap": null,
            "max_width": null,
            "order": null,
            "_view_module_version": "1.2.0",
            "grid_template_areas": null,
            "object_position": null,
            "object_fit": null,
            "grid_auto_columns": null,
            "margin": null,
            "display": null,
            "left": null
          }
        },
        "8e42eb75960c4d11914230f604d4de98": {
          "model_module": "@jupyter-widgets/controls",
          "model_name": "HBoxModel",
          "state": {
            "_view_name": "HBoxView",
            "_dom_classes": [],
            "_model_name": "HBoxModel",
            "_view_module": "@jupyter-widgets/controls",
            "_model_module_version": "1.5.0",
            "_view_count": null,
            "_view_module_version": "1.5.0",
            "box_style": "",
            "layout": "IPY_MODEL_2fd7e60361c94a3e916381190fc6c988",
            "_model_module": "@jupyter-widgets/controls",
            "children": [
              "IPY_MODEL_8c8c79adef164e29a168606adf91d7ba",
              "IPY_MODEL_cbb2b78623524b3c9eb20b4cd0140ab8"
            ]
          }
        },
        "2fd7e60361c94a3e916381190fc6c988": {
          "model_module": "@jupyter-widgets/base",
          "model_name": "LayoutModel",
          "state": {
            "_view_name": "LayoutView",
            "grid_template_rows": null,
            "right": null,
            "justify_content": null,
            "_view_module": "@jupyter-widgets/base",
            "overflow": null,
            "_model_module_version": "1.2.0",
            "_view_count": null,
            "flex_flow": null,
            "width": null,
            "min_width": null,
            "border": null,
            "align_items": null,
            "bottom": null,
            "_model_module": "@jupyter-widgets/base",
            "top": null,
            "grid_column": null,
            "overflow_y": null,
            "overflow_x": null,
            "grid_auto_flow": null,
            "grid_area": null,
            "grid_template_columns": null,
            "flex": null,
            "_model_name": "LayoutModel",
            "justify_items": null,
            "grid_row": null,
            "max_height": null,
            "align_content": null,
            "visibility": null,
            "align_self": null,
            "height": null,
            "min_height": null,
            "padding": null,
            "grid_auto_rows": null,
            "grid_gap": null,
            "max_width": null,
            "order": null,
            "_view_module_version": "1.2.0",
            "grid_template_areas": null,
            "object_position": null,
            "object_fit": null,
            "grid_auto_columns": null,
            "margin": null,
            "display": null,
            "left": null
          }
        },
        "8c8c79adef164e29a168606adf91d7ba": {
          "model_module": "@jupyter-widgets/controls",
          "model_name": "IntProgressModel",
          "state": {
            "_view_name": "ProgressView",
            "style": "IPY_MODEL_51c331d5bf904eb389d03e0faa42bc7f",
            "_dom_classes": [],
            "description": " 99%",
            "_model_name": "IntProgressModel",
            "bar_style": "danger",
            "max": 50000,
            "_view_module": "@jupyter-widgets/controls",
            "_model_module_version": "1.5.0",
            "value": 49547,
            "_view_count": null,
            "_view_module_version": "1.5.0",
            "orientation": "horizontal",
            "min": 0,
            "description_tooltip": null,
            "_model_module": "@jupyter-widgets/controls",
            "layout": "IPY_MODEL_85dfc931247642cfa53f6f19cad3b103"
          }
        },
        "cbb2b78623524b3c9eb20b4cd0140ab8": {
          "model_module": "@jupyter-widgets/controls",
          "model_name": "HTMLModel",
          "state": {
            "_view_name": "HTMLView",
            "style": "IPY_MODEL_5bd77e2026734c259d38d580e8eab936",
            "_dom_classes": [],
            "description": "",
            "_model_name": "HTMLModel",
            "placeholder": "​",
            "_view_module": "@jupyter-widgets/controls",
            "_model_module_version": "1.5.0",
            "value": " 49547/50000 [00:00&lt;00:00, 86405.28 examples/s]",
            "_view_count": null,
            "_view_module_version": "1.5.0",
            "description_tooltip": null,
            "_model_module": "@jupyter-widgets/controls",
            "layout": "IPY_MODEL_837f5373c04341968fbd974d9eacc6be"
          }
        },
        "51c331d5bf904eb389d03e0faa42bc7f": {
          "model_module": "@jupyter-widgets/controls",
          "model_name": "ProgressStyleModel",
          "state": {
            "_view_name": "StyleView",
            "_model_name": "ProgressStyleModel",
            "description_width": "initial",
            "_view_module": "@jupyter-widgets/base",
            "_model_module_version": "1.5.0",
            "_view_count": null,
            "_view_module_version": "1.2.0",
            "bar_color": null,
            "_model_module": "@jupyter-widgets/controls"
          }
        },
        "85dfc931247642cfa53f6f19cad3b103": {
          "model_module": "@jupyter-widgets/base",
          "model_name": "LayoutModel",
          "state": {
            "_view_name": "LayoutView",
            "grid_template_rows": null,
            "right": null,
            "justify_content": null,
            "_view_module": "@jupyter-widgets/base",
            "overflow": null,
            "_model_module_version": "1.2.0",
            "_view_count": null,
            "flex_flow": null,
            "width": null,
            "min_width": null,
            "border": null,
            "align_items": null,
            "bottom": null,
            "_model_module": "@jupyter-widgets/base",
            "top": null,
            "grid_column": null,
            "overflow_y": null,
            "overflow_x": null,
            "grid_auto_flow": null,
            "grid_area": null,
            "grid_template_columns": null,
            "flex": null,
            "_model_name": "LayoutModel",
            "justify_items": null,
            "grid_row": null,
            "max_height": null,
            "align_content": null,
            "visibility": null,
            "align_self": null,
            "height": null,
            "min_height": null,
            "padding": null,
            "grid_auto_rows": null,
            "grid_gap": null,
            "max_width": null,
            "order": null,
            "_view_module_version": "1.2.0",
            "grid_template_areas": null,
            "object_position": null,
            "object_fit": null,
            "grid_auto_columns": null,
            "margin": null,
            "display": null,
            "left": null
          }
        },
        "5bd77e2026734c259d38d580e8eab936": {
          "model_module": "@jupyter-widgets/controls",
          "model_name": "DescriptionStyleModel",
          "state": {
            "_view_name": "StyleView",
            "_model_name": "DescriptionStyleModel",
            "description_width": "",
            "_view_module": "@jupyter-widgets/base",
            "_model_module_version": "1.5.0",
            "_view_count": null,
            "_view_module_version": "1.2.0",
            "_model_module": "@jupyter-widgets/controls"
          }
        },
        "837f5373c04341968fbd974d9eacc6be": {
          "model_module": "@jupyter-widgets/base",
          "model_name": "LayoutModel",
          "state": {
            "_view_name": "LayoutView",
            "grid_template_rows": null,
            "right": null,
            "justify_content": null,
            "_view_module": "@jupyter-widgets/base",
            "overflow": null,
            "_model_module_version": "1.2.0",
            "_view_count": null,
            "flex_flow": null,
            "width": null,
            "min_width": null,
            "border": null,
            "align_items": null,
            "bottom": null,
            "_model_module": "@jupyter-widgets/base",
            "top": null,
            "grid_column": null,
            "overflow_y": null,
            "overflow_x": null,
            "grid_auto_flow": null,
            "grid_area": null,
            "grid_template_columns": null,
            "flex": null,
            "_model_name": "LayoutModel",
            "justify_items": null,
            "grid_row": null,
            "max_height": null,
            "align_content": null,
            "visibility": null,
            "align_self": null,
            "height": null,
            "min_height": null,
            "padding": null,
            "grid_auto_rows": null,
            "grid_gap": null,
            "max_width": null,
            "order": null,
            "_view_module_version": "1.2.0",
            "grid_template_areas": null,
            "object_position": null,
            "object_fit": null,
            "grid_auto_columns": null,
            "margin": null,
            "display": null,
            "left": null
          }
        },
        "6d02d3961ec74a6ea94ebd5b480fead4": {
          "model_module": "@jupyter-widgets/controls",
          "model_name": "HBoxModel",
          "state": {
            "_view_name": "HBoxView",
            "_dom_classes": [],
            "_model_name": "HBoxModel",
            "_view_module": "@jupyter-widgets/controls",
            "_model_module_version": "1.5.0",
            "_view_count": null,
            "_view_module_version": "1.5.0",
            "box_style": "",
            "layout": "IPY_MODEL_0cbdb427f83944f8a5634e0f20d0ded9",
            "_model_module": "@jupyter-widgets/controls",
            "children": [
              "IPY_MODEL_ccc27766ccdb476cbaf85faf200b35b6",
              "IPY_MODEL_d9d52db04236441aa5508e78913ae97f"
            ]
          }
        },
        "0cbdb427f83944f8a5634e0f20d0ded9": {
          "model_module": "@jupyter-widgets/base",
          "model_name": "LayoutModel",
          "state": {
            "_view_name": "LayoutView",
            "grid_template_rows": null,
            "right": null,
            "justify_content": null,
            "_view_module": "@jupyter-widgets/base",
            "overflow": null,
            "_model_module_version": "1.2.0",
            "_view_count": null,
            "flex_flow": null,
            "width": null,
            "min_width": null,
            "border": null,
            "align_items": null,
            "bottom": null,
            "_model_module": "@jupyter-widgets/base",
            "top": null,
            "grid_column": null,
            "overflow_y": null,
            "overflow_x": null,
            "grid_auto_flow": null,
            "grid_area": null,
            "grid_template_columns": null,
            "flex": null,
            "_model_name": "LayoutModel",
            "justify_items": null,
            "grid_row": null,
            "max_height": null,
            "align_content": null,
            "visibility": null,
            "align_self": null,
            "height": null,
            "min_height": null,
            "padding": null,
            "grid_auto_rows": null,
            "grid_gap": null,
            "max_width": null,
            "order": null,
            "_view_module_version": "1.2.0",
            "grid_template_areas": null,
            "object_position": null,
            "object_fit": null,
            "grid_auto_columns": null,
            "margin": null,
            "display": null,
            "left": null
          }
        },
        "ccc27766ccdb476cbaf85faf200b35b6": {
          "model_module": "@jupyter-widgets/controls",
          "model_name": "IntProgressModel",
          "state": {
            "_view_name": "ProgressView",
            "style": "IPY_MODEL_db8ec2c0eb1e47dfb7475ce519da20ce",
            "_dom_classes": [],
            "description": "",
            "_model_name": "IntProgressModel",
            "bar_style": "info",
            "max": 1,
            "_view_module": "@jupyter-widgets/controls",
            "_model_module_version": "1.5.0",
            "value": 1,
            "_view_count": null,
            "_view_module_version": "1.5.0",
            "orientation": "horizontal",
            "min": 0,
            "description_tooltip": null,
            "_model_module": "@jupyter-widgets/controls",
            "layout": "IPY_MODEL_4e3624221df64c8fa10fa917f4581ed4"
          }
        },
        "d9d52db04236441aa5508e78913ae97f": {
          "model_module": "@jupyter-widgets/controls",
          "model_name": "HTMLModel",
          "state": {
            "_view_name": "HTMLView",
            "style": "IPY_MODEL_064c4fd75d6840d6aeb3ce9ec7436cef",
            "_dom_classes": [],
            "description": "",
            "_model_name": "HTMLModel",
            "placeholder": "​",
            "_view_module": "@jupyter-widgets/controls",
            "_model_module_version": "1.5.0",
            "value": " 10000/0 [00:05&lt;00:00, 1847.83 examples/s]",
            "_view_count": null,
            "_view_module_version": "1.5.0",
            "description_tooltip": null,
            "_model_module": "@jupyter-widgets/controls",
            "layout": "IPY_MODEL_c20659b01f8940e7bdcaa7425a0d1519"
          }
        },
        "db8ec2c0eb1e47dfb7475ce519da20ce": {
          "model_module": "@jupyter-widgets/controls",
          "model_name": "ProgressStyleModel",
          "state": {
            "_view_name": "StyleView",
            "_model_name": "ProgressStyleModel",
            "description_width": "initial",
            "_view_module": "@jupyter-widgets/base",
            "_model_module_version": "1.5.0",
            "_view_count": null,
            "_view_module_version": "1.2.0",
            "bar_color": null,
            "_model_module": "@jupyter-widgets/controls"
          }
        },
        "4e3624221df64c8fa10fa917f4581ed4": {
          "model_module": "@jupyter-widgets/base",
          "model_name": "LayoutModel",
          "state": {
            "_view_name": "LayoutView",
            "grid_template_rows": null,
            "right": null,
            "justify_content": null,
            "_view_module": "@jupyter-widgets/base",
            "overflow": null,
            "_model_module_version": "1.2.0",
            "_view_count": null,
            "flex_flow": null,
            "width": null,
            "min_width": null,
            "border": null,
            "align_items": null,
            "bottom": null,
            "_model_module": "@jupyter-widgets/base",
            "top": null,
            "grid_column": null,
            "overflow_y": null,
            "overflow_x": null,
            "grid_auto_flow": null,
            "grid_area": null,
            "grid_template_columns": null,
            "flex": null,
            "_model_name": "LayoutModel",
            "justify_items": null,
            "grid_row": null,
            "max_height": null,
            "align_content": null,
            "visibility": null,
            "align_self": null,
            "height": null,
            "min_height": null,
            "padding": null,
            "grid_auto_rows": null,
            "grid_gap": null,
            "max_width": null,
            "order": null,
            "_view_module_version": "1.2.0",
            "grid_template_areas": null,
            "object_position": null,
            "object_fit": null,
            "grid_auto_columns": null,
            "margin": null,
            "display": null,
            "left": null
          }
        },
        "064c4fd75d6840d6aeb3ce9ec7436cef": {
          "model_module": "@jupyter-widgets/controls",
          "model_name": "DescriptionStyleModel",
          "state": {
            "_view_name": "StyleView",
            "_model_name": "DescriptionStyleModel",
            "description_width": "",
            "_view_module": "@jupyter-widgets/base",
            "_model_module_version": "1.5.0",
            "_view_count": null,
            "_view_module_version": "1.2.0",
            "_model_module": "@jupyter-widgets/controls"
          }
        },
        "c20659b01f8940e7bdcaa7425a0d1519": {
          "model_module": "@jupyter-widgets/base",
          "model_name": "LayoutModel",
          "state": {
            "_view_name": "LayoutView",
            "grid_template_rows": null,
            "right": null,
            "justify_content": null,
            "_view_module": "@jupyter-widgets/base",
            "overflow": null,
            "_model_module_version": "1.2.0",
            "_view_count": null,
            "flex_flow": null,
            "width": null,
            "min_width": null,
            "border": null,
            "align_items": null,
            "bottom": null,
            "_model_module": "@jupyter-widgets/base",
            "top": null,
            "grid_column": null,
            "overflow_y": null,
            "overflow_x": null,
            "grid_auto_flow": null,
            "grid_area": null,
            "grid_template_columns": null,
            "flex": null,
            "_model_name": "LayoutModel",
            "justify_items": null,
            "grid_row": null,
            "max_height": null,
            "align_content": null,
            "visibility": null,
            "align_self": null,
            "height": null,
            "min_height": null,
            "padding": null,
            "grid_auto_rows": null,
            "grid_gap": null,
            "max_width": null,
            "order": null,
            "_view_module_version": "1.2.0",
            "grid_template_areas": null,
            "object_position": null,
            "object_fit": null,
            "grid_auto_columns": null,
            "margin": null,
            "display": null,
            "left": null
          }
        },
        "9d3f5930c81c4d4a8baa4b99f0848e44": {
          "model_module": "@jupyter-widgets/controls",
          "model_name": "HBoxModel",
          "state": {
            "_view_name": "HBoxView",
            "_dom_classes": [],
            "_model_name": "HBoxModel",
            "_view_module": "@jupyter-widgets/controls",
            "_model_module_version": "1.5.0",
            "_view_count": null,
            "_view_module_version": "1.5.0",
            "box_style": "",
            "layout": "IPY_MODEL_3fd34757fbdc4976b6280a5ec7cb5697",
            "_model_module": "@jupyter-widgets/controls",
            "children": [
              "IPY_MODEL_041b11b987384c4f96e39514f340ea16",
              "IPY_MODEL_f6adbf8467194ad189a4afb1644407d6"
            ]
          }
        },
        "3fd34757fbdc4976b6280a5ec7cb5697": {
          "model_module": "@jupyter-widgets/base",
          "model_name": "LayoutModel",
          "state": {
            "_view_name": "LayoutView",
            "grid_template_rows": null,
            "right": null,
            "justify_content": null,
            "_view_module": "@jupyter-widgets/base",
            "overflow": null,
            "_model_module_version": "1.2.0",
            "_view_count": null,
            "flex_flow": null,
            "width": null,
            "min_width": null,
            "border": null,
            "align_items": null,
            "bottom": null,
            "_model_module": "@jupyter-widgets/base",
            "top": null,
            "grid_column": null,
            "overflow_y": null,
            "overflow_x": null,
            "grid_auto_flow": null,
            "grid_area": null,
            "grid_template_columns": null,
            "flex": null,
            "_model_name": "LayoutModel",
            "justify_items": null,
            "grid_row": null,
            "max_height": null,
            "align_content": null,
            "visibility": null,
            "align_self": null,
            "height": null,
            "min_height": null,
            "padding": null,
            "grid_auto_rows": null,
            "grid_gap": null,
            "max_width": null,
            "order": null,
            "_view_module_version": "1.2.0",
            "grid_template_areas": null,
            "object_position": null,
            "object_fit": null,
            "grid_auto_columns": null,
            "margin": null,
            "display": null,
            "left": null
          }
        },
        "041b11b987384c4f96e39514f340ea16": {
          "model_module": "@jupyter-widgets/controls",
          "model_name": "IntProgressModel",
          "state": {
            "_view_name": "ProgressView",
            "style": "IPY_MODEL_12ec79bf122741d59eae63d5c1c4320e",
            "_dom_classes": [],
            "description": " 58%",
            "_model_name": "IntProgressModel",
            "bar_style": "danger",
            "max": 10000,
            "_view_module": "@jupyter-widgets/controls",
            "_model_module_version": "1.5.0",
            "value": 5774,
            "_view_count": null,
            "_view_module_version": "1.5.0",
            "orientation": "horizontal",
            "min": 0,
            "description_tooltip": null,
            "_model_module": "@jupyter-widgets/controls",
            "layout": "IPY_MODEL_9dc9a54e2e414a8db5a19f2235459995"
          }
        },
        "f6adbf8467194ad189a4afb1644407d6": {
          "model_module": "@jupyter-widgets/controls",
          "model_name": "HTMLModel",
          "state": {
            "_view_name": "HTMLView",
            "style": "IPY_MODEL_181bf5893cf9466eb6803bcf74338a90",
            "_dom_classes": [],
            "description": "",
            "_model_name": "HTMLModel",
            "placeholder": "​",
            "_view_module": "@jupyter-widgets/controls",
            "_model_module_version": "1.5.0",
            "value": " 5774/10000 [00:00&lt;00:00, 57734.82 examples/s]",
            "_view_count": null,
            "_view_module_version": "1.5.0",
            "description_tooltip": null,
            "_model_module": "@jupyter-widgets/controls",
            "layout": "IPY_MODEL_f89c6d29093041ddbce7f97b829c5521"
          }
        },
        "12ec79bf122741d59eae63d5c1c4320e": {
          "model_module": "@jupyter-widgets/controls",
          "model_name": "ProgressStyleModel",
          "state": {
            "_view_name": "StyleView",
            "_model_name": "ProgressStyleModel",
            "description_width": "initial",
            "_view_module": "@jupyter-widgets/base",
            "_model_module_version": "1.5.0",
            "_view_count": null,
            "_view_module_version": "1.2.0",
            "bar_color": null,
            "_model_module": "@jupyter-widgets/controls"
          }
        },
        "9dc9a54e2e414a8db5a19f2235459995": {
          "model_module": "@jupyter-widgets/base",
          "model_name": "LayoutModel",
          "state": {
            "_view_name": "LayoutView",
            "grid_template_rows": null,
            "right": null,
            "justify_content": null,
            "_view_module": "@jupyter-widgets/base",
            "overflow": null,
            "_model_module_version": "1.2.0",
            "_view_count": null,
            "flex_flow": null,
            "width": null,
            "min_width": null,
            "border": null,
            "align_items": null,
            "bottom": null,
            "_model_module": "@jupyter-widgets/base",
            "top": null,
            "grid_column": null,
            "overflow_y": null,
            "overflow_x": null,
            "grid_auto_flow": null,
            "grid_area": null,
            "grid_template_columns": null,
            "flex": null,
            "_model_name": "LayoutModel",
            "justify_items": null,
            "grid_row": null,
            "max_height": null,
            "align_content": null,
            "visibility": null,
            "align_self": null,
            "height": null,
            "min_height": null,
            "padding": null,
            "grid_auto_rows": null,
            "grid_gap": null,
            "max_width": null,
            "order": null,
            "_view_module_version": "1.2.0",
            "grid_template_areas": null,
            "object_position": null,
            "object_fit": null,
            "grid_auto_columns": null,
            "margin": null,
            "display": null,
            "left": null
          }
        },
        "181bf5893cf9466eb6803bcf74338a90": {
          "model_module": "@jupyter-widgets/controls",
          "model_name": "DescriptionStyleModel",
          "state": {
            "_view_name": "StyleView",
            "_model_name": "DescriptionStyleModel",
            "description_width": "",
            "_view_module": "@jupyter-widgets/base",
            "_model_module_version": "1.5.0",
            "_view_count": null,
            "_view_module_version": "1.2.0",
            "_model_module": "@jupyter-widgets/controls"
          }
        },
        "f89c6d29093041ddbce7f97b829c5521": {
          "model_module": "@jupyter-widgets/base",
          "model_name": "LayoutModel",
          "state": {
            "_view_name": "LayoutView",
            "grid_template_rows": null,
            "right": null,
            "justify_content": null,
            "_view_module": "@jupyter-widgets/base",
            "overflow": null,
            "_model_module_version": "1.2.0",
            "_view_count": null,
            "flex_flow": null,
            "width": null,
            "min_width": null,
            "border": null,
            "align_items": null,
            "bottom": null,
            "_model_module": "@jupyter-widgets/base",
            "top": null,
            "grid_column": null,
            "overflow_y": null,
            "overflow_x": null,
            "grid_auto_flow": null,
            "grid_area": null,
            "grid_template_columns": null,
            "flex": null,
            "_model_name": "LayoutModel",
            "justify_items": null,
            "grid_row": null,
            "max_height": null,
            "align_content": null,
            "visibility": null,
            "align_self": null,
            "height": null,
            "min_height": null,
            "padding": null,
            "grid_auto_rows": null,
            "grid_gap": null,
            "max_width": null,
            "order": null,
            "_view_module_version": "1.2.0",
            "grid_template_areas": null,
            "object_position": null,
            "object_fit": null,
            "grid_auto_columns": null,
            "margin": null,
            "display": null,
            "left": null
          }
        }
      }
    }
  },
  "cells": [
    {
      "cell_type": "markdown",
      "metadata": {
        "id": "LQvHoOZ_VXqQ",
        "colab_type": "text"
      },
      "source": [
        "# Cifar10 Classifier\n",
        "Cifar10 is a dataset with 10 classes containing 6000 images for each class. In this notebook, you will learn how to perform Data Augmentation to prevent Overfitting."
      ]
    },
    {
      "cell_type": "markdown",
      "metadata": {
        "id": "WNdO2SGGVb_U",
        "colab_type": "text"
      },
      "source": [
        "# Import Libraries"
      ]
    },
    {
      "cell_type": "markdown",
      "metadata": {
        "id": "qjFwD85BVfBH",
        "colab_type": "text"
      },
      "source": [
        "## Install Tensorflow 2"
      ]
    },
    {
      "cell_type": "code",
      "metadata": {
        "id": "8g1U_3HtVTlV",
        "colab_type": "code",
        "outputId": "69814581-9995-41bc-db4f-d2dac10ae3a9",
        "colab": {
          "base_uri": "https://localhost:8080/",
          "height": 153
        }
      },
      "source": [
        "!pip install tensorflow-gpu -q"
      ],
      "execution_count": 0,
      "outputs": [
        {
          "output_type": "stream",
          "text": [
            "\u001b[K     |████████████████████████████████| 421.8MB 41kB/s \n",
            "\u001b[K     |████████████████████████████████| 450kB 47.0MB/s \n",
            "\u001b[K     |████████████████████████████████| 3.9MB 54.5MB/s \n",
            "\u001b[?25h  Building wheel for gast (setup.py) ... \u001b[?25l\u001b[?25hdone\n",
            "\u001b[31mERROR: tensorflow 2.2.0rc2 has requirement gast==0.3.3, but you'll have gast 0.2.2 which is incompatible.\u001b[0m\n",
            "\u001b[31mERROR: tensorflow 2.2.0rc2 has requirement tensorboard<2.3.0,>=2.2.0, but you'll have tensorboard 2.1.1 which is incompatible.\u001b[0m\n",
            "\u001b[31mERROR: tensorflow 2.2.0rc2 has requirement tensorflow-estimator<2.3.0,>=2.2.0rc0, but you'll have tensorflow-estimator 2.1.0 which is incompatible.\u001b[0m\n"
          ],
          "name": "stdout"
        }
      ]
    },
    {
      "cell_type": "code",
      "metadata": {
        "id": "moHddqJuVXIP",
        "colab_type": "code",
        "outputId": "b6535001-bbba-4b8e-e52b-927e564588e6",
        "colab": {
          "base_uri": "https://localhost:8080/",
          "height": 33
        }
      },
      "source": [
        "import tensorflow as tf\n",
        "\n",
        "tf.__version__"
      ],
      "execution_count": 0,
      "outputs": [
        {
          "output_type": "execute_result",
          "data": {
            "text/plain": [
              "'2.1.0'"
            ]
          },
          "metadata": {
            "tags": []
          },
          "execution_count": 2
        }
      ]
    },
    {
      "cell_type": "markdown",
      "metadata": {
        "id": "zNypFZntVsqo",
        "colab_type": "text"
      },
      "source": [
        "## Import other libraries"
      ]
    },
    {
      "cell_type": "code",
      "metadata": {
        "id": "GsjSY442Vtzr",
        "colab_type": "code",
        "colab": {}
      },
      "source": [
        "import matplotlib.pyplot as plt\n",
        "import numpy as np\n",
        "import tensorflow_datasets as tfds\n",
        "from tensorflow.keras.models import Sequential\n",
        "from tensorflow.keras.layers import *\n",
        "from tensorflow.keras.utils import to_categorical\n",
        "\n",
        "np.set_printoptions(precision=7)\n",
        "np.random.seed(42)\n",
        "%matplotlib inline"
      ],
      "execution_count": 0,
      "outputs": []
    },
    {
      "cell_type": "markdown",
      "metadata": {
        "id": "D0HEP8o3WZhe",
        "colab_type": "text"
      },
      "source": [
        "# Cifar10 Tensorflow Dataset\n",
        "\n",
        "In this tutorial, we are using cifar10 data from Tensorflow dataset, you can see the details here https://www.tensorflow.org/datasets/catalog/cifar10"
      ]
    },
    {
      "cell_type": "markdown",
      "metadata": {
        "id": "jYpqWeobWnn1",
        "colab_type": "text"
      },
      "source": [
        "## Create directory for dataset"
      ]
    },
    {
      "cell_type": "code",
      "metadata": {
        "id": "YbOyDgMOWSM6",
        "colab_type": "code",
        "colab": {}
      },
      "source": [
        "import os\n",
        "\n",
        "data_dir = 'dataset'\n",
        "\n",
        "if not os.path.exists(data_dir):\n",
        "  os.mkdir(data_dir)"
      ],
      "execution_count": 0,
      "outputs": []
    },
    {
      "cell_type": "markdown",
      "metadata": {
        "id": "PzWAjQLsWZ3h",
        "colab_type": "text"
      },
      "source": [
        "## Download Cifar10 dataset"
      ]
    },
    {
      "cell_type": "code",
      "metadata": {
        "id": "2mZ5B08wWUcA",
        "colab_type": "code",
        "outputId": "95c54d8e-538f-4ff4-b765-0a3eff9254cf",
        "colab": {
          "base_uri": "https://localhost:8080/",
          "height": 396,
          "referenced_widgets": [
            "f1ec0cb8d24a4543a8b681cf9f361514",
            "bd9490ea606a47c3bcedb6253ee3057b",
            "74fe410087674fc4aafadba39cf5fbb7",
            "edcf6e620948426fb15ae7e860ef270e",
            "2effb0bc158b468daac4edad2de03c13",
            "5cee0fa438eb4d64ab64c496cff33961",
            "92948eed7d544eb2b170bf63c3d9760f",
            "21018b155b9d400aac7135cbe5b8cad4",
            "bf65dc7878c34cf68b84f149b5e8eb54",
            "b7cbbd5b165143aaad28a802411f118e",
            "1ca3f52c20a54ddb97da9abc2ebf2a3c",
            "73ea19b6d673432eb26c97d55a1b53ca",
            "4a9374dd53964da4b7723e5df09eb2f3",
            "0dea281c50614207bc0442d3922ec3f6",
            "af09351c3a7b47bba81ecf181bc1e471",
            "f119c66994074da6824e69aa597a90c0",
            "bff0c1b6c63046e984a228243eadeeca",
            "10015eeadca848a1a2ad0a2a65b50b11",
            "d555eab4a45046ee848e55a92ff14848",
            "d411aaf2147b4a8798e8d6265426124f",
            "3afb6db21934451bb4540abc6edc9a61",
            "870c9af77fbe4316b6c63cf1afb23439",
            "bb32dfb8577e4c618595a192e4efecce",
            "0dc09b00163a4b038c747cb6dd5dfcf9",
            "ef7291c0346544d7ba08f33322f46ae0",
            "da85f092ef68431a8f571d5948e77994",
            "b5d6e0c9c43d49f0a43cf19ad6023245",
            "a1dac3363027447d8fae6436f38b638c",
            "03dca7b6ed104296a219fc28f16b5a47",
            "58e245c2f78846f18e58952e9002799a",
            "11f08411b43743999e55756e7079d2db",
            "deadb93e983240e682d126e6191a2991",
            "8e42eb75960c4d11914230f604d4de98",
            "2fd7e60361c94a3e916381190fc6c988",
            "8c8c79adef164e29a168606adf91d7ba",
            "cbb2b78623524b3c9eb20b4cd0140ab8",
            "51c331d5bf904eb389d03e0faa42bc7f",
            "85dfc931247642cfa53f6f19cad3b103",
            "5bd77e2026734c259d38d580e8eab936",
            "837f5373c04341968fbd974d9eacc6be",
            "6d02d3961ec74a6ea94ebd5b480fead4",
            "0cbdb427f83944f8a5634e0f20d0ded9",
            "ccc27766ccdb476cbaf85faf200b35b6",
            "d9d52db04236441aa5508e78913ae97f",
            "db8ec2c0eb1e47dfb7475ce519da20ce",
            "4e3624221df64c8fa10fa917f4581ed4",
            "064c4fd75d6840d6aeb3ce9ec7436cef",
            "c20659b01f8940e7bdcaa7425a0d1519",
            "9d3f5930c81c4d4a8baa4b99f0848e44",
            "3fd34757fbdc4976b6280a5ec7cb5697",
            "041b11b987384c4f96e39514f340ea16",
            "f6adbf8467194ad189a4afb1644407d6",
            "12ec79bf122741d59eae63d5c1c4320e",
            "9dc9a54e2e414a8db5a19f2235459995",
            "181bf5893cf9466eb6803bcf74338a90",
            "f89c6d29093041ddbce7f97b829c5521"
          ]
        }
      },
      "source": [
        "dataset_name = 'cifar10'\n",
        "\n",
        "(train_set, test_set), dataset_info =  tfds.load( \n",
        "              name = dataset_name, \n",
        "              split = ['train', 'test'], \n",
        "              with_info = True, \n",
        "              data_dir = data_dir\n",
        "          )"
      ],
      "execution_count": 0,
      "outputs": [
        {
          "output_type": "stream",
          "text": [
            "\u001b[1mDownloading and preparing dataset cifar10/3.0.0 (download: 162.17 MiB, generated: Unknown size, total: 162.17 MiB) to dataset/cifar10/3.0.0...\u001b[0m\n"
          ],
          "name": "stdout"
        },
        {
          "output_type": "display_data",
          "data": {
            "application/vnd.jupyter.widget-view+json": {
              "model_id": "f1ec0cb8d24a4543a8b681cf9f361514",
              "version_minor": 0,
              "version_major": 2
            },
            "text/plain": [
              "HBox(children=(IntProgress(value=1, bar_style='info', description='Dl Completed...', max=1, style=ProgressStyl…"
            ]
          },
          "metadata": {
            "tags": []
          }
        },
        {
          "output_type": "display_data",
          "data": {
            "application/vnd.jupyter.widget-view+json": {
              "model_id": "bf65dc7878c34cf68b84f149b5e8eb54",
              "version_minor": 0,
              "version_major": 2
            },
            "text/plain": [
              "HBox(children=(IntProgress(value=1, bar_style='info', description='Dl Size...', max=1, style=ProgressStyle(des…"
            ]
          },
          "metadata": {
            "tags": []
          }
        },
        {
          "output_type": "display_data",
          "data": {
            "application/vnd.jupyter.widget-view+json": {
              "model_id": "bff0c1b6c63046e984a228243eadeeca",
              "version_minor": 0,
              "version_major": 2
            },
            "text/plain": [
              "HBox(children=(IntProgress(value=1, bar_style='info', description='Extraction completed...', max=1, style=Prog…"
            ]
          },
          "metadata": {
            "tags": []
          }
        },
        {
          "output_type": "stream",
          "text": [
            "/usr/local/lib/python3.6/dist-packages/urllib3/connectionpool.py:847: InsecureRequestWarning: Unverified HTTPS request is being made. Adding certificate verification is strongly advised. See: https://urllib3.readthedocs.io/en/latest/advanced-usage.html#ssl-warnings\n",
            "  InsecureRequestWarning)\n"
          ],
          "name": "stderr"
        },
        {
          "output_type": "stream",
          "text": [
            "\n",
            "\n",
            "\n",
            "\n",
            "\n",
            "\n"
          ],
          "name": "stdout"
        },
        {
          "output_type": "display_data",
          "data": {
            "application/vnd.jupyter.widget-view+json": {
              "model_id": "ef7291c0346544d7ba08f33322f46ae0",
              "version_minor": 0,
              "version_major": 2
            },
            "text/plain": [
              "HBox(children=(IntProgress(value=1, bar_style='info', max=1), HTML(value='')))"
            ]
          },
          "metadata": {
            "tags": []
          }
        },
        {
          "output_type": "stream",
          "text": [
            "\rShuffling and writing examples to dataset/cifar10/3.0.0.incompleteCH428G/cifar10-train.tfrecord\n"
          ],
          "name": "stdout"
        },
        {
          "output_type": "display_data",
          "data": {
            "application/vnd.jupyter.widget-view+json": {
              "model_id": "8e42eb75960c4d11914230f604d4de98",
              "version_minor": 0,
              "version_major": 2
            },
            "text/plain": [
              "HBox(children=(IntProgress(value=0, max=50000), HTML(value='')))"
            ]
          },
          "metadata": {
            "tags": []
          }
        },
        {
          "output_type": "stream",
          "text": [
            "\r"
          ],
          "name": "stdout"
        },
        {
          "output_type": "display_data",
          "data": {
            "application/vnd.jupyter.widget-view+json": {
              "model_id": "6d02d3961ec74a6ea94ebd5b480fead4",
              "version_minor": 0,
              "version_major": 2
            },
            "text/plain": [
              "HBox(children=(IntProgress(value=1, bar_style='info', max=1), HTML(value='')))"
            ]
          },
          "metadata": {
            "tags": []
          }
        },
        {
          "output_type": "stream",
          "text": [
            "\rShuffling and writing examples to dataset/cifar10/3.0.0.incompleteCH428G/cifar10-test.tfrecord\n"
          ],
          "name": "stdout"
        },
        {
          "output_type": "display_data",
          "data": {
            "application/vnd.jupyter.widget-view+json": {
              "model_id": "9d3f5930c81c4d4a8baa4b99f0848e44",
              "version_minor": 0,
              "version_major": 2
            },
            "text/plain": [
              "HBox(children=(IntProgress(value=0, max=10000), HTML(value='')))"
            ]
          },
          "metadata": {
            "tags": []
          }
        },
        {
          "output_type": "stream",
          "text": [
            "\u001b[1mDataset cifar10 downloaded and prepared to dataset/cifar10/3.0.0. Subsequent calls will reuse this data.\u001b[0m\n",
            "\r"
          ],
          "name": "stdout"
        }
      ]
    },
    {
      "cell_type": "markdown",
      "metadata": {
        "id": "n6qNMce7Ww6i",
        "colab_type": "text"
      },
      "source": [
        "## Dataset Information"
      ]
    },
    {
      "cell_type": "code",
      "metadata": {
        "id": "atrA9yxQWX9l",
        "colab_type": "code",
        "outputId": "caa80259-a403-40ed-e619-92d77371ddce",
        "colab": {
          "base_uri": "https://localhost:8080/",
          "height": 436
        }
      },
      "source": [
        "print(dataset_info)"
      ],
      "execution_count": 0,
      "outputs": [
        {
          "output_type": "stream",
          "text": [
            "tfds.core.DatasetInfo(\n",
            "    name='cifar10',\n",
            "    version=3.0.0,\n",
            "    description='The CIFAR-10 dataset consists of 60000 32x32 colour images in 10 classes, with 6000 images per class. There are 50000 training images and 10000 test images.',\n",
            "    homepage='https://www.cs.toronto.edu/~kriz/cifar.html',\n",
            "    features=FeaturesDict({\n",
            "        'image': Image(shape=(32, 32, 3), dtype=tf.uint8),\n",
            "        'label': ClassLabel(shape=(), dtype=tf.int64, num_classes=10),\n",
            "    }),\n",
            "    total_num_examples=60000,\n",
            "    splits={\n",
            "        'test': 10000,\n",
            "        'train': 50000,\n",
            "    },\n",
            "    supervised_keys=('image', 'label'),\n",
            "    citation=\"\"\"@TECHREPORT{Krizhevsky09learningmultiple,\n",
            "        author = {Alex Krizhevsky},\n",
            "        title = {Learning multiple layers of features from tiny images},\n",
            "        institution = {},\n",
            "        year = {2009}\n",
            "    }\"\"\",\n",
            "    redistribution_info=,\n",
            ")\n",
            "\n"
          ],
          "name": "stdout"
        }
      ]
    },
    {
      "cell_type": "markdown",
      "metadata": {
        "id": "8PfUaS0aW2Xr",
        "colab_type": "text"
      },
      "source": [
        "## Detailed Information"
      ]
    },
    {
      "cell_type": "code",
      "metadata": {
        "id": "WkncQ8q3WzQK",
        "colab_type": "code",
        "outputId": "da4cc81a-72e1-44e9-d4f7-b4645a36cbe9",
        "colab": {
          "base_uri": "https://localhost:8080/",
          "height": 153
        }
      },
      "source": [
        "class_names =  dataset_info.features[\"label\"].names\n",
        "\n",
        "print('image shape    :', dataset_info.features['image'].shape)\n",
        "print('image dtype    :', dataset_info.features['image'].dtype)\n",
        "print()\n",
        "print('num class      : ',dataset_info.features[\"label\"].num_classes)\n",
        "print('class label    :', dataset_info.features[\"label\"].names)\n",
        "print()\n",
        "print('num train data :', dataset_info.splits[\"train\"].num_examples)"
      ],
      "execution_count": 0,
      "outputs": [
        {
          "output_type": "stream",
          "text": [
            "image shape    : (32, 32, 3)\n",
            "image dtype    : <dtype: 'uint8'>\n",
            "\n",
            "num class      :  10\n",
            "class label    : ['airplane', 'automobile', 'bird', 'cat', 'deer', 'dog', 'frog', 'horse', 'ship', 'truck']\n",
            "\n",
            "num train data : 50000\n"
          ],
          "name": "stdout"
        }
      ]
    },
    {
      "cell_type": "markdown",
      "metadata": {
        "id": "TYigq55jW7p7",
        "colab_type": "text"
      },
      "source": [
        "## Show Images"
      ]
    },
    {
      "cell_type": "code",
      "metadata": {
        "id": "D548lbjvW1SE",
        "colab_type": "code",
        "outputId": "e7999177-7d5f-4bc6-ab46-04e821bd6678",
        "colab": {
          "base_uri": "https://localhost:8080/",
          "height": 534
        }
      },
      "source": [
        "fig = tfds.show_examples(dataset_info, train_set)"
      ],
      "execution_count": 0,
      "outputs": [
        {
          "output_type": "display_data",
          "data": {
            "image/png": "[encoded data removed]",
            "text/plain": [
              "<Figure size 648x648 with 9 Axes>"
            ]
          },
          "metadata": {
            "tags": []
          }
        }
      ]
    },
    {
      "cell_type": "markdown",
      "metadata": {
        "id": "Os1k2dcxXF4p",
        "colab_type": "text"
      },
      "source": [
        "Since Cifar10 has the same size for each image, so we don't need to resize the images. All we have to do is convert image type as numpy array and normalize every pixel."
      ]
    },
    {
      "cell_type": "markdown",
      "metadata": {
        "id": "u32xrIZzXAcY",
        "colab_type": "text"
      },
      "source": [
        "# Preprocess Image"
      ]
    },
    {
      "cell_type": "markdown",
      "metadata": {
        "id": "OpO_bjBOXH-3",
        "colab_type": "text"
      },
      "source": [
        "## Convert Image Type"
      ]
    },
    {
      "cell_type": "code",
      "metadata": {
        "id": "2lzhYvlwW6At",
        "colab_type": "code",
        "colab": {}
      },
      "source": [
        "X_train_ori = []\n",
        "y_train_ori = []\n",
        "\n",
        "X_test_ori = []\n",
        "y_test_ori = []\n",
        "\n",
        "for example in tfds.as_numpy(train_set):\n",
        "    new_img = example['image']\n",
        "    X_train_ori.append(new_img)\n",
        "    y_train_ori.append(example['label'])\n",
        "del train_set\n",
        "\n",
        "for example in tfds.as_numpy(test_set):\n",
        "    new_img = example['image']\n",
        "    X_test_ori.append(new_img)\n",
        "    y_test_ori.append(example['label'])\n",
        "del test_set\n",
        "\n",
        "# Convert train data to numpy array\n",
        "X_train_ori = np.asarray(X_train_ori)\n",
        "y_train_ori = np.asarray(y_train_ori)\n",
        "\n",
        "# Convert test data to numpy array\n",
        "X_test_ori = np.asarray(X_test_ori)\n",
        "y_test_ori = np.asarray(y_test_ori)\n",
        "\n",
        "# One hot label\n",
        "y_train_hot = to_categorical(y_train_ori)\n",
        "y_test_hot = to_categorical(y_test_ori)"
      ],
      "execution_count": 0,
      "outputs": []
    },
    {
      "cell_type": "markdown",
      "metadata": {
        "id": "YSzNTdiRXMeV",
        "colab_type": "text"
      },
      "source": [
        "## Normalize Data"
      ]
    },
    {
      "cell_type": "code",
      "metadata": {
        "id": "s8UbevzlW_If",
        "colab_type": "code",
        "colab": {}
      },
      "source": [
        "mean_pixel = X_train_ori.mean(axis=(0, 1, 2), keepdims=True)\n",
        "std_pixel = X_train_ori.std(axis=(0, 1, 2), keepdims=True)\n",
        "\n",
        "X_train = ((X_train_ori - mean_pixel) / std_pixel).astype('float32')\n",
        "\n",
        "X_test = ((X_test_ori - mean_pixel) / std_pixel).astype('float32')"
      ],
      "execution_count": 0,
      "outputs": []
    },
    {
      "cell_type": "markdown",
      "metadata": {
        "id": "HXqLdCVQXRBC",
        "colab_type": "text"
      },
      "source": [
        "# Split Train Data into Train and Val"
      ]
    },
    {
      "cell_type": "code",
      "metadata": {
        "id": "DRFNqyeIXL4M",
        "colab_type": "code",
        "outputId": "1b9755a4-ff19-41a2-e084-8701829b7912",
        "colab": {
          "base_uri": "https://localhost:8080/",
          "height": 116
        }
      },
      "source": [
        "# Set the length of Train data\n",
        "dataset_size = len(X_train)\n",
        "train_idx = int(0.8 * dataset_size)\n",
        "\n",
        "# Split for val data\n",
        "X_val = X_train[train_idx:, :]\n",
        "y_val_hot = y_train_hot[train_idx:]\n",
        "\n",
        "# Split for train data\n",
        "X_train = X_train[:train_idx, :]\n",
        "y_train_hot = y_train_hot[:train_idx]\n",
        "\n",
        "print('X_train.shape =', X_train.shape)\n",
        "print('X_val.shape =', X_val.shape)\n",
        "print('X_test.shape =', X_test.shape)\n",
        "\n",
        "print('y_train.shape =', y_train_hot.shape)\n",
        "print('y_val.shape =', y_val_hot.shape)\n",
        "print('y_test.shape =', y_test_hot.shape)"
      ],
      "execution_count": 0,
      "outputs": [
        {
          "output_type": "stream",
          "text": [
            "X_train.shape = (40000, 32, 32, 3)\n",
            "X_val.shape = (10000, 32, 32, 3)\n",
            "X_test.shape = (10000, 32, 32, 3)\n",
            "y_train.shape = (40000, 10)\n",
            "y_val.shape = (10000, 10)\n",
            "y_test.shape = (10000, 10)\n"
          ],
          "name": "stdout"
        }
      ]
    },
    {
      "cell_type": "code",
      "metadata": {
        "id": "AWCDoli6XP7V",
        "colab_type": "code",
        "outputId": "53252df4-5748-445f-b154-427e4da48357",
        "colab": {
          "base_uri": "https://localhost:8080/",
          "height": 650
        }
      },
      "source": [
        "model1 = Sequential([\n",
        "    Conv2D(filters=64, kernel_size=(3, 3), activation='relu', padding='same', input_shape=(32, 32, 3)),\n",
        "    Conv2D(filters=64, kernel_size=(3, 3), activation='relu', padding='same'),\n",
        "    MaxPool2D(pool_size=(3, 3), strides=(2, 2)),\n",
        "\n",
        "    Conv2D(filters=128, kernel_size=(3, 3), activation='relu', padding='same'),\n",
        "    Conv2D(filters=128, kernel_size=(3, 3), activation='relu', padding='same'),\n",
        "    MaxPool2D(pool_size=(3, 3), strides=(2, 2)),\n",
        "\n",
        "    Conv2D(filters=256, kernel_size=(3, 3), activation='relu', padding='same'),\n",
        "    Conv2D(filters=256, kernel_size=(3, 3), activation='relu', padding='same'),\n",
        "    MaxPool2D(pool_size=(3, 3), strides=(2, 2)),\n",
        "\n",
        "    Flatten(),\n",
        "    Dense(units=512, activation='relu'),\n",
        "    Dropout(0.5),\n",
        "    Dense(units=256, activation='relu'),    \n",
        "    Dropout(0.5),\n",
        "    Dense(units=10, activation='softmax')\n",
        "])\n",
        "\n",
        "model1.summary()"
      ],
      "execution_count": 0,
      "outputs": [
        {
          "output_type": "stream",
          "text": [
            "Model: \"sequential\"\n",
            "_________________________________________________________________\n",
            "Layer (type)                 Output Shape              Param #   \n",
            "=================================================================\n",
            "conv2d (Conv2D)              (None, 32, 32, 64)        1792      \n",
            "_________________________________________________________________\n",
            "conv2d_1 (Conv2D)            (None, 32, 32, 64)        36928     \n",
            "_________________________________________________________________\n",
            "max_pooling2d (MaxPooling2D) (None, 15, 15, 64)        0         \n",
            "_________________________________________________________________\n",
            "conv2d_2 (Conv2D)            (None, 15, 15, 128)       73856     \n",
            "_________________________________________________________________\n",
            "conv2d_3 (Conv2D)            (None, 15, 15, 128)       147584    \n",
            "_________________________________________________________________\n",
            "max_pooling2d_1 (MaxPooling2 (None, 7, 7, 128)         0         \n",
            "_________________________________________________________________\n",
            "conv2d_4 (Conv2D)            (None, 7, 7, 256)         295168    \n",
            "_________________________________________________________________\n",
            "conv2d_5 (Conv2D)            (None, 7, 7, 256)         590080    \n",
            "_________________________________________________________________\n",
            "max_pooling2d_2 (MaxPooling2 (None, 3, 3, 256)         0         \n",
            "_________________________________________________________________\n",
            "flatten (Flatten)            (None, 2304)              0         \n",
            "_________________________________________________________________\n",
            "dense (Dense)                (None, 512)               1180160   \n",
            "_________________________________________________________________\n",
            "dropout (Dropout)            (None, 512)               0         \n",
            "_________________________________________________________________\n",
            "dense_1 (Dense)              (None, 256)               131328    \n",
            "_________________________________________________________________\n",
            "dropout_1 (Dropout)          (None, 256)               0         \n",
            "_________________________________________________________________\n",
            "dense_2 (Dense)              (None, 10)                2570      \n",
            "=================================================================\n",
            "Total params: 2,459,466\n",
            "Trainable params: 2,459,466\n",
            "Non-trainable params: 0\n",
            "_________________________________________________________________\n"
          ],
          "name": "stdout"
        }
      ]
    },
    {
      "cell_type": "code",
      "metadata": {
        "id": "ct0D6842XbgN",
        "colab_type": "code",
        "outputId": "9026aa7f-e99c-4d18-bfbd-ebd3ed026b82",
        "colab": {
          "base_uri": "https://localhost:8080/",
          "height": 720
        }
      },
      "source": [
        "history = []\n",
        "\n",
        "model1.compile(optimizer='adam', loss='categorical_crossentropy', metrics=['accuracy'])\n",
        "\n",
        "his = model1.fit(X_train, y_train_hot, batch_size=64, epochs=20, validation_data=(X_val, y_val_hot))\n",
        "history.append(his)"
      ],
      "execution_count": 0,
      "outputs": [
        {
          "output_type": "stream",
          "text": [
            "Train on 40000 samples, validate on 10000 samples\n",
            "Epoch 1/20\n",
            "40000/40000 [==============================] - 20s 511us/sample - loss: 1.7369 - accuracy: 0.3275 - val_loss: 1.3346 - val_accuracy: 0.5033\n",
            "Epoch 2/20\n",
            "40000/40000 [==============================] - 13s 337us/sample - loss: 1.2041 - accuracy: 0.5687 - val_loss: 1.0096 - val_accuracy: 0.6388\n",
            "Epoch 3/20\n",
            "40000/40000 [==============================] - 13s 335us/sample - loss: 0.9628 - accuracy: 0.6690 - val_loss: 0.8939 - val_accuracy: 0.6918\n",
            "Epoch 4/20\n",
            "40000/40000 [==============================] - 13s 335us/sample - loss: 0.8218 - accuracy: 0.7195 - val_loss: 0.8524 - val_accuracy: 0.7105\n",
            "Epoch 5/20\n",
            "40000/40000 [==============================] - 13s 335us/sample - loss: 0.7278 - accuracy: 0.7521 - val_loss: 0.7573 - val_accuracy: 0.7382\n",
            "Epoch 6/20\n",
            "40000/40000 [==============================] - 13s 336us/sample - loss: 0.6411 - accuracy: 0.7831 - val_loss: 0.7265 - val_accuracy: 0.7539\n",
            "Epoch 7/20\n",
            "40000/40000 [==============================] - 13s 337us/sample - loss: 0.5861 - accuracy: 0.8036 - val_loss: 0.7092 - val_accuracy: 0.7625\n",
            "Epoch 8/20\n",
            "40000/40000 [==============================] - 14s 339us/sample - loss: 0.5250 - accuracy: 0.8219 - val_loss: 0.6812 - val_accuracy: 0.7713\n",
            "Epoch 9/20\n",
            "40000/40000 [==============================] - 13s 335us/sample - loss: 0.4920 - accuracy: 0.8337 - val_loss: 0.6772 - val_accuracy: 0.7782\n",
            "Epoch 10/20\n",
            "40000/40000 [==============================] - 13s 336us/sample - loss: 0.4411 - accuracy: 0.8529 - val_loss: 0.7136 - val_accuracy: 0.7756\n",
            "Epoch 11/20\n",
            "40000/40000 [==============================] - 13s 337us/sample - loss: 0.4114 - accuracy: 0.8620 - val_loss: 0.7724 - val_accuracy: 0.7622\n",
            "Epoch 12/20\n",
            "40000/40000 [==============================] - 13s 337us/sample - loss: 0.3914 - accuracy: 0.8690 - val_loss: 0.7298 - val_accuracy: 0.7771\n",
            "Epoch 13/20\n",
            "40000/40000 [==============================] - 13s 336us/sample - loss: 0.3529 - accuracy: 0.8828 - val_loss: 0.7816 - val_accuracy: 0.7777\n",
            "Epoch 14/20\n",
            "40000/40000 [==============================] - 13s 336us/sample - loss: 0.3494 - accuracy: 0.8816 - val_loss: 0.7406 - val_accuracy: 0.7853\n",
            "Epoch 15/20\n",
            "40000/40000 [==============================] - 13s 335us/sample - loss: 0.3152 - accuracy: 0.8967 - val_loss: 0.7956 - val_accuracy: 0.7715\n",
            "Epoch 16/20\n",
            "40000/40000 [==============================] - 13s 336us/sample - loss: 0.3067 - accuracy: 0.8986 - val_loss: 0.7595 - val_accuracy: 0.7787\n",
            "Epoch 17/20\n",
            "40000/40000 [==============================] - 13s 335us/sample - loss: 0.2805 - accuracy: 0.9077 - val_loss: 0.8076 - val_accuracy: 0.7772\n",
            "Epoch 18/20\n",
            "40000/40000 [==============================] - 13s 336us/sample - loss: 0.2690 - accuracy: 0.9117 - val_loss: 0.8285 - val_accuracy: 0.7759\n",
            "Epoch 19/20\n",
            "40000/40000 [==============================] - 13s 335us/sample - loss: 0.2603 - accuracy: 0.9150 - val_loss: 0.8507 - val_accuracy: 0.7639\n",
            "Epoch 20/20\n",
            "40000/40000 [==============================] - 13s 337us/sample - loss: 0.2631 - accuracy: 0.9158 - val_loss: 0.8432 - val_accuracy: 0.7827\n"
          ],
          "name": "stdout"
        }
      ]
    },
    {
      "cell_type": "markdown",
      "metadata": {
        "id": "rYKI-NLSdFTd",
        "colab_type": "text"
      },
      "source": [
        "We have used the Dropout in the network, but why it is still <font color = 'red'>overfitting</font>?\n",
        "\n",
        "Yes, because the <font color = 'blue'>deeper the network</font> is, it will learn more and it is possible to be overfitted because of the <font color = 'blue'>big capacity to learn</font>. The deep network that we are building now <font color = 'red'>needs more datasets</font> so that our network will learn with more variety of data. So, we must increase the number of datasets.\n",
        "\n",
        "Let's do <font color = 'blue'>Data Augmentation</font>."
      ]
    },
    {
      "cell_type": "code",
      "metadata": {
        "id": "evZMc02QXevI",
        "colab_type": "code",
        "colab": {}
      },
      "source": [
        "data_gen_args = dict(\n",
        "    rotation_range=0,\n",
        "    width_shift_range= 0.1,\n",
        "    height_shift_range= 0.1,\n",
        "    shear_range=0.,\n",
        "    zoom_range=0.,\n",
        "    channel_shift_range=0.,\n",
        "    horizontal_flip=True,\n",
        "    vertical_flip=False,\n",
        "    rescale=None\n",
        ")\n",
        "\n",
        "from tensorflow.keras.preprocessing.image import ImageDataGenerator\n",
        "\n",
        "batch_size = 64\n",
        "\n",
        "datagen = ImageDataGenerator(**data_gen_args)\n",
        "datagen.fit(X_train)\n",
        "augmented_train = datagen.flow(\n",
        "    X_train, y_train_hot, batch_size\n",
        ")"
      ],
      "execution_count": 0,
      "outputs": []
    },
    {
      "cell_type": "markdown",
      "metadata": {
        "id": "_iDGqxdMv4hg",
        "colab_type": "text"
      },
      "source": [
        "Luckily Tensorflow has an Image Data Generator API for data augmentation and if you want to know more you can check it here https://www.tensorflow.org/api_docs/python/tf/keras/preprocessing/image/ImageDataGenerator"
      ]
    },
    {
      "cell_type": "code",
      "metadata": {
        "id": "QK3PQslQx73l",
        "colab_type": "code",
        "outputId": "25b66b5a-760f-4434-b1d5-f13076763327",
        "colab": {
          "base_uri": "https://localhost:8080/",
          "height": 650
        }
      },
      "source": [
        "model2 = Sequential([\n",
        "    Conv2D(filters=64, kernel_size=(3, 3), activation='relu', padding='same', input_shape=(32, 32, 3)),\n",
        "    Conv2D(filters=64, kernel_size=(3, 3), activation='relu', padding='same'),\n",
        "    MaxPool2D(pool_size=(3, 3), strides=(2, 2)),\n",
        "\n",
        "    Conv2D(filters=128, kernel_size=(3, 3), activation='relu', padding='same'),\n",
        "    Conv2D(filters=128, kernel_size=(3, 3), activation='relu', padding='same'),\n",
        "    MaxPool2D(pool_size=(3, 3), strides=(2, 2)),\n",
        "\n",
        "    Conv2D(filters=256, kernel_size=(3, 3), activation='relu', padding='same'),\n",
        "    Conv2D(filters=256, kernel_size=(3, 3), activation='relu', padding='same'),\n",
        "    MaxPool2D(pool_size=(3, 3), strides=(2, 2)),\n",
        "\n",
        "    Flatten(),\n",
        "    Dense(units=512, activation='relu'),\n",
        "    Dropout(0.5),\n",
        "    Dense(units=256, activation='relu'),    \n",
        "    Dropout(0.5),\n",
        "    Dense(units=10, activation='softmax')\n",
        "])\n",
        "\n",
        "model2.summary()"
      ],
      "execution_count": 0,
      "outputs": [
        {
          "output_type": "stream",
          "text": [
            "Model: \"sequential_1\"\n",
            "_________________________________________________________________\n",
            "Layer (type)                 Output Shape              Param #   \n",
            "=================================================================\n",
            "conv2d_6 (Conv2D)            (None, 32, 32, 64)        1792      \n",
            "_________________________________________________________________\n",
            "conv2d_7 (Conv2D)            (None, 32, 32, 64)        36928     \n",
            "_________________________________________________________________\n",
            "max_pooling2d_3 (MaxPooling2 (None, 15, 15, 64)        0         \n",
            "_________________________________________________________________\n",
            "conv2d_8 (Conv2D)            (None, 15, 15, 128)       73856     \n",
            "_________________________________________________________________\n",
            "conv2d_9 (Conv2D)            (None, 15, 15, 128)       147584    \n",
            "_________________________________________________________________\n",
            "max_pooling2d_4 (MaxPooling2 (None, 7, 7, 128)         0         \n",
            "_________________________________________________________________\n",
            "conv2d_10 (Conv2D)           (None, 7, 7, 256)         295168    \n",
            "_________________________________________________________________\n",
            "conv2d_11 (Conv2D)           (None, 7, 7, 256)         590080    \n",
            "_________________________________________________________________\n",
            "max_pooling2d_5 (MaxPooling2 (None, 3, 3, 256)         0         \n",
            "_________________________________________________________________\n",
            "flatten_1 (Flatten)          (None, 2304)              0         \n",
            "_________________________________________________________________\n",
            "dense_3 (Dense)              (None, 512)               1180160   \n",
            "_________________________________________________________________\n",
            "dropout_2 (Dropout)          (None, 512)               0         \n",
            "_________________________________________________________________\n",
            "dense_4 (Dense)              (None, 256)               131328    \n",
            "_________________________________________________________________\n",
            "dropout_3 (Dropout)          (None, 256)               0         \n",
            "_________________________________________________________________\n",
            "dense_5 (Dense)              (None, 10)                2570      \n",
            "=================================================================\n",
            "Total params: 2,459,466\n",
            "Trainable params: 2,459,466\n",
            "Non-trainable params: 0\n",
            "_________________________________________________________________\n"
          ],
          "name": "stdout"
        }
      ]
    },
    {
      "cell_type": "code",
      "metadata": {
        "id": "PZcHLH4Rxdxd",
        "colab_type": "code",
        "outputId": "f85bda08-e136-4fe4-e31c-31b3c38efc8d",
        "colab": {
          "base_uri": "https://localhost:8080/",
          "height": 953
        }
      },
      "source": [
        "model2.compile(optimizer='adam', loss='categorical_crossentropy', metrics=['accuracy'])\n",
        "\n",
        "his = model2.fit_generator(augmented_train, validation_data = (X_val, y_val_hot), epochs=20)\n",
        "\n",
        "history.append(his)"
      ],
      "execution_count": 0,
      "outputs": [
        {
          "output_type": "stream",
          "text": [
            "WARNING:tensorflow:From <ipython-input-16-01b7352bbae4>:3: Model.fit_generator (from tensorflow.python.keras.engine.training) is deprecated and will be removed in a future version.\n",
            "Instructions for updating:\n",
            "Please use Model.fit, which supports generators.\n"
          ],
          "name": "stdout"
        },
        {
          "output_type": "stream",
          "text": [
            "WARNING:tensorflow:From <ipython-input-16-01b7352bbae4>:3: Model.fit_generator (from tensorflow.python.keras.engine.training) is deprecated and will be removed in a future version.\n",
            "Instructions for updating:\n",
            "Please use Model.fit, which supports generators.\n"
          ],
          "name": "stderr"
        },
        {
          "output_type": "stream",
          "text": [
            "WARNING:tensorflow:sample_weight modes were coerced from\n",
            "  ...\n",
            "    to  \n",
            "  ['...']\n"
          ],
          "name": "stdout"
        },
        {
          "output_type": "stream",
          "text": [
            "WARNING:tensorflow:sample_weight modes were coerced from\n",
            "  ...\n",
            "    to  \n",
            "  ['...']\n"
          ],
          "name": "stderr"
        },
        {
          "output_type": "stream",
          "text": [
            "Train for 625 steps, validate on 10000 samples\n",
            "Epoch 1/20\n",
            "625/625 [==============================] - 24s 39ms/step - loss: 1.7695 - accuracy: 0.3128 - val_loss: 1.3307 - val_accuracy: 0.4970\n",
            "Epoch 2/20\n",
            "625/625 [==============================] - 24s 38ms/step - loss: 1.3345 - accuracy: 0.5138 - val_loss: 1.0915 - val_accuracy: 0.6038\n",
            "Epoch 3/20\n",
            "625/625 [==============================] - 24s 38ms/step - loss: 1.1121 - accuracy: 0.6111 - val_loss: 0.9819 - val_accuracy: 0.6519\n",
            "Epoch 4/20\n",
            "625/625 [==============================] - 24s 38ms/step - loss: 0.9957 - accuracy: 0.6587 - val_loss: 0.8461 - val_accuracy: 0.7015\n",
            "Epoch 5/20\n",
            "625/625 [==============================] - 24s 38ms/step - loss: 0.9042 - accuracy: 0.6902 - val_loss: 0.7985 - val_accuracy: 0.7200\n",
            "Epoch 6/20\n",
            "625/625 [==============================] - 24s 38ms/step - loss: 0.8525 - accuracy: 0.7157 - val_loss: 0.7938 - val_accuracy: 0.7232\n",
            "Epoch 7/20\n",
            "625/625 [==============================] - 24s 38ms/step - loss: 0.8218 - accuracy: 0.7241 - val_loss: 0.7493 - val_accuracy: 0.7455\n",
            "Epoch 8/20\n",
            "625/625 [==============================] - 24s 38ms/step - loss: 0.7806 - accuracy: 0.7394 - val_loss: 0.7024 - val_accuracy: 0.7622\n",
            "Epoch 9/20\n",
            "625/625 [==============================] - 23s 37ms/step - loss: 0.7602 - accuracy: 0.7473 - val_loss: 0.6738 - val_accuracy: 0.7655\n",
            "Epoch 10/20\n",
            "625/625 [==============================] - 24s 38ms/step - loss: 0.7352 - accuracy: 0.7550 - val_loss: 0.6903 - val_accuracy: 0.7613\n",
            "Epoch 11/20\n",
            "625/625 [==============================] - 24s 38ms/step - loss: 0.7090 - accuracy: 0.7627 - val_loss: 0.6693 - val_accuracy: 0.7679\n",
            "Epoch 12/20\n",
            "625/625 [==============================] - 24s 38ms/step - loss: 0.6986 - accuracy: 0.7677 - val_loss: 0.6757 - val_accuracy: 0.7728\n",
            "Epoch 13/20\n",
            "625/625 [==============================] - 24s 38ms/step - loss: 0.6888 - accuracy: 0.7702 - val_loss: 0.6346 - val_accuracy: 0.7851\n",
            "Epoch 14/20\n",
            "625/625 [==============================] - 24s 38ms/step - loss: 0.6726 - accuracy: 0.7780 - val_loss: 0.6729 - val_accuracy: 0.7719\n",
            "Epoch 15/20\n",
            "625/625 [==============================] - 23s 38ms/step - loss: 0.6596 - accuracy: 0.7808 - val_loss: 0.6548 - val_accuracy: 0.7779\n",
            "Epoch 16/20\n",
            "625/625 [==============================] - 24s 38ms/step - loss: 0.6539 - accuracy: 0.7837 - val_loss: 0.6068 - val_accuracy: 0.7945\n",
            "Epoch 17/20\n",
            "625/625 [==============================] - 24s 38ms/step - loss: 0.6367 - accuracy: 0.7885 - val_loss: 0.6550 - val_accuracy: 0.7790\n",
            "Epoch 18/20\n",
            "625/625 [==============================] - 23s 38ms/step - loss: 0.6447 - accuracy: 0.7874 - val_loss: 0.6087 - val_accuracy: 0.7930\n",
            "Epoch 19/20\n",
            "625/625 [==============================] - 24s 38ms/step - loss: 0.6200 - accuracy: 0.7931 - val_loss: 0.6933 - val_accuracy: 0.7676\n",
            "Epoch 20/20\n",
            "625/625 [==============================] - 24s 38ms/step - loss: 0.6266 - accuracy: 0.7925 - val_loss: 0.5941 - val_accuracy: 0.7984\n"
          ],
          "name": "stdout"
        }
      ]
    },
    {
      "cell_type": "code",
      "metadata": {
        "id": "z0mNrRGMhf6-",
        "colab_type": "code",
        "outputId": "5630d654-a001-4644-f22d-9c908356b71e",
        "colab": {
          "base_uri": "https://localhost:8080/",
          "height": 462
        }
      },
      "source": [
        "model_name = [\"Without Augmentation\", \"With Augmentation\"]\n",
        "\n",
        "plt.rcParams['figure.figsize'] = [12, 8]\n",
        "plt.subplots_adjust(wspace=0.2, hspace=0.5)\n",
        "\n",
        "for i, name in enumerate(model_name):\n",
        "  plt.subplot(2, 2, i*2+1)\n",
        "  plt.plot(history[i].history['accuracy'], label='train_accuracy')\n",
        "  plt.plot(history[i].history['val_accuracy'], label='val_accuracy')\n",
        "  plt.title(\"Classification Accuracy \" + model_name[i])\n",
        "  plt.xlabel('Epoch')\n",
        "  plt.legend()\n",
        "\n",
        "  plt.subplot(2, 2, i*2+2)\n",
        "  plt.plot(history[i].history['loss'], label='train_loss')\n",
        "  plt.plot(history[i].history['val_loss'], label='val_loss')\n",
        "  plt.title(\"Classification Loss \" + model_name[i])\n",
        "  plt.xlabel('Epoch')\n",
        "  plt.legend()\n",
        "  \n",
        "  plt.show()"
      ],
      "execution_count": 0,
      "outputs": [
        {
          "output_type": "display_data",
          "data": {
            "image/png": "[encoded data removed]",
            "text/plain": [
              "<Figure size 864x576 with 2 Axes>"
            ]
          },
          "metadata": {
            "tags": []
          }
        },
        {
          "output_type": "display_data",
          "data": {
            "image/png": "[encoded data removed]",
            "text/plain": [
              "<Figure size 864x576 with 2 Axes>"
            ]
          },
          "metadata": {
            "tags": []
          }
        }
      ]
    },
    {
      "cell_type": "markdown",
      "metadata": {
        "id": "diIRHbPv1HVX",
        "colab_type": "text"
      },
      "source": [
        "# Evaluate Model"
      ]
    },
    {
      "cell_type": "markdown",
      "metadata": {
        "id": "0NLJNSf21IqK",
        "colab_type": "text"
      },
      "source": [
        "## Model Performance without Data Augmentation"
      ]
    },
    {
      "cell_type": "code",
      "metadata": {
        "id": "Fg2_rJs41SA0",
        "colab_type": "code",
        "outputId": "428d0684-f393-4ff9-92f1-055797aad05d",
        "colab": {
          "base_uri": "https://localhost:8080/",
          "height": 136
        }
      },
      "source": [
        "train_scores = model1.evaluate(X_train, y_train_hot, batch_size=16, verbose=1)\n",
        "test_scores  = model1.evaluate(X_test, y_test_hot, batch_size=16, verbose=1)\n",
        "val_scores   = model1.evaluate(X_val, y_val_hot, batch_size=16, verbose=1)\n",
        "\n",
        "print('Train Loss: %.5f with Accuracy: %.1f%%' % (train_scores[0], (train_scores[1]*100)))\n",
        "print('Test  Loss: %.5f with Accuracy: %.1f%%' % (test_scores[0], (test_scores[1]*100)))\n",
        "print('Val   Loss: %.5f with Accuracy: %.1f%%' % (val_scores[0], (val_scores[1]*100)))"
      ],
      "execution_count": 0,
      "outputs": [
        {
          "output_type": "stream",
          "text": [
            "40000/40000 [==============================] - 10s 259us/sample - loss: 0.1615 - accuracy: 0.9488\n",
            "10000/10000 [==============================] - 3s 254us/sample - loss: 0.8831 - accuracy: 0.7769\n",
            "10000/10000 [==============================] - 3s 253us/sample - loss: 0.8432 - accuracy: 0.7827\n",
            "Train Loss: 0.16146 with Accuracy: 94.9%\n",
            "Test  Loss: 0.88306 with Accuracy: 77.7%\n",
            "Val   Loss: 0.84317 with Accuracy: 78.3%\n"
          ],
          "name": "stdout"
        }
      ]
    },
    {
      "cell_type": "markdown",
      "metadata": {
        "id": "oEZH27Oj1N1l",
        "colab_type": "text"
      },
      "source": [
        "## Model Performance with Data Augmentation"
      ]
    },
    {
      "cell_type": "code",
      "metadata": {
        "id": "0AwhnwKX1SSp",
        "colab_type": "code",
        "outputId": "23105c16-eadb-41a9-dba3-1830514f0232",
        "colab": {
          "base_uri": "https://localhost:8080/",
          "height": 136
        }
      },
      "source": [
        "train_scores = model2.evaluate(X_train, y_train_hot, batch_size=16, verbose=1)\n",
        "test_scores  = model2.evaluate(X_test, y_test_hot, batch_size=16, verbose=1)\n",
        "val_scores   = model2.evaluate(X_val, y_val_hot, batch_size=16, verbose=1)\n",
        "\n",
        "print('Train Loss: %.5f with Accuracy: %.1f%%' % (train_scores[0], (train_scores[1]*100)))\n",
        "print('Test  Loss: %.5f with Accuracy: %.1f%%' % (test_scores[0], (test_scores[1]*100)))\n",
        "print('Val   Loss: %.5f with Accuracy: %.1f%%' % (val_scores[0], (val_scores[1]*100)))"
      ],
      "execution_count": 0,
      "outputs": [
        {
          "output_type": "stream",
          "text": [
            "40000/40000 [==============================] - 10s 255us/sample - loss: 0.4818 - accuracy: 0.8317\n",
            "10000/10000 [==============================] - 2s 250us/sample - loss: 0.6249 - accuracy: 0.7949\n",
            "10000/10000 [==============================] - 3s 252us/sample - loss: 0.5941 - accuracy: 0.7984\n",
            "Train Loss: 0.48176 with Accuracy: 83.2%\n",
            "Test  Loss: 0.62495 with Accuracy: 79.5%\n",
            "Val   Loss: 0.59415 with Accuracy: 79.8%\n"
          ],
          "name": "stdout"
        }
      ]
    },
    {
      "cell_type": "markdown",
      "metadata": {
        "id": "M6xHBz_-D_je",
        "colab_type": "text"
      },
      "source": [
        "As we can see, the trained model <font color = 'red'>without Data Augmentation is overfitting</font>, and the model that are trained with <font color = 'blue'>augmented data can handle overfitting</font>. How could <font color = 'blue'>Data Augmentation</font> can handle <font color = 'red'>Overfitting</font>? See the explanation below."
      ]
    },
    {
      "cell_type": "markdown",
      "metadata": {
        "id": "GrzxE7h2MOzv",
        "colab_type": "text"
      },
      "source": [
        "# Data Augmentation"
      ]
    },
    {
      "cell_type": "markdown",
      "metadata": {
        "id": "DV_KDfgtHxjv",
        "colab_type": "text"
      },
      "source": [
        "For example, let's say we have a dataset consisting of two classes (cat and lion)\n",
        "\n",
        "<p align=center>\n",
        "<img src=\"https://raw.githubusercontent.com/Malikanhar/Deep-Learning-for-Image-Classification/master/2%20Data%20Augmentation%20to%20Prevent%20Overfitting/Images/Image1.PNG\" width='600'>\n",
        "</p>\n",
        "\n",
        "Based on the dataset, our model will learn to <font color = 'red'>recognize object through the body poses</font>. The model we trained will recognize that objects with <font color = 'blue'>sitting pose with the hands down and the head on the top is a cat</font> and objects with <font color = 'blue'>only head that is covered more of the picture is a Lion</font>, <font color = 'red'>without recognizing the details</font> of all parts of their body. Let's see what is the problem if we train the model like that."
      ]
    },
    {
      "cell_type": "markdown",
      "metadata": {
        "id": "4mv158rLKU0d",
        "colab_type": "text"
      },
      "source": [
        "## What's the problem?"
      ]
    },
    {
      "cell_type": "markdown",
      "metadata": {
        "id": "YxtLcgf8MXLk",
        "colab_type": "text"
      },
      "source": [
        "Let's say we test the model that we have trained using this picture.\n",
        "\n",
        "<p align=center>\n",
        "<img src=\"https://raw.githubusercontent.com/Malikanhar/Deep-Learning-for-Image-Classification/master/2%20Data%20Augmentation%20to%20Prevent%20Overfitting/Images/Image2.PNG\" width='250'>\n",
        "</p>\n",
        "\n",
        "Human can easily say that this picture is a <font color = 'blue'>Cat</font>. But the prediction of the model we have trained will see it as a <font color = 'red'>Lion</font> based on the datasets we used when we were training our model.\n",
        "\n",
        "<p align=center>\n",
        "<img src=\"https://raw.githubusercontent.com/Malikanhar/Deep-Learning-for-Image-Classification/master/2%20Data%20Augmentation%20to%20Prevent%20Overfitting/Images/Image3.PNG\" width='600'>\n",
        "</p>"
      ]
    },
    {
      "cell_type": "markdown",
      "metadata": {
        "id": "RdRG19DGMZJJ",
        "colab_type": "text"
      },
      "source": [
        "## What should we do?"
      ]
    },
    {
      "cell_type": "markdown",
      "metadata": {
        "id": "Cfy5hwgrMeuS",
        "colab_type": "text"
      },
      "source": [
        "Absolutely, <font color = 'blue'>Data Augmentation</font>. Let's see how does it works!\n",
        "\n",
        "For instance, in this case we can do <font color = 'blue'>random cropping</font> so that our model can <font color = 'blue'>learn the detail</font> of the object.\n",
        "\n",
        "<p align=center>\n",
        "<img src=\"https://raw.githubusercontent.com/Malikanhar/Deep-Learning-for-Image-Classification/master/2%20Data%20Augmentation%20to%20Prevent%20Overfitting/Images/Image4.PNG\" width='600'><br>\n",
        "<b>Random Croping</b>\n",
        "</p>\n",
        "\n",
        "With random cropping, our model will learn that Cats have nose, ears, and eyes that are different with Lions. So, our model is <font color = 'red'>not recognize those objects by their pose</font> anymore, but it will <font color = 'blue'>learn from the detail of those objects</font>.\n",
        "\n",
        "<p align=center>\n",
        "<img src=\"https://raw.githubusercontent.com/Malikanhar/Deep-Learning-for-Image-Classification/master/2%20Data%20Augmentation%20to%20Prevent%20Overfitting/Images/Image5.PNG\" width='600'>\n",
        "</p>\n"
      ]
    },
    {
      "cell_type": "markdown",
      "metadata": {
        "id": "we23WN6APbzE",
        "colab_type": "text"
      },
      "source": [
        "<font color = 'blue'>Easy</font> to understand, right?"
      ]
    },
    {
      "cell_type": "markdown",
      "metadata": {
        "id": "YPahomZIPWKv",
        "colab_type": "text"
      },
      "source": [
        "<p>Copyright &copy;  <a href=https://www.linkedin.com/in/malikanhar/>2019 - MALIK</a> </p>"
      ]
    }
  ]
}