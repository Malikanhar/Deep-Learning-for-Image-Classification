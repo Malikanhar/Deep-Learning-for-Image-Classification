{
  "nbformat": 4,
  "nbformat_minor": 0,
  "metadata": {
    "colab": {
      "name": "More Flavor with Batch Normalization.ipynb",
      "provenance": [],
      "collapsed_sections": []
    },
    "kernelspec": {
      "name": "python3",
      "display_name": "Python 3"
    },
    "accelerator": "GPU"
  },
  "cells": [
    {
      "cell_type": "markdown",
      "metadata": {
        "id": "e3tPPfsEsmM-",
        "colab_type": "text"
      },
      "source": [
        "# Cifar10 Classifier\n",
        "Cifar10 is a dataset with 10 classes containing 6000 images for each class. In this notebook, you will see how Batch Normalization speed up the training."
      ]
    },
    {
      "cell_type": "markdown",
      "metadata": {
        "id": "cNTuVxkNtdqz",
        "colab_type": "text"
      },
      "source": [
        "# Import Libraries"
      ]
    },
    {
      "cell_type": "markdown",
      "metadata": {
        "id": "l550AIVXtdhe",
        "colab_type": "text"
      },
      "source": [
        "## Install Tensorflow 2"
      ]
    },
    {
      "cell_type": "code",
      "metadata": {
        "id": "y9I2kZ4gU7-4",
        "colab_type": "code",
        "colab": {}
      },
      "source": [
        "!pip install tensorflow-gpu -q"
      ],
      "execution_count": 0,
      "outputs": []
    },
    {
      "cell_type": "code",
      "metadata": {
        "id": "oswLFwx1tcxo",
        "colab_type": "code",
        "outputId": "fa287e19-8331-4bc8-8eb3-2c66518e561a",
        "colab": {
          "base_uri": "https://localhost:8080/",
          "height": 33
        }
      },
      "source": [
        "import tensorflow as tf\n",
        "\n",
        "tf.__version__"
      ],
      "execution_count": 0,
      "outputs": [
        {
          "output_type": "execute_result",
          "data": {
            "text/plain": [
              "'2.1.0'"
            ]
          },
          "metadata": {
            "tags": []
          },
          "execution_count": 2
        }
      ]
    },
    {
      "cell_type": "markdown",
      "metadata": {
        "id": "0jmOCTVAtteD",
        "colab_type": "text"
      },
      "source": [
        "## Import other libraries"
      ]
    },
    {
      "cell_type": "code",
      "metadata": {
        "id": "rTmHxXDjtsb9",
        "colab_type": "code",
        "colab": {}
      },
      "source": [
        "import matplotlib.pyplot as plt\n",
        "import numpy as np\n",
        "import tensorflow_datasets as tfds\n",
        "from tensorflow.keras.models import Sequential\n",
        "from tensorflow.keras.layers import *\n",
        "from tensorflow.keras.utils import to_categorical\n",
        "\n",
        "np.set_printoptions(precision=7)\n",
        "np.random.seed(42)\n",
        "%matplotlib inline"
      ],
      "execution_count": 0,
      "outputs": []
    },
    {
      "cell_type": "markdown",
      "metadata": {
        "id": "B2AyYBwkt5QW",
        "colab_type": "text"
      },
      "source": [
        "# Cifar10 Tensorflow Dataset\n",
        "\n",
        "In this tutorial, we are using Cifar10 data from Tensorflow dataset, you can see the details here https://www.tensorflow.org/datasets/catalog/cifar10"
      ]
    },
    {
      "cell_type": "markdown",
      "metadata": {
        "id": "barjn1ROuUJr",
        "colab_type": "text"
      },
      "source": [
        "## Create directory for dataset"
      ]
    },
    {
      "cell_type": "code",
      "metadata": {
        "id": "vJMt3_JItzXF",
        "colab_type": "code",
        "colab": {}
      },
      "source": [
        "import os\n",
        "\n",
        "data_dir = 'dataset'\n",
        "\n",
        "if not os.path.exists(data_dir):\n",
        "  os.mkdir(data_dir)"
      ],
      "execution_count": 0,
      "outputs": []
    },
    {
      "cell_type": "markdown",
      "metadata": {
        "id": "GLJKsIjRubKx",
        "colab_type": "text"
      },
      "source": [
        "## Download Cifar10 dataset"
      ]
    },
    {
      "cell_type": "code",
      "metadata": {
        "id": "Jql1sqBluTaA",
        "colab_type": "code",
        "colab": {}
      },
      "source": [
        "dataset_name = 'cifar10'\n",
        "\n",
        "(train_set, test_set), dataset_info =  tfds.load( \n",
        "              name = dataset_name, \n",
        "              split = ['train', 'test'], \n",
        "              with_info = True, \n",
        "              data_dir = data_dir\n",
        "          )"
      ],
      "execution_count": 0,
      "outputs": []
    },
    {
      "cell_type": "markdown",
      "metadata": {
        "id": "ET3_h3-Wum3b",
        "colab_type": "text"
      },
      "source": [
        "## Dataset Information"
      ]
    },
    {
      "cell_type": "code",
      "metadata": {
        "id": "NJ-GlT6luaWC",
        "colab_type": "code",
        "outputId": "778c6259-1fd6-4992-ed5f-57004717dd2d",
        "colab": {
          "base_uri": "https://localhost:8080/",
          "height": 436
        }
      },
      "source": [
        "print(dataset_info)"
      ],
      "execution_count": 0,
      "outputs": [
        {
          "output_type": "stream",
          "text": [
            "tfds.core.DatasetInfo(\n",
            "    name='cifar10',\n",
            "    version=3.0.0,\n",
            "    description='The CIFAR-10 dataset consists of 60000 32x32 colour images in 10 classes, with 6000 images per class. There are 50000 training images and 10000 test images.',\n",
            "    homepage='https://www.cs.toronto.edu/~kriz/cifar.html',\n",
            "    features=FeaturesDict({\n",
            "        'image': Image(shape=(32, 32, 3), dtype=tf.uint8),\n",
            "        'label': ClassLabel(shape=(), dtype=tf.int64, num_classes=10),\n",
            "    }),\n",
            "    total_num_examples=60000,\n",
            "    splits={\n",
            "        'test': 10000,\n",
            "        'train': 50000,\n",
            "    },\n",
            "    supervised_keys=('image', 'label'),\n",
            "    citation=\"\"\"@TECHREPORT{Krizhevsky09learningmultiple,\n",
            "        author = {Alex Krizhevsky},\n",
            "        title = {Learning multiple layers of features from tiny images},\n",
            "        institution = {},\n",
            "        year = {2009}\n",
            "    }\"\"\",\n",
            "    redistribution_info=,\n",
            ")\n",
            "\n"
          ],
          "name": "stdout"
        }
      ]
    },
    {
      "cell_type": "markdown",
      "metadata": {
        "id": "mEKkgJuXurIN",
        "colab_type": "text"
      },
      "source": [
        "## Detailed Information"
      ]
    },
    {
      "cell_type": "code",
      "metadata": {
        "id": "0Sgujno1uonC",
        "colab_type": "code",
        "outputId": "6ae1a407-62b3-4038-e669-83fceb78cd3a",
        "colab": {
          "base_uri": "https://localhost:8080/",
          "height": 153
        }
      },
      "source": [
        "class_names =  dataset_info.features[\"label\"].names\n",
        "\n",
        "print('image shape    :', dataset_info.features['image'].shape)\n",
        "print('image dtype    :', dataset_info.features['image'].dtype)\n",
        "print()\n",
        "print('num class      : ',dataset_info.features[\"label\"].num_classes)\n",
        "print('class label    :', dataset_info.features[\"label\"].names)\n",
        "print()\n",
        "print('num train data :', dataset_info.splits[\"train\"].num_examples)"
      ],
      "execution_count": 0,
      "outputs": [
        {
          "output_type": "stream",
          "text": [
            "image shape    : (32, 32, 3)\n",
            "image dtype    : <dtype: 'uint8'>\n",
            "\n",
            "num class      :  10\n",
            "class label    : ['airplane', 'automobile', 'bird', 'cat', 'deer', 'dog', 'frog', 'horse', 'ship', 'truck']\n",
            "\n",
            "num train data : 50000\n"
          ],
          "name": "stdout"
        }
      ]
    },
    {
      "cell_type": "markdown",
      "metadata": {
        "id": "ReOkFuTxuw_M",
        "colab_type": "text"
      },
      "source": [
        "## Show Images"
      ]
    },
    {
      "cell_type": "code",
      "metadata": {
        "id": "tXJBc-mkutIE",
        "colab_type": "code",
        "outputId": "101f134d-2576-4311-f36c-4f24ac17969b",
        "colab": {
          "base_uri": "https://localhost:8080/",
          "height": 534
        }
      },
      "source": [
        "fig = tfds.show_examples(dataset_info, train_set)"
      ],
      "execution_count": 0,
      "outputs": [
        {
          "output_type": "display_data",
          "data": {
            "image/png": "[encoded data removed]",
            "text/plain": [
              "<Figure size 648x648 with 9 Axes>"
            ]
          },
          "metadata": {
            "tags": []
          }
        }
      ]
    },
    {
      "cell_type": "markdown",
      "metadata": {
        "id": "ADPTARIFvW5R",
        "colab_type": "text"
      },
      "source": [
        "Since Cifar10 has the same size for each image, so we don't need to resize the image. All we have to do is convert the image type as numpy array and normalize every pixel."
      ]
    },
    {
      "cell_type": "markdown",
      "metadata": {
        "id": "av9oqndSvUUJ",
        "colab_type": "text"
      },
      "source": [
        "# Preprocess Image"
      ]
    },
    {
      "cell_type": "markdown",
      "metadata": {
        "id": "U43gnTqzwaho",
        "colab_type": "text"
      },
      "source": [
        "## Convert Image Type"
      ]
    },
    {
      "cell_type": "code",
      "metadata": {
        "id": "UrGL6liauwOB",
        "colab_type": "code",
        "colab": {}
      },
      "source": [
        "X_train_ori = []\n",
        "y_train_ori = []\n",
        "\n",
        "X_test_ori = []\n",
        "y_test_ori = []\n",
        "\n",
        "for example in tfds.as_numpy(train_set):\n",
        "    new_img = example['image']\n",
        "    X_train_ori.append(new_img)\n",
        "    y_train_ori.append(example['label'])\n",
        "del train_set\n",
        "\n",
        "for example in tfds.as_numpy(test_set):\n",
        "    new_img = example['image']\n",
        "    X_test_ori.append(new_img)\n",
        "    y_test_ori.append(example['label'])\n",
        "del test_set\n",
        "\n",
        "# Convert train data to numpy array\n",
        "X_train_ori = np.asarray(X_train_ori)\n",
        "y_train_ori = np.asarray(y_train_ori)\n",
        "\n",
        "# Convert test data to numpy array\n",
        "X_test_ori = np.asarray(X_test_ori)\n",
        "y_test_ori = np.asarray(y_test_ori)\n",
        "\n",
        "# One hot label\n",
        "y_train_hot = to_categorical(y_train_ori)\n",
        "y_test_hot = to_categorical(y_test_ori)"
      ],
      "execution_count": 0,
      "outputs": []
    },
    {
      "cell_type": "markdown",
      "metadata": {
        "id": "HeMpDR-MyOq1",
        "colab_type": "text"
      },
      "source": [
        "## Normalize Data"
      ]
    },
    {
      "cell_type": "code",
      "metadata": {
        "id": "L8xiYiQIyONw",
        "colab_type": "code",
        "colab": {}
      },
      "source": [
        "mean_pixel = X_train_ori.mean(axis=(0, 1, 2), keepdims=True)\n",
        "std_pixel = X_train_ori.std(axis=(0, 1, 2), keepdims=True)\n",
        "\n",
        "X_train = ((X_train_ori - mean_pixel) / std_pixel).astype('float32')\n",
        "\n",
        "X_test = ((X_test_ori - mean_pixel) / std_pixel).astype('float32')"
      ],
      "execution_count": 0,
      "outputs": []
    },
    {
      "cell_type": "markdown",
      "metadata": {
        "id": "vOx1S-dExOZj",
        "colab_type": "text"
      },
      "source": [
        "# Split Train Data into Train and Validaiton"
      ]
    },
    {
      "cell_type": "code",
      "metadata": {
        "id": "dIeuUNO7xR8K",
        "colab_type": "code",
        "outputId": "c88436cc-b27a-4554-d53e-1986067f95e3",
        "colab": {
          "base_uri": "https://localhost:8080/",
          "height": 116
        }
      },
      "source": [
        "# Set the length of Train data\n",
        "dataset_size = len(X_train)\n",
        "train_idx = int(0.8 * dataset_size)\n",
        "\n",
        "# Split for val data\n",
        "X_val = X_train[train_idx:, :]\n",
        "y_val_hot = y_train_hot[train_idx:]\n",
        "\n",
        "# Split for train data\n",
        "X_train = X_train[:train_idx, :]\n",
        "y_train_hot = y_train_hot[:train_idx]\n",
        "\n",
        "print('X_train.shape =', X_train.shape)\n",
        "print('X_val.shape =', X_val.shape)\n",
        "print('X_test.shape =', X_test.shape)\n",
        "\n",
        "print('y_train.shape =', y_train_hot.shape)\n",
        "print('y_val.shape =', y_val_hot.shape)\n",
        "print('y_test.shape =', y_test_hot.shape)"
      ],
      "execution_count": 0,
      "outputs": [
        {
          "output_type": "stream",
          "text": [
            "X_train.shape = (40000, 32, 32, 3)\n",
            "X_val.shape = (10000, 32, 32, 3)\n",
            "X_test.shape = (10000, 32, 32, 3)\n",
            "y_train.shape = (40000, 10)\n",
            "y_val.shape = (10000, 10)\n",
            "y_test.shape = (10000, 10)\n"
          ],
          "name": "stdout"
        }
      ]
    },
    {
      "cell_type": "markdown",
      "metadata": {
        "id": "OX9ehGgUU1qv",
        "colab_type": "text"
      },
      "source": [
        "# Data Augmentation"
      ]
    },
    {
      "cell_type": "code",
      "metadata": {
        "id": "W1DCVUWIU090",
        "colab_type": "code",
        "colab": {}
      },
      "source": [
        "data_gen_args = dict(\n",
        "    rotation_range=0,\n",
        "    width_shift_range= 0.1,\n",
        "    height_shift_range= 0.1,\n",
        "    shear_range=0.,\n",
        "    zoom_range=0.,\n",
        "    channel_shift_range=0.,\n",
        "    horizontal_flip=True,\n",
        "    vertical_flip=False,\n",
        "    rescale=None\n",
        ")\n",
        "\n",
        "from tensorflow.keras.preprocessing.image import ImageDataGenerator\n",
        "\n",
        "batch_size = 64\n",
        "\n",
        "datagen = ImageDataGenerator(**data_gen_args)\n",
        "datagen.fit(X_train)\n",
        "augmented_train = datagen.flow(\n",
        "    X_train, y_train_hot, batch_size\n",
        ")"
      ],
      "execution_count": 0,
      "outputs": []
    },
    {
      "cell_type": "markdown",
      "metadata": {
        "id": "rklteFPHyHM6",
        "colab_type": "text"
      },
      "source": [
        "# Classification Model\n",
        "\n",
        "Let's go to the deeper model with 0.5 probability of Dropout."
      ]
    },
    {
      "cell_type": "code",
      "metadata": {
        "id": "Nek21iQIyItg",
        "colab_type": "code",
        "outputId": "b869ea08-3cf0-4da7-a742-6506e40c1df5",
        "colab": {
          "base_uri": "https://localhost:8080/",
          "height": 650
        }
      },
      "source": [
        "model1 = Sequential([\n",
        "    Conv2D(filters=64, kernel_size=(3, 3), activation='relu', padding='same', input_shape=(32, 32, 3)),\n",
        "    Conv2D(filters=64, kernel_size=(3, 3), activation='relu', padding='same'),\n",
        "    MaxPool2D(pool_size=(3, 3), strides=(2, 2)),\n",
        "\n",
        "    Conv2D(filters=128, kernel_size=(3, 3), activation='relu', padding='same'),\n",
        "    Conv2D(filters=128, kernel_size=(3, 3), activation='relu', padding='same'),\n",
        "    MaxPool2D(pool_size=(3, 3), strides=(2, 2)),\n",
        "\n",
        "    Conv2D(filters=256, kernel_size=(3, 3), activation='relu', padding='same'),\n",
        "    Conv2D(filters=256, kernel_size=(3, 3), activation='relu', padding='same'),\n",
        "    MaxPool2D(pool_size=(3, 3), strides=(2, 2)),\n",
        "\n",
        "    Flatten(),\n",
        "    Dense(units=512, activation='relu'),\n",
        "    Dropout(0.5),\n",
        "    Dense(units=256, activation='relu'),    \n",
        "    Dropout(0.5),\n",
        "    Dense(units=10, activation='softmax')\n",
        "])\n",
        "\n",
        "model1.summary()"
      ],
      "execution_count": 0,
      "outputs": [
        {
          "output_type": "stream",
          "text": [
            "Model: \"sequential\"\n",
            "_________________________________________________________________\n",
            "Layer (type)                 Output Shape              Param #   \n",
            "=================================================================\n",
            "conv2d (Conv2D)              (None, 32, 32, 64)        1792      \n",
            "_________________________________________________________________\n",
            "conv2d_1 (Conv2D)            (None, 32, 32, 64)        36928     \n",
            "_________________________________________________________________\n",
            "max_pooling2d (MaxPooling2D) (None, 15, 15, 64)        0         \n",
            "_________________________________________________________________\n",
            "conv2d_2 (Conv2D)            (None, 15, 15, 128)       73856     \n",
            "_________________________________________________________________\n",
            "conv2d_3 (Conv2D)            (None, 15, 15, 128)       147584    \n",
            "_________________________________________________________________\n",
            "max_pooling2d_1 (MaxPooling2 (None, 7, 7, 128)         0         \n",
            "_________________________________________________________________\n",
            "conv2d_4 (Conv2D)            (None, 7, 7, 256)         295168    \n",
            "_________________________________________________________________\n",
            "conv2d_5 (Conv2D)            (None, 7, 7, 256)         590080    \n",
            "_________________________________________________________________\n",
            "max_pooling2d_2 (MaxPooling2 (None, 3, 3, 256)         0         \n",
            "_________________________________________________________________\n",
            "flatten (Flatten)            (None, 2304)              0         \n",
            "_________________________________________________________________\n",
            "dense (Dense)                (None, 512)               1180160   \n",
            "_________________________________________________________________\n",
            "dropout (Dropout)            (None, 512)               0         \n",
            "_________________________________________________________________\n",
            "dense_1 (Dense)              (None, 256)               131328    \n",
            "_________________________________________________________________\n",
            "dropout_1 (Dropout)          (None, 256)               0         \n",
            "_________________________________________________________________\n",
            "dense_2 (Dense)              (None, 10)                2570      \n",
            "=================================================================\n",
            "Total params: 2,459,466\n",
            "Trainable params: 2,459,466\n",
            "Non-trainable params: 0\n",
            "_________________________________________________________________\n"
          ],
          "name": "stdout"
        }
      ]
    },
    {
      "cell_type": "code",
      "metadata": {
        "id": "CHcPmfj7VJjC",
        "colab_type": "code",
        "outputId": "a1b861bf-8dc4-4abf-dfe8-30c527133702",
        "colab": {
          "base_uri": "https://localhost:8080/",
          "height": 953
        }
      },
      "source": [
        "history = []\n",
        "\n",
        "model1.compile(optimizer='adam', loss='categorical_crossentropy', metrics=['accuracy'])\n",
        "\n",
        "his = model1.fit_generator(augmented_train, validation_data = (X_val, y_val_hot), epochs=20)\n",
        "\n",
        "history.append(his)"
      ],
      "execution_count": 0,
      "outputs": [
        {
          "output_type": "stream",
          "text": [
            "WARNING:tensorflow:From <ipython-input-14-f254d01a815b>:5: Model.fit_generator (from tensorflow.python.keras.engine.training) is deprecated and will be removed in a future version.\n",
            "Instructions for updating:\n",
            "Please use Model.fit, which supports generators.\n"
          ],
          "name": "stdout"
        },
        {
          "output_type": "stream",
          "text": [
            "WARNING:tensorflow:From <ipython-input-14-f254d01a815b>:5: Model.fit_generator (from tensorflow.python.keras.engine.training) is deprecated and will be removed in a future version.\n",
            "Instructions for updating:\n",
            "Please use Model.fit, which supports generators.\n"
          ],
          "name": "stderr"
        },
        {
          "output_type": "stream",
          "text": [
            "WARNING:tensorflow:sample_weight modes were coerced from\n",
            "  ...\n",
            "    to  \n",
            "  ['...']\n"
          ],
          "name": "stdout"
        },
        {
          "output_type": "stream",
          "text": [
            "WARNING:tensorflow:sample_weight modes were coerced from\n",
            "  ...\n",
            "    to  \n",
            "  ['...']\n"
          ],
          "name": "stderr"
        },
        {
          "output_type": "stream",
          "text": [
            "Train for 625 steps, validate on 10000 samples\n",
            "Epoch 1/20\n",
            "625/625 [==============================] - 20s 32ms/step - loss: 1.7845 - accuracy: 0.3084 - val_loss: 1.4013 - val_accuracy: 0.4828\n",
            "Epoch 2/20\n",
            "625/625 [==============================] - 18s 29ms/step - loss: 1.3314 - accuracy: 0.5175 - val_loss: 1.2199 - val_accuracy: 0.5662\n",
            "Epoch 3/20\n",
            "625/625 [==============================] - 18s 29ms/step - loss: 1.1273 - accuracy: 0.6051 - val_loss: 1.0232 - val_accuracy: 0.6480\n",
            "Epoch 4/20\n",
            "625/625 [==============================] - 19s 30ms/step - loss: 1.0113 - accuracy: 0.6533 - val_loss: 0.9844 - val_accuracy: 0.6533\n",
            "Epoch 5/20\n",
            "625/625 [==============================] - 18s 29ms/step - loss: 0.9403 - accuracy: 0.6813 - val_loss: 0.7916 - val_accuracy: 0.7237\n",
            "Epoch 6/20\n",
            "625/625 [==============================] - 19s 30ms/step - loss: 0.8791 - accuracy: 0.7029 - val_loss: 0.7818 - val_accuracy: 0.7280\n",
            "Epoch 7/20\n",
            "625/625 [==============================] - 18s 30ms/step - loss: 0.8269 - accuracy: 0.7201 - val_loss: 0.7548 - val_accuracy: 0.7299\n",
            "Epoch 8/20\n",
            "625/625 [==============================] - 18s 29ms/step - loss: 0.8070 - accuracy: 0.7274 - val_loss: 0.7072 - val_accuracy: 0.7552\n",
            "Epoch 9/20\n",
            "625/625 [==============================] - 18s 30ms/step - loss: 0.7755 - accuracy: 0.7379 - val_loss: 0.7506 - val_accuracy: 0.7406\n",
            "Epoch 10/20\n",
            "625/625 [==============================] - 18s 29ms/step - loss: 0.7497 - accuracy: 0.7465 - val_loss: 0.7184 - val_accuracy: 0.7619\n",
            "Epoch 11/20\n",
            "625/625 [==============================] - 18s 30ms/step - loss: 0.7338 - accuracy: 0.7559 - val_loss: 0.7434 - val_accuracy: 0.7570\n",
            "Epoch 12/20\n",
            "625/625 [==============================] - 18s 29ms/step - loss: 0.7225 - accuracy: 0.7603 - val_loss: 0.6613 - val_accuracy: 0.7791\n",
            "Epoch 13/20\n",
            "625/625 [==============================] - 19s 30ms/step - loss: 0.6978 - accuracy: 0.7682 - val_loss: 0.6796 - val_accuracy: 0.7702\n",
            "Epoch 14/20\n",
            "625/625 [==============================] - 18s 30ms/step - loss: 0.6870 - accuracy: 0.7697 - val_loss: 0.7442 - val_accuracy: 0.7518\n",
            "Epoch 15/20\n",
            "625/625 [==============================] - 18s 29ms/step - loss: 0.6767 - accuracy: 0.7757 - val_loss: 0.7025 - val_accuracy: 0.7596\n",
            "Epoch 16/20\n",
            "625/625 [==============================] - 19s 30ms/step - loss: 0.6657 - accuracy: 0.7786 - val_loss: 0.6788 - val_accuracy: 0.7728\n",
            "Epoch 17/20\n",
            "625/625 [==============================] - 19s 30ms/step - loss: 0.6530 - accuracy: 0.7845 - val_loss: 0.6161 - val_accuracy: 0.7935\n",
            "Epoch 18/20\n",
            "625/625 [==============================] - 18s 30ms/step - loss: 0.6606 - accuracy: 0.7812 - val_loss: 0.6646 - val_accuracy: 0.7740\n",
            "Epoch 19/20\n",
            "625/625 [==============================] - 19s 30ms/step - loss: 0.6322 - accuracy: 0.7893 - val_loss: 0.6408 - val_accuracy: 0.7862\n",
            "Epoch 20/20\n",
            "625/625 [==============================] - 18s 29ms/step - loss: 0.6455 - accuracy: 0.7877 - val_loss: 0.6619 - val_accuracy: 0.7768\n"
          ],
          "name": "stdout"
        }
      ]
    },
    {
      "cell_type": "code",
      "metadata": {
        "id": "7sO07aVxz5Jn",
        "colab_type": "code",
        "outputId": "689fa013-fae9-423b-daf0-57bc7bd27fd0",
        "colab": {
          "base_uri": "https://localhost:8080/",
          "height": 750
        }
      },
      "source": [
        "model2 = Sequential([\n",
        "    Conv2D(filters=64, kernel_size=(3, 3), activation='relu', padding='same', input_shape=(32, 32, 3)),\n",
        "    Conv2D(filters=64, kernel_size=(3, 3), activation='relu', padding='same'),\n",
        "    BatchNormalization(),\n",
        "    MaxPool2D(pool_size=(3, 3), strides=(2, 2)),\n",
        "\n",
        "    Conv2D(filters=128, kernel_size=(3, 3), activation='relu', padding='same'),\n",
        "    Conv2D(filters=128, kernel_size=(3, 3), activation='relu', padding='same'),\n",
        "    BatchNormalization(),\n",
        "    MaxPool2D(pool_size=(3, 3), strides=(2, 2)),    \n",
        "\n",
        "    Conv2D(filters=256, kernel_size=(3, 3), activation='relu', padding='same'),\n",
        "    Conv2D(filters=256, kernel_size=(3, 3), activation='relu', padding='same'),\n",
        "    BatchNormalization(),\n",
        "    MaxPool2D(pool_size=(3, 3), strides=(2, 2)),    \n",
        "\n",
        "    Flatten(),\n",
        "    Dense(units=512, activation='relu'),\n",
        "    Dropout(0.5),\n",
        "    Dense(units=256, activation='relu'),    \n",
        "    Dropout(0.5),\n",
        "    Dense(units=10, activation='softmax')\n",
        "])\n",
        "\n",
        "model2.summary()"
      ],
      "execution_count": 0,
      "outputs": [
        {
          "output_type": "stream",
          "text": [
            "Model: \"sequential_1\"\n",
            "_________________________________________________________________\n",
            "Layer (type)                 Output Shape              Param #   \n",
            "=================================================================\n",
            "conv2d_6 (Conv2D)            (None, 32, 32, 64)        1792      \n",
            "_________________________________________________________________\n",
            "conv2d_7 (Conv2D)            (None, 32, 32, 64)        36928     \n",
            "_________________________________________________________________\n",
            "batch_normalization (BatchNo (None, 32, 32, 64)        256       \n",
            "_________________________________________________________________\n",
            "max_pooling2d_3 (MaxPooling2 (None, 15, 15, 64)        0         \n",
            "_________________________________________________________________\n",
            "conv2d_8 (Conv2D)            (None, 15, 15, 128)       73856     \n",
            "_________________________________________________________________\n",
            "conv2d_9 (Conv2D)            (None, 15, 15, 128)       147584    \n",
            "_________________________________________________________________\n",
            "batch_normalization_1 (Batch (None, 15, 15, 128)       512       \n",
            "_________________________________________________________________\n",
            "max_pooling2d_4 (MaxPooling2 (None, 7, 7, 128)         0         \n",
            "_________________________________________________________________\n",
            "conv2d_10 (Conv2D)           (None, 7, 7, 256)         295168    \n",
            "_________________________________________________________________\n",
            "conv2d_11 (Conv2D)           (None, 7, 7, 256)         590080    \n",
            "_________________________________________________________________\n",
            "batch_normalization_2 (Batch (None, 7, 7, 256)         1024      \n",
            "_________________________________________________________________\n",
            "max_pooling2d_5 (MaxPooling2 (None, 3, 3, 256)         0         \n",
            "_________________________________________________________________\n",
            "flatten_1 (Flatten)          (None, 2304)              0         \n",
            "_________________________________________________________________\n",
            "dense_3 (Dense)              (None, 512)               1180160   \n",
            "_________________________________________________________________\n",
            "dropout_2 (Dropout)          (None, 512)               0         \n",
            "_________________________________________________________________\n",
            "dense_4 (Dense)              (None, 256)               131328    \n",
            "_________________________________________________________________\n",
            "dropout_3 (Dropout)          (None, 256)               0         \n",
            "_________________________________________________________________\n",
            "dense_5 (Dense)              (None, 10)                2570      \n",
            "=================================================================\n",
            "Total params: 2,461,258\n",
            "Trainable params: 2,460,362\n",
            "Non-trainable params: 896\n",
            "_________________________________________________________________\n"
          ],
          "name": "stdout"
        }
      ]
    },
    {
      "cell_type": "code",
      "metadata": {
        "id": "8KXCiX-W7pud",
        "colab_type": "code",
        "outputId": "17728631-76eb-41be-cf2c-c4de7dae7754",
        "colab": {
          "base_uri": "https://localhost:8080/",
          "height": 853
        }
      },
      "source": [
        "model2.compile(optimizer='adam', loss='categorical_crossentropy', metrics=['accuracy'])\n",
        "\n",
        "his = model2.fit_generator(augmented_train, validation_data = (X_val, y_val_hot), epochs=20)\n",
        "\n",
        "history.append(his)"
      ],
      "execution_count": 0,
      "outputs": [
        {
          "output_type": "stream",
          "text": [
            "WARNING:tensorflow:sample_weight modes were coerced from\n",
            "  ...\n",
            "    to  \n",
            "  ['...']\n"
          ],
          "name": "stdout"
        },
        {
          "output_type": "stream",
          "text": [
            "WARNING:tensorflow:sample_weight modes were coerced from\n",
            "  ...\n",
            "    to  \n",
            "  ['...']\n"
          ],
          "name": "stderr"
        },
        {
          "output_type": "stream",
          "text": [
            "Train for 625 steps, validate on 10000 samples\n",
            "Epoch 1/20\n",
            "625/625 [==============================] - 20s 31ms/step - loss: 1.9671 - accuracy: 0.2907 - val_loss: 1.5306 - val_accuracy: 0.4548\n",
            "Epoch 2/20\n",
            "625/625 [==============================] - 19s 30ms/step - loss: 1.5295 - accuracy: 0.4353 - val_loss: 1.5134 - val_accuracy: 0.4563\n",
            "Epoch 3/20\n",
            "625/625 [==============================] - 19s 31ms/step - loss: 1.2957 - accuracy: 0.5407 - val_loss: 1.2230 - val_accuracy: 0.5927\n",
            "Epoch 4/20\n",
            "625/625 [==============================] - 19s 30ms/step - loss: 1.1241 - accuracy: 0.6141 - val_loss: 1.1164 - val_accuracy: 0.6294\n",
            "Epoch 5/20\n",
            "625/625 [==============================] - 19s 30ms/step - loss: 1.0005 - accuracy: 0.6636 - val_loss: 0.9040 - val_accuracy: 0.6843\n",
            "Epoch 6/20\n",
            "625/625 [==============================] - 19s 30ms/step - loss: 0.8951 - accuracy: 0.7043 - val_loss: 0.8558 - val_accuracy: 0.7186\n",
            "Epoch 7/20\n",
            "625/625 [==============================] - 19s 30ms/step - loss: 0.8317 - accuracy: 0.7324 - val_loss: 0.7447 - val_accuracy: 0.7565\n",
            "Epoch 8/20\n",
            "625/625 [==============================] - 19s 30ms/step - loss: 0.7647 - accuracy: 0.7551 - val_loss: 0.7989 - val_accuracy: 0.7287\n",
            "Epoch 9/20\n",
            "625/625 [==============================] - 19s 30ms/step - loss: 0.7169 - accuracy: 0.7714 - val_loss: 0.6344 - val_accuracy: 0.7878\n",
            "Epoch 10/20\n",
            "625/625 [==============================] - 19s 30ms/step - loss: 0.6794 - accuracy: 0.7836 - val_loss: 0.6599 - val_accuracy: 0.7804\n",
            "Epoch 11/20\n",
            "625/625 [==============================] - 19s 31ms/step - loss: 0.6360 - accuracy: 0.7965 - val_loss: 0.6242 - val_accuracy: 0.7922\n",
            "Epoch 12/20\n",
            "625/625 [==============================] - 19s 30ms/step - loss: 0.6116 - accuracy: 0.8065 - val_loss: 0.5846 - val_accuracy: 0.8193\n",
            "Epoch 13/20\n",
            "625/625 [==============================] - 19s 30ms/step - loss: 0.5821 - accuracy: 0.8134 - val_loss: 0.6628 - val_accuracy: 0.7776\n",
            "Epoch 14/20\n",
            "625/625 [==============================] - 19s 31ms/step - loss: 0.5494 - accuracy: 0.8243 - val_loss: 0.5301 - val_accuracy: 0.8230\n",
            "Epoch 15/20\n",
            "625/625 [==============================] - 19s 30ms/step - loss: 0.5321 - accuracy: 0.8321 - val_loss: 0.5450 - val_accuracy: 0.8214\n",
            "Epoch 16/20\n",
            "625/625 [==============================] - 19s 30ms/step - loss: 0.5088 - accuracy: 0.8382 - val_loss: 0.5139 - val_accuracy: 0.8331\n",
            "Epoch 17/20\n",
            "625/625 [==============================] - 19s 30ms/step - loss: 0.4860 - accuracy: 0.8478 - val_loss: 0.5117 - val_accuracy: 0.8345\n",
            "Epoch 18/20\n",
            "625/625 [==============================] - 19s 30ms/step - loss: 0.4694 - accuracy: 0.8515 - val_loss: 0.5233 - val_accuracy: 0.8286\n",
            "Epoch 19/20\n",
            "625/625 [==============================] - 19s 31ms/step - loss: 0.4453 - accuracy: 0.8582 - val_loss: 0.5225 - val_accuracy: 0.8262\n",
            "Epoch 20/20\n",
            "625/625 [==============================] - 19s 30ms/step - loss: 0.4216 - accuracy: 0.8658 - val_loss: 0.5408 - val_accuracy: 0.8228\n"
          ],
          "name": "stdout"
        }
      ]
    },
    {
      "cell_type": "code",
      "metadata": {
        "id": "ZjUEtAQOA3C5",
        "colab_type": "code",
        "outputId": "b7c2ed75-8f2d-49a6-b436-cb14638132a2",
        "colab": {
          "base_uri": "https://localhost:8080/",
          "height": 515
        }
      },
      "source": [
        "model_name = [\"Without BN\", \"With BN\"]\n",
        "\n",
        "plt.rcParams['figure.figsize'] = [12, 4]\n",
        "plt.subplots_adjust(wspace=0.2, hspace=0.5)\n",
        "\n",
        "plt.subplot(1, 2, 1)\n",
        "for i, name in enumerate(model_name):\n",
        "  plt.plot(history[i].history['accuracy'], label='accuracy ' + name)\n",
        "plt.title(\"Classification Train Accuracy\")\n",
        "plt.xlabel('Epoch')\n",
        "plt.legend()\n",
        "\n",
        "plt.subplot(1, 2, 2)\n",
        "for i, name in enumerate(model_name):\n",
        "  plt.plot(history[i].history['loss'], label='loss ' + name)\n",
        "plt.title(\"Classification Train Loss\")\n",
        "plt.xlabel('Epoch')\n",
        "plt.legend()\n",
        "plt.show()\n",
        "\n",
        "plt.subplot(1, 2, 1)\n",
        "for i, name in enumerate(model_name):\n",
        "  plt.plot(history[i].history['val_accuracy'], label='val_accuracy ' + name)\n",
        "plt.title(\"Classification Validation Accuracy\")\n",
        "plt.xlabel('Epoch')\n",
        "plt.legend()\n",
        "\n",
        "plt.subplot(1, 2, 2)\n",
        "for i, name in enumerate(model_name):\n",
        "  plt.plot(history[i].history['val_loss'], label='val_loss ' + name)\n",
        "plt.title(\"Classification Validation Loss\")\n",
        "plt.xlabel('Epoch')\n",
        "plt.legend()\n",
        "plt.show()"
      ],
      "execution_count": 0,
      "outputs": [
        {
          "output_type": "display_data",
          "data": {
            "image/png": "[encoded data removed]",
            "text/plain": [
              "<Figure size 864x288 with 2 Axes>"
            ]
          },
          "metadata": {
            "tags": []
          }
        },
        {
          "output_type": "display_data",
          "data": {
            "image/png": "[encoded data removed]",
            "text/plain": [
              "<Figure size 864x288 with 2 Axes>"
            ]
          },
          "metadata": {
            "tags": []
          }
        }
      ]
    },
    {
      "cell_type": "markdown",
      "metadata": {
        "id": "nmti3imp1qUp",
        "colab_type": "text"
      },
      "source": [
        "# Evaluate Model"
      ]
    },
    {
      "cell_type": "markdown",
      "metadata": {
        "id": "cw_lUHrC1qQk",
        "colab_type": "text"
      },
      "source": [
        "## Model Performance without Batch Normalization"
      ]
    },
    {
      "cell_type": "code",
      "metadata": {
        "id": "m9Wi_1-F1ntV",
        "colab_type": "code",
        "outputId": "b534abec-43f4-404c-eb42-ec151f30204a",
        "colab": {
          "base_uri": "https://localhost:8080/",
          "height": 136
        }
      },
      "source": [
        "train_scores = model1.evaluate(X_train, y_train_hot, batch_size=16, verbose=1)\n",
        "test_scores  = model1.evaluate(X_test, y_test_hot, batch_size=16, verbose=1)\n",
        "val_scores   = model1.evaluate(X_val, y_val_hot, batch_size=16, verbose=1)\n",
        "\n",
        "print('Train Loss: %.5f with Accuracy: %.1f%%' % (train_scores[0], (train_scores[1]*100)))\n",
        "print('Test  Loss: %.5f with Accuracy: %.1f%%' % (test_scores[0], (test_scores[1]*100)))\n",
        "print('Val   Loss: %.5f with Accuracy: %.1f%%' % (val_scores[0], (val_scores[1]*100)))"
      ],
      "execution_count": 0,
      "outputs": [
        {
          "output_type": "stream",
          "text": [
            "40000/40000 [==============================] - 7s 178us/sample - loss: 0.5412 - accuracy: 0.8115\n",
            "10000/10000 [==============================] - 2s 176us/sample - loss: 0.6606 - accuracy: 0.7757\n",
            "10000/10000 [==============================] - 2s 176us/sample - loss: 0.6619 - accuracy: 0.7768\n",
            "Train Loss: 0.54122 with Accuracy: 81.2%\n",
            "Test  Loss: 0.66061 with Accuracy: 77.6%\n",
            "Val   Loss: 0.66188 with Accuracy: 77.7%\n"
          ],
          "name": "stdout"
        }
      ]
    },
    {
      "cell_type": "markdown",
      "metadata": {
        "id": "8mp7vcSH1w8u",
        "colab_type": "text"
      },
      "source": [
        "## Model Performance with Batch Normalization"
      ]
    },
    {
      "cell_type": "code",
      "metadata": {
        "id": "0b7gvogD1zai",
        "colab_type": "code",
        "outputId": "679c56c0-1f77-422e-be9b-f75238621eba",
        "colab": {
          "base_uri": "https://localhost:8080/",
          "height": 136
        }
      },
      "source": [
        "train_scores = model2.evaluate(X_train, y_train_hot, batch_size=16, verbose=1)\n",
        "test_scores  = model2.evaluate(X_test, y_test_hot, batch_size=16, verbose=1)\n",
        "val_scores   = model2.evaluate(X_val, y_val_hot, batch_size=16, verbose=1)\n",
        "\n",
        "print('Train Loss: %.5f with Accuracy: %.1f%%' % (train_scores[0], (train_scores[1]*100)))\n",
        "print('Test  Loss: %.5f with Accuracy: %.1f%%' % (test_scores[0], (test_scores[1]*100)))\n",
        "print('Val   Loss: %.5f with Accuracy: %.1f%%' % (val_scores[0], (val_scores[1]*100)))"
      ],
      "execution_count": 0,
      "outputs": [
        {
          "output_type": "stream",
          "text": [
            "40000/40000 [==============================] - 7s 177us/sample - loss: 0.4074 - accuracy: 0.8641\n",
            "10000/10000 [==============================] - 2s 174us/sample - loss: 0.5652 - accuracy: 0.8208\n",
            "10000/10000 [==============================] - 2s 179us/sample - loss: 0.5408 - accuracy: 0.8228\n",
            "Train Loss: 0.40741 with Accuracy: 86.4%\n",
            "Test  Loss: 0.56519 with Accuracy: 82.1%\n",
            "Val   Loss: 0.54078 with Accuracy: 82.3%\n"
          ],
          "name": "stdout"
        }
      ]
    },
    {
      "cell_type": "markdown",
      "metadata": {
        "id": "_qQy_HaP8yKb",
        "colab_type": "text"
      },
      "source": [
        "As we can see, the network with Batch Normalization could study better than the network without Batch Normalization. Let's see what is Batch Normalization."
      ]
    },
    {
      "cell_type": "markdown",
      "metadata": {
        "id": "fXCC7Tmp9JAL",
        "colab_type": "text"
      },
      "source": [
        "# Batch Normalization\n",
        "\n",
        "Batch Normalization is one of regularization techniques that is used in CNN. The aim is to make the network learn better by normalizing the output of a convolution layer before go to the next convolution layer. It enables us to opt for higher learning rates and use sigmoid activation functions even for Deep Neural Networks. It addresses <font color = 'red'>gradient vanishing</font> and <font color = 'red'>gradient explosion</font> by countering the <font color = 'blue'>Internal Covariate Shift</font>."
      ]
    },
    {
      "cell_type": "markdown",
      "metadata": {
        "id": "ea_lXYfFzOra",
        "colab_type": "text"
      },
      "source": [
        "## Internal Covariate Shift\n",
        "\n",
        "When we train the Neural networks, the training data will go into the network and the error between the expected value and the output value from the Neural network is calculated. The weight update of nueral network is done using one of some optimization techniques, such as SGD, AdaGrad, Adam, RMSprop, etc.\n",
        "\n",
        "In the context of Neural networks, they are <font color='blue'> optimized using batches of data </font> being fed into the network. If the training and test data have <font color='red'> different sources </font>, they will have <font color='red'> different distributions</font>. These batches of inputs can have a <font color='red'> different distribution</font>, i.e. a slightly varying mean and variance from the sample (i.e., entire dataset considered) mean and variance.\n",
        "\n",
        "The weights of various layers of the Neural networks are updated while training. This means that the <font color='red'> activation function changes </font> throughout training, and these weights are then fed into the next layer. Now, when the input distribution of the next batch (or set of inputs) is different, the Neural network is <font color='red'> forced to change and adapt </font> according to the changing input batches. So, training Neural networks becomes much more complex when the values of parameters change continuously with new input batches. This changing parameter value slows down the training process by requiring lower learning rates and more careful optimization. We define <font color='red'> Internal Covariate Shift </font> as the change in the distribution of network activations due to the change in network parameters during training.\n",
        "\n",
        "<p align=center>\n",
        "<img src=\"https://github.com/Malikanhar/Deep-Learning-for-Image-Classification/raw/master/More%20Flavor%20with%20Batch%20Normalization/Images/internal_covariate_shift.JPG\" width='600'><br>\n",
        "</p>\n",
        "\n",
        "<font color='blue'> Batch Normalization </font> is the solution to the <font color='red'> internal covariate shift </font> and makes the optimization care less about the initialization.\n",
        "\n",
        "## Addressing the Internal Covariate Shift\n",
        "It is already known that the loss function would converge faster if it is <font color = 'blue'>whitened</font> — i.e., linearly transformed to have zero means and unit variances, and decorrelated. This whitening process could be done at every step of training or a fixed interval. If the input data batches have been <font color = 'blue'>whitened</font> (either at every training step or some intervals), it would be a step towards <font color = 'blue'> addressing</font> the <font color = 'red'>internal covariate shift</font>.\n",
        "\n",
        "source : https://medium.com/towards-artificial-intelligence/why-batch-normalization-matters-4a6d753ba309"
      ]
    },
    {
      "cell_type": "markdown",
      "metadata": {
        "id": "C1inFgOOPMdK",
        "colab_type": "text"
      },
      "source": [
        "## How Does Batch Normalization Work?\n",
        "\n",
        "- First, compute the empirical <font color = 'blue'>mean</font> and <font color = 'blue'>variance</font> for each batch.\n",
        "\n",
        "<p align=center>\n",
        "<img src=\"https://github.com/Malikanhar/Deep-Learning-for-Image-Classification/raw/master/More%20Flavor%20with%20Batch%20Normalization/Images/mean_formula.JPG\" height='65'><br>\n",
        "</p>\n",
        "\n",
        "<p align=center>\n",
        "<img src=\"https://github.com/Malikanhar/Deep-Learning-for-Image-Classification/raw/master/More%20Flavor%20with%20Batch%20Normalization/Images/var_formula.JPG\" height='65'><br>\n",
        "</p>\n",
        "\n",
        "- Then, <font color = 'blue'>normalize</font> the input.\n",
        "\n",
        "<p align=center>\n",
        "<img src=\"https://github.com/Malikanhar/Deep-Learning-for-Image-Classification/raw/master/More%20Flavor%20with%20Batch%20Normalization/Images/norm_formula.JPG\" height='60'><br>\n",
        "</p>\n",
        "\n",
        "- Finally, <font color = 'blue'>scale</font> and <font color = 'blue'>shift</font> the data by squashing through a linear funtion with parameters <font color = 'red'>gamma</font> and <font color = 'red'>beta</font>.\n",
        "\n",
        "<p align=center>\n",
        "<img src=\"https://github.com/Malikanhar/Deep-Learning-for-Image-Classification/raw/master/More%20Flavor%20with%20Batch%20Normalization/Images/scale_shift_formula.JPG\" height='25'><br>\n",
        "</p>"
      ]
    },
    {
      "cell_type": "markdown",
      "metadata": {
        "id": "iLZkqtUd6yLC",
        "colab_type": "text"
      },
      "source": [
        "<p>Copyright &copy;  <a href=https://www.linkedin.com/in/malikanhar/>2019 - MALIK</a> </p>"
      ]
    }
  ]
}